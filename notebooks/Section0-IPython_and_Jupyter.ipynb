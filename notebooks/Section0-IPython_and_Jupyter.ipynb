{
 "cells": [
  {
   "cell_type": "markdown",
   "metadata": {},
   "source": [
    "# IPython\n",
    "\n",
    "**IPython** (Interactive Python) is an enhanced Python shell which provides a more robust and productive development environment for users. There are several key features that set it apart from the standard Python shell.\n",
    "\n",
    "### History\n",
    "\n",
    "In IPython, all your inputs and outputs are saved. There are two variables named `In` and `Out` which are assigned as you work with your results. All outputs are saved automatically to variables of the form `_N`, where `N` is the prompt number, and inputs to `_iN`. This allows you to recover quickly the result of a prior computation by referring to its number even if you forgot to store it as a variable. "
   ]
  },
  {
   "cell_type": "code",
   "execution_count": 1,
   "metadata": {},
   "outputs": [
    {
     "data": {
      "text/plain": [
       "0.57275001690430671"
      ]
     },
     "execution_count": 1,
     "metadata": {},
     "output_type": "execute_result"
    }
   ],
   "source": [
    "import numpy as np\n",
    "np.sin(4)**2"
   ]
  },
  {
   "cell_type": "code",
   "execution_count": 2,
   "metadata": {},
   "outputs": [
    {
     "data": {
      "text/plain": [
       "0.57275001690430671"
      ]
     },
     "execution_count": 2,
     "metadata": {},
     "output_type": "execute_result"
    }
   ],
   "source": [
    "_1"
   ]
  },
  {
   "cell_type": "code",
   "execution_count": 3,
   "metadata": {},
   "outputs": [
    {
     "data": {
      "text/plain": [
       "'import numpy as np\\nnp.sin(4)**2'"
      ]
     },
     "execution_count": 3,
     "metadata": {},
     "output_type": "execute_result"
    }
   ],
   "source": [
    "_i1"
   ]
  },
  {
   "cell_type": "code",
   "execution_count": 4,
   "metadata": {},
   "outputs": [
    {
     "data": {
      "text/plain": [
       "0.14318750422607668"
      ]
     },
     "execution_count": 4,
     "metadata": {},
     "output_type": "execute_result"
    }
   ],
   "source": [
    "_1 / 4."
   ]
  },
  {
   "cell_type": "markdown",
   "metadata": {},
   "source": [
    "### Output is asynchronous\n",
    "\n",
    "All output is displayed asynchronously as it is generated in the Kernel. If you execute the next cell, you will see the output one piece at a time, not all at the end."
   ]
  },
  {
   "cell_type": "code",
   "execution_count": 5,
   "metadata": {},
   "outputs": [
    {
     "name": "stdout",
     "output_type": "stream",
     "text": [
      "0\n",
      "1\n",
      "2\n",
      "3\n",
      "4\n",
      "5\n",
      "6\n",
      "7\n"
     ]
    }
   ],
   "source": [
    "import time, sys\n",
    "for i in range(8):\n",
    "    print(i)\n",
    "    time.sleep(0.5)"
   ]
  },
  {
   "cell_type": "markdown",
   "metadata": {},
   "source": [
    "### Introspection\n",
    "\n",
    "If you want details regarding the properties and functionality of any Python objects currently loaded into IPython, you can use the `?` to reveal any details that are available:"
   ]
  },
  {
   "cell_type": "code",
   "execution_count": 6,
   "metadata": {},
   "outputs": [],
   "source": [
    "some_dict = {}\n",
    "some_dict?"
   ]
  },
  {
   "cell_type": "markdown",
   "metadata": {},
   "source": [
    "If available, additional detail is provided with two question marks, including the source code of the object itself."
   ]
  },
  {
   "cell_type": "code",
   "execution_count": 7,
   "metadata": {},
   "outputs": [],
   "source": [
    "from numpy.linalg import cholesky\n",
    "cholesky??"
   ]
  },
  {
   "cell_type": "markdown",
   "metadata": {},
   "source": [
    "This syntax can also be used to search namespaces with wildcards (\\*)."
   ]
  },
  {
   "cell_type": "code",
   "execution_count": 8,
   "metadata": {},
   "outputs": [],
   "source": [
    "%matplotlib inline\n",
    "import pylab as plt\n",
    "plt.*plot*?"
   ]
  },
  {
   "cell_type": "markdown",
   "metadata": {},
   "source": [
    "### Tab completion\n",
    "\n",
    "Because IPython allows for introspection, it is able to afford the user the ability to tab-complete commands that have been partially typed. This is done by pressing the `<tab>` key at any point during the process of typing a command:"
   ]
  },
  {
   "cell_type": "code",
   "execution_count": 9,
   "metadata": {
    "collapsed": true
   },
   "outputs": [
    {
     "ename": "AttributeError",
     "evalue": "module 'numpy' has no attribute 'ar'",
     "output_type": "error",
     "traceback": [
      "\u001b[0;31m-----------------------------------------------------\u001b[0m",
      "\u001b[0;31mAttributeError\u001b[0m      Traceback (most recent call last)",
      "\u001b[0;32m<ipython-input-9-4dcec8b5eefc>\u001b[0m in \u001b[0;36m<module>\u001b[0;34m()\u001b[0m\n\u001b[0;32m----> 1\u001b[0;31m \u001b[0mnp\u001b[0m\u001b[0;34m.\u001b[0m\u001b[0mar\u001b[0m\u001b[0;34m\u001b[0m\u001b[0m\n\u001b[0m",
      "\u001b[0;31mAttributeError\u001b[0m: module 'numpy' has no attribute 'ar'"
     ]
    }
   ],
   "source": [
    "np.ar"
   ]
  },
  {
   "cell_type": "markdown",
   "metadata": {},
   "source": [
    "This can even be used to help with specifying arguments to functions, which can sometimes be difficult to remember:"
   ]
  },
  {
   "cell_type": "code",
   "execution_count": null,
   "metadata": {},
   "outputs": [],
   "source": [
    "plt.hist()"
   ]
  },
  {
   "cell_type": "markdown",
   "metadata": {},
   "source": [
    "### System commands\n",
    "\n",
    "In IPython, you can type `ls` to see your files or `cd` to change directories, just like you would at a regular system prompt:"
   ]
  },
  {
   "cell_type": "code",
   "execution_count": 10,
   "metadata": {},
   "outputs": [
    {
     "name": "stdout",
     "output_type": "stream",
     "text": [
      "[proxychains] DLL init: proxychains-ng 4.10\n",
      "[proxychains] DLL init: proxychains-ng 4.10\n",
      "ls: /Users/fonnescj/Teaching/Bios8366/data: No such file or directory\n"
     ]
    }
   ],
   "source": [
    "ls /Users/fonnescj/Teaching/Bios8366/data"
   ]
  },
  {
   "cell_type": "markdown",
   "metadata": {},
   "source": [
    "Virtually any system command can be accessed by prepending `!`, which passes any subsequent command directly to the OS."
   ]
  },
  {
   "cell_type": "code",
   "execution_count": 11,
   "metadata": {
    "scrolled": true
   },
   "outputs": [
    {
     "name": "stdout",
     "output_type": "stream",
     "text": [
      "[proxychains] DLL init: proxychains-ng 4.10\n",
      "[proxychains] DLL init: proxychains-ng 4.10\n",
      "[proxychains] DLL init: proxychains-ng 4.10\n",
      "/Applications/MATLAB_R2015b.app/help/pdf_doc/mps/mps_python.pdf\n",
      "/Applications/TeX/TeXShop.app/Contents/Resources/TeXShop/Engines/Inactive/pythontex/README.pdf\n",
      "/Applications/TeX/TeXShop.app/Contents/Resources/TeXShop/Engines/Inactive/pythontex/pythontex_gallery.pdf\n",
      "/System/Library/Frameworks/Python.framework/Versions/2.6/Extras/lib/python/matplotlib/backends/backend_pdf.py\n",
      "/System/Library/Frameworks/Python.framework/Versions/2.6/Extras/lib/python/matplotlib/backends/backend_pdf.pyc\n",
      "/System/Library/Frameworks/Python.framework/Versions/2.6/Extras/lib/python/matplotlib/mpl-data/fonts/pdfcorefonts\n",
      "/System/Library/Frameworks/Python.framework/Versions/2.6/Extras/lib/python/matplotlib/mpl-data/fonts/pdfcorefonts/Courier-Bold.afm\n",
      "/System/Library/Frameworks/Python.framework/Versions/2.6/Extras/lib/python/matplotlib/mpl-data/fonts/pdfcorefonts/Courier-BoldOblique.afm\n",
      "/System/Library/Frameworks/Python.framework/Versions/2.6/Extras/lib/python/matplotlib/mpl-data/fonts/pdfcorefonts/Courier-Oblique.afm\n",
      "/System/Library/Frameworks/Python.framework/Versions/2.6/Extras/lib/python/matplotlib/mpl-data/fonts/pdfcorefonts/Courier.afm\n",
      "/System/Library/Frameworks/Python.framework/Versions/2.6/Extras/lib/python/matplotlib/mpl-data/fonts/pdfcorefonts/Helvetica-Bold.afm\n",
      "/System/Library/Frameworks/Python.framework/Versions/2.6/Extras/lib/python/matplotlib/mpl-data/fonts/pdfcorefonts/Helvetica-BoldOblique.afm\n",
      "/System/Library/Frameworks/Python.framework/Versions/2.6/Extras/lib/python/matplotlib/mpl-data/fonts/pdfcorefonts/Helvetica-Oblique.afm\n",
      "/System/Library/Frameworks/Python.framework/Versions/2.6/Extras/lib/python/matplotlib/mpl-data/fonts/pdfcorefonts/Helvetica.afm\n",
      "/System/Library/Frameworks/Python.framework/Versions/2.6/Extras/lib/python/matplotlib/mpl-data/fonts/pdfcorefonts/Symbol.afm\n",
      "/System/Library/Frameworks/Python.framework/Versions/2.6/Extras/lib/python/matplotlib/mpl-data/fonts/pdfcorefonts/Times-Bold.afm\n",
      "/System/Library/Frameworks/Python.framework/Versions/2.6/Extras/lib/python/matplotlib/mpl-data/fonts/pdfcorefonts/Times-BoldItalic.afm\n",
      "/System/Library/Frameworks/Python.framework/Versions/2.6/Extras/lib/python/matplotlib/mpl-data/fonts/pdfcorefonts/Times-Italic.afm\n",
      "/System/Library/Frameworks/Python.framework/Versions/2.6/Extras/lib/python/matplotlib/mpl-data/fonts/pdfcorefonts/Times-Roman.afm\n",
      "/System/Library/Frameworks/Python.framework/Versions/2.6/Extras/lib/python/matplotlib/mpl-data/fonts/pdfcorefonts/ZapfDingbats.afm\n",
      "/System/Library/Frameworks/Python.framework/Versions/2.6/Extras/lib/python/matplotlib/mpl-data/fonts/pdfcorefonts/readme.txt\n",
      "/System/Library/Frameworks/Python.framework/Versions/2.6/Extras/lib/python/matplotlib/tests/test_backend_pdf.py\n",
      "/System/Library/Frameworks/Python.framework/Versions/2.6/Extras/lib/python/matplotlib/tests/test_backend_pdf.pyc\n",
      "/System/Library/Frameworks/Python.framework/Versions/2.7/Extras/lib/python/matplotlib/backends/backend_pdf.py\n",
      "/System/Library/Frameworks/Python.framework/Versions/2.7/Extras/lib/python/matplotlib/backends/backend_pdf.pyc\n",
      "/System/Library/Frameworks/Python.framework/Versions/2.7/Extras/lib/python/matplotlib/mpl-data/fonts/pdfcorefonts\n",
      "/System/Library/Frameworks/Python.framework/Versions/2.7/Extras/lib/python/matplotlib/mpl-data/fonts/pdfcorefonts/Courier-Bold.afm\n",
      "/System/Library/Frameworks/Python.framework/Versions/2.7/Extras/lib/python/matplotlib/mpl-data/fonts/pdfcorefonts/Courier-BoldOblique.afm\n",
      "/System/Library/Frameworks/Python.framework/Versions/2.7/Extras/lib/python/matplotlib/mpl-data/fonts/pdfcorefonts/Courier-Oblique.afm\n",
      "/System/Library/Frameworks/Python.framework/Versions/2.7/Extras/lib/python/matplotlib/mpl-data/fonts/pdfcorefonts/Courier.afm\n",
      "/System/Library/Frameworks/Python.framework/Versions/2.7/Extras/lib/python/matplotlib/mpl-data/fonts/pdfcorefonts/Helvetica-Bold.afm\n",
      "/System/Library/Frameworks/Python.framework/Versions/2.7/Extras/lib/python/matplotlib/mpl-data/fonts/pdfcorefonts/Helvetica-BoldOblique.afm\n",
      "/System/Library/Frameworks/Python.framework/Versions/2.7/Extras/lib/python/matplotlib/mpl-data/fonts/pdfcorefonts/Helvetica-Oblique.afm\n",
      "/System/Library/Frameworks/Python.framework/Versions/2.7/Extras/lib/python/matplotlib/mpl-data/fonts/pdfcorefonts/Helvetica.afm\n",
      "/System/Library/Frameworks/Python.framework/Versions/2.7/Extras/lib/python/matplotlib/mpl-data/fonts/pdfcorefonts/Symbol.afm\n",
      "/System/Library/Frameworks/Python.framework/Versions/2.7/Extras/lib/python/matplotlib/mpl-data/fonts/pdfcorefonts/Times-Bold.afm\n",
      "/System/Library/Frameworks/Python.framework/Versions/2.7/Extras/lib/python/matplotlib/mpl-data/fonts/pdfcorefonts/Times-BoldItalic.afm\n",
      "/System/Library/Frameworks/Python.framework/Versions/2.7/Extras/lib/python/matplotlib/mpl-data/fonts/pdfcorefonts/Times-Italic.afm\n",
      "/System/Library/Frameworks/Python.framework/Versions/2.7/Extras/lib/python/matplotlib/mpl-data/fonts/pdfcorefonts/Times-Roman.afm\n",
      "/System/Library/Frameworks/Python.framework/Versions/2.7/Extras/lib/python/matplotlib/mpl-data/fonts/pdfcorefonts/ZapfDingbats.afm\n",
      "/System/Library/Frameworks/Python.framework/Versions/2.7/Extras/lib/python/matplotlib/mpl-data/fonts/pdfcorefonts/readme.txt\n",
      "/System/Library/Frameworks/Python.framework/Versions/2.7/Extras/lib/python/matplotlib/tests/baseline_images/test_arrow_patches/fancyarrow_test_image.pdf\n",
      "/System/Library/Frameworks/Python.framework/Versions/2.7/Extras/lib/python/matplotlib/tests/baseline_images/test_artist/clip_path_clipping.pdf\n",
      "/System/Library/Frameworks/Python.framework/Versions/2.7/Extras/lib/python/matplotlib/tests/baseline_images/test_axes/arc_ellipse.pdf\n",
      "/System/Library/Frameworks/Python.framework/Versions/2.7/Extras/lib/python/matplotlib/tests/baseline_images/test_axes/autoscale_tiny_range.pdf\n",
      "/System/Library/Frameworks/Python.framework/Versions/2.7/Extras/lib/python/matplotlib/tests/baseline_images/test_axes/axhspan_epoch.pdf\n",
      "/System/Library/Frameworks/Python.framework/Versions/2.7/Extras/lib/python/matplotlib/tests/baseline_images/test_axes/axvspan_epoch.pdf\n",
      "/System/Library/Frameworks/Python.framework/Versions/2.7/Extras/lib/python/matplotlib/tests/baseline_images/test_axes/boxplot.pdf\n",
      "/System/Library/Frameworks/Python.framework/Versions/2.7/Extras/lib/python/matplotlib/tests/baseline_images/test_axes/canonical.pdf\n",
      "/System/Library/Frameworks/Python.framework/Versions/2.7/Extras/lib/python/matplotlib/tests/baseline_images/test_axes/const_xy.pdf\n",
      "/System/Library/Frameworks/Python.framework/Versions/2.7/Extras/lib/python/matplotlib/tests/baseline_images/test_axes/contour_colorbar.pdf\n",
      "/System/Library/Frameworks/Python.framework/Versions/2.7/Extras/lib/python/matplotlib/tests/baseline_images/test_axes/contour_hatching.pdf\n",
      "/System/Library/Frameworks/Python.framework/Versions/2.7/Extras/lib/python/matplotlib/tests/baseline_images/test_axes/errorbar_basic.pdf\n",
      "/System/Library/Frameworks/Python.framework/Versions/2.7/Extras/lib/python/matplotlib/tests/baseline_images/test_axes/errorbar_mixed.pdf\n",
      "/System/Library/Frameworks/Python.framework/Versions/2.7/Extras/lib/python/matplotlib/tests/baseline_images/test_axes/errorbar_zorder.pdf\n",
      "/System/Library/Frameworks/Python.framework/Versions/2.7/Extras/lib/python/matplotlib/tests/baseline_images/test_axes/eventplot.pdf\n",
      "/System/Library/Frameworks/Python.framework/Versions/2.7/Extras/lib/python/matplotlib/tests/baseline_images/test_axes/fill_between_interpolate.pdf\n",
      "/System/Library/Frameworks/Python.framework/Versions/2.7/Extras/lib/python/matplotlib/tests/baseline_images/test_axes/formatter_large_small.pdf\n",
      "/System/Library/Frameworks/Python.framework/Versions/2.7/Extras/lib/python/matplotlib/tests/baseline_images/test_axes/formatter_ticker_001.pdf\n",
      "/System/Library/Frameworks/Python.framework/Versions/2.7/Extras/lib/python/matplotlib/tests/baseline_images/test_axes/formatter_ticker_002.pdf\n",
      "/System/Library/Frameworks/Python.framework/Versions/2.7/Extras/lib/python/matplotlib/tests/baseline_images/test_axes/formatter_ticker_003.pdf\n",
      "/System/Library/Frameworks/Python.framework/Versions/2.7/Extras/lib/python/matplotlib/tests/baseline_images/test_axes/formatter_ticker_004.pdf\n",
      "/System/Library/Frameworks/Python.framework/Versions/2.7/Extras/lib/python/matplotlib/tests/baseline_images/test_axes/formatter_ticker_005.pdf\n",
      "/System/Library/Frameworks/Python.framework/Versions/2.7/Extras/lib/python/matplotlib/tests/baseline_images/test_axes/hist2d.pdf\n",
      "/System/Library/Frameworks/Python.framework/Versions/2.7/Extras/lib/python/matplotlib/tests/baseline_images/test_axes/hist2d_transpose.pdf\n",
      "/System/Library/Frameworks/Python.framework/Versions/2.7/Extras/lib/python/matplotlib/tests/baseline_images/test_axes/hist_log.pdf\n",
      "/System/Library/Frameworks/Python.framework/Versions/2.7/Extras/lib/python/matplotlib/tests/baseline_images/test_axes/hist_offset.pdf\n",
      "/System/Library/Frameworks/Python.framework/Versions/2.7/Extras/lib/python/matplotlib/tests/baseline_images/test_axes/hist_stacked_bar.pdf\n",
      "/System/Library/Frameworks/Python.framework/Versions/2.7/Extras/lib/python/matplotlib/tests/baseline_images/test_axes/hist_stacked_normed.pdf\n",
      "/System/Library/Frameworks/Python.framework/Versions/2.7/Extras/lib/python/matplotlib/tests/baseline_images/test_axes/hist_stacked_step.pdf\n",
      "/System/Library/Frameworks/Python.framework/Versions/2.7/Extras/lib/python/matplotlib/tests/baseline_images/test_axes/hist_stacked_stepfilled.pdf\n",
      "/System/Library/Frameworks/Python.framework/Versions/2.7/Extras/lib/python/matplotlib/tests/baseline_images/test_axes/hist_stacked_stepfilled_alpha.pdf\n",
      "/System/Library/Frameworks/Python.framework/Versions/2.7/Extras/lib/python/matplotlib/tests/baseline_images/test_axes/hist_stacked_weights.pdf\n",
      "/System/Library/Frameworks/Python.framework/Versions/2.7/Extras/lib/python/matplotlib/tests/baseline_images/test_axes/hist_steplog.pdf\n",
      "/System/Library/Frameworks/Python.framework/Versions/2.7/Extras/lib/python/matplotlib/tests/baseline_images/test_axes/imshow.pdf\n",
      "/System/Library/Frameworks/Python.framework/Versions/2.7/Extras/lib/python/matplotlib/tests/baseline_images/test_axes/imshow_clip.pdf\n",
      "/System/Library/Frameworks/Python.framework/Versions/2.7/Extras/lib/python/matplotlib/tests/baseline_images/test_axes/log_scales.pdf\n",
      "/System/Library/Frameworks/Python.framework/Versions/2.7/Extras/lib/python/matplotlib/tests/baseline_images/test_axes/marker_edges.pdf\n",
      "/System/Library/Frameworks/Python.framework/Versions/2.7/Extras/lib/python/matplotlib/tests/baseline_images/test_axes/markevery.pdf\n",
      "/System/Library/Frameworks/Python.framework/Versions/2.7/Extras/lib/python/matplotlib/tests/baseline_images/test_axes/markevery_line.pdf\n",
      "/System/Library/Frameworks/Python.framework/Versions/2.7/Extras/lib/python/matplotlib/tests/baseline_images/test_axes/mixed_collection.pdf\n",
      "/System/Library/Frameworks/Python.framework/Versions/2.7/Extras/lib/python/matplotlib/tests/baseline_images/test_axes/mollweide_grid.pdf\n",
      "/System/Library/Frameworks/Python.framework/Versions/2.7/Extras/lib/python/matplotlib/tests/baseline_images/test_axes/nonfinite_limits.pdf\n",
      "/System/Library/Frameworks/Python.framework/Versions/2.7/Extras/lib/python/matplotlib/tests/baseline_images/test_axes/offset_points.pdf\n",
      "/System/Library/Frameworks/Python.framework/Versions/2.7/Extras/lib/python/matplotlib/tests/baseline_images/test_axes/pcolormesh.pdf\n",
      "/System/Library/Frameworks/Python.framework/Versions/2.7/Extras/lib/python/matplotlib/tests/baseline_images/test_axes/polar_axes.pdf\n",
      "/System/Library/Frameworks/Python.framework/Versions/2.7/Extras/lib/python/matplotlib/tests/baseline_images/test_axes/polar_coords.pdf\n",
      "/System/Library/Frameworks/Python.framework/Versions/2.7/Extras/lib/python/matplotlib/tests/baseline_images/test_axes/polar_rmin.pdf\n",
      "/System/Library/Frameworks/Python.framework/Versions/2.7/Extras/lib/python/matplotlib/tests/baseline_images/test_axes/polar_theta_position.pdf\n",
      "/System/Library/Frameworks/Python.framework/Versions/2.7/Extras/lib/python/matplotlib/tests/baseline_images/test_axes/polar_units.pdf\n",
      "/System/Library/Frameworks/Python.framework/Versions/2.7/Extras/lib/python/matplotlib/tests/baseline_images/test_axes/polar_units_2.pdf\n",
      "/System/Library/Frameworks/Python.framework/Versions/2.7/Extras/lib/python/matplotlib/tests/baseline_images/test_axes/polar_wrap_180.pdf\n",
      "/System/Library/Frameworks/Python.framework/Versions/2.7/Extras/lib/python/matplotlib/tests/baseline_images/test_axes/polar_wrap_360.pdf\n",
      "/System/Library/Frameworks/Python.framework/Versions/2.7/Extras/lib/python/matplotlib/tests/baseline_images/test_axes/polycollection_joinstyle.pdf\n",
      "/System/Library/Frameworks/Python.framework/Versions/2.7/Extras/lib/python/matplotlib/tests/baseline_images/test_axes/scatter.pdf\n",
      "/System/Library/Frameworks/Python.framework/Versions/2.7/Extras/lib/python/matplotlib/tests/baseline_images/test_axes/shaped_data.pdf\n",
      "/System/Library/Frameworks/Python.framework/Versions/2.7/Extras/lib/python/matplotlib/tests/baseline_images/test_axes/single_date.pdf\n",
      "/System/Library/Frameworks/Python.framework/Versions/2.7/Extras/lib/python/matplotlib/tests/baseline_images/test_axes/single_point.pdf\n",
      "/System/Library/Frameworks/Python.framework/Versions/2.7/Extras/lib/python/matplotlib/tests/baseline_images/test_axes/stackplot_test_baseline.pdf\n",
      "/System/Library/Frameworks/Python.framework/Versions/2.7/Extras/lib/python/matplotlib/tests/baseline_images/test_axes/stackplot_test_image.pdf\n",
      "/System/Library/Frameworks/Python.framework/Versions/2.7/Extras/lib/python/matplotlib/tests/baseline_images/test_axes/step_linestyle.pdf\n",
      "/System/Library/Frameworks/Python.framework/Versions/2.7/Extras/lib/python/matplotlib/tests/baseline_images/test_axes/symlog.pdf\n",
      "/System/Library/Frameworks/Python.framework/Versions/2.7/Extras/lib/python/matplotlib/tests/baseline_images/test_axes/symlog2.pdf\n",
      "/System/Library/Frameworks/Python.framework/Versions/2.7/Extras/lib/python/matplotlib/tests/baseline_images/test_axes/test_alpha.pdf\n",
      "/System/Library/Frameworks/Python.framework/Versions/2.7/Extras/lib/python/matplotlib/tests/baseline_images/test_axes/transparent_markers.pdf\n",
      "/System/Library/Frameworks/Python.framework/Versions/2.7/Extras/lib/python/matplotlib/tests/baseline_images/test_axes/twin_axis_locaters_formatters.pdf\n",
      "/System/Library/Frameworks/Python.framework/Versions/2.7/Extras/lib/python/matplotlib/tests/baseline_images/test_axes/units_strings.pdf\n",
      "/System/Library/Frameworks/Python.framework/Versions/2.7/Extras/lib/python/matplotlib/tests/baseline_images/test_axes/vline_hline_zorder.pdf\n",
      "/System/Library/Frameworks/Python.framework/Versions/2.7/Extras/lib/python/matplotlib/tests/baseline_images/test_backend_pdf\n",
      "/System/Library/Frameworks/Python.framework/Versions/2.7/Extras/lib/python/matplotlib/tests/baseline_images/test_backend_pdf/pdf_use14corefonts.pdf\n",
      "/System/Library/Frameworks/Python.framework/Versions/2.7/Extras/lib/python/matplotlib/tests/baseline_images/test_backend_pgf/pgf_mixedmode.pdf\n",
      "/System/Library/Frameworks/Python.framework/Versions/2.7/Extras/lib/python/matplotlib/tests/baseline_images/test_backend_pgf/pgf_pdflatex.pdf\n",
      "/System/Library/Frameworks/Python.framework/Versions/2.7/Extras/lib/python/matplotlib/tests/baseline_images/test_backend_pgf/pgf_rcupdate1.pdf\n",
      "/System/Library/Frameworks/Python.framework/Versions/2.7/Extras/lib/python/matplotlib/tests/baseline_images/test_backend_pgf/pgf_rcupdate2.pdf\n",
      "/System/Library/Frameworks/Python.framework/Versions/2.7/Extras/lib/python/matplotlib/tests/baseline_images/test_backend_pgf/pgf_xelatex.pdf\n",
      "/System/Library/Frameworks/Python.framework/Versions/2.7/Extras/lib/python/matplotlib/tests/baseline_images/test_backend_svg/noscale.pdf\n",
      "/System/Library/Frameworks/Python.framework/Versions/2.7/Extras/lib/python/matplotlib/tests/baseline_images/test_bbox_tight/bbox_inches_tight.pdf\n",
      "/System/Library/Frameworks/Python.framework/Versions/2.7/Extras/lib/python/matplotlib/tests/baseline_images/test_bbox_tight/bbox_inches_tight_clipping.pdf\n",
      "/System/Library/Frameworks/Python.framework/Versions/2.7/Extras/lib/python/matplotlib/tests/baseline_images/test_bbox_tight/bbox_inches_tight_suptile_legend.pdf\n",
      "/System/Library/Frameworks/Python.framework/Versions/2.7/Extras/lib/python/matplotlib/tests/baseline_images/test_collections/EventCollection_plot__add_positions.pdf\n",
      "/System/Library/Frameworks/Python.framework/Versions/2.7/Extras/lib/python/matplotlib/tests/baseline_images/test_collections/EventCollection_plot__append_positions.pdf\n",
      "/System/Library/Frameworks/Python.framework/Versions/2.7/Extras/lib/python/matplotlib/tests/baseline_images/test_collections/EventCollection_plot__default.pdf\n",
      "/System/Library/Frameworks/Python.framework/Versions/2.7/Extras/lib/python/matplotlib/tests/baseline_images/test_collections/EventCollection_plot__extend_positions.pdf\n",
      "/System/Library/Frameworks/Python.framework/Versions/2.7/Extras/lib/python/matplotlib/tests/baseline_images/test_collections/EventCollection_plot__set_color.pdf\n",
      "/System/Library/Frameworks/Python.framework/Versions/2.7/Extras/lib/python/matplotlib/tests/baseline_images/test_collections/EventCollection_plot__set_linelength.pdf\n",
      "/System/Library/Frameworks/Python.framework/Versions/2.7/Extras/lib/python/matplotlib/tests/baseline_images/test_collections/EventCollection_plot__set_lineoffset.pdf\n",
      "/System/Library/Frameworks/Python.framework/Versions/2.7/Extras/lib/python/matplotlib/tests/baseline_images/test_collections/EventCollection_plot__set_linestyle.pdf\n",
      "/System/Library/Frameworks/Python.framework/Versions/2.7/Extras/lib/python/matplotlib/tests/baseline_images/test_collections/EventCollection_plot__set_linewidth.pdf\n",
      "/System/Library/Frameworks/Python.framework/Versions/2.7/Extras/lib/python/matplotlib/tests/baseline_images/test_collections/EventCollection_plot__set_orientation.pdf\n",
      "/System/Library/Frameworks/Python.framework/Versions/2.7/Extras/lib/python/matplotlib/tests/baseline_images/test_collections/EventCollection_plot__set_positions.pdf\n",
      "/System/Library/Frameworks/Python.framework/Versions/2.7/Extras/lib/python/matplotlib/tests/baseline_images/test_collections/EventCollection_plot__switch_orientation.pdf\n",
      "/System/Library/Frameworks/Python.framework/Versions/2.7/Extras/lib/python/matplotlib/tests/baseline_images/test_collections/EventCollection_plot__switch_orientation__2x.pdf\n",
      "/System/Library/Frameworks/Python.framework/Versions/2.7/Extras/lib/python/matplotlib/tests/baseline_images/test_contour/contour_manual_labels.pdf\n",
      "/System/Library/Frameworks/Python.framework/Versions/2.7/Extras/lib/python/matplotlib/tests/baseline_images/test_figure/figure_suptitle.pdf\n",
      "/System/Library/Frameworks/Python.framework/Versions/2.7/Extras/lib/python/matplotlib/tests/baseline_images/test_figure/figure_today.pdf\n",
      "/System/Library/Frameworks/Python.framework/Versions/2.7/Extras/lib/python/matplotlib/tests/baseline_images/test_image/image_clip.pdf\n",
      "/System/Library/Frameworks/Python.framework/Versions/2.7/Extras/lib/python/matplotlib/tests/baseline_images/test_image/image_composite_alpha.pdf\n",
      "/System/Library/Frameworks/Python.framework/Versions/2.7/Extras/lib/python/matplotlib/tests/baseline_images/test_image/image_composite_background.pdf\n",
      "/System/Library/Frameworks/Python.framework/Versions/2.7/Extras/lib/python/matplotlib/tests/baseline_images/test_image/image_interps.pdf\n",
      "/System/Library/Frameworks/Python.framework/Versions/2.7/Extras/lib/python/matplotlib/tests/baseline_images/test_image/image_shift.pdf\n",
      "/System/Library/Frameworks/Python.framework/Versions/2.7/Extras/lib/python/matplotlib/tests/baseline_images/test_image/imshow.pdf\n",
      "/System/Library/Frameworks/Python.framework/Versions/2.7/Extras/lib/python/matplotlib/tests/baseline_images/test_image/interp_nearest_vs_none.pdf\n",
      "/System/Library/Frameworks/Python.framework/Versions/2.7/Extras/lib/python/matplotlib/tests/baseline_images/test_image/no_interpolation_origin.pdf\n",
      "/System/Library/Frameworks/Python.framework/Versions/2.7/Extras/lib/python/matplotlib/tests/baseline_images/test_image/rasterize_10dpi.pdf\n",
      "/System/Library/Frameworks/Python.framework/Versions/2.7/Extras/lib/python/matplotlib/tests/baseline_images/test_legend/fancy.pdf\n",
      "/System/Library/Frameworks/Python.framework/Versions/2.7/Extras/lib/python/matplotlib/tests/baseline_images/test_legend/framealpha.pdf\n",
      "/System/Library/Frameworks/Python.framework/Versions/2.7/Extras/lib/python/matplotlib/tests/baseline_images/test_legend/legend_auto1.pdf\n",
      "/System/Library/Frameworks/Python.framework/Versions/2.7/Extras/lib/python/matplotlib/tests/baseline_images/test_legend/legend_auto2.pdf\n",
      "/System/Library/Frameworks/Python.framework/Versions/2.7/Extras/lib/python/matplotlib/tests/baseline_images/test_legend/legend_auto3.pdf\n",
      "/System/Library/Frameworks/Python.framework/Versions/2.7/Extras/lib/python/matplotlib/tests/baseline_images/test_legend/legend_expand.pdf\n",
      "/System/Library/Frameworks/Python.framework/Versions/2.7/Extras/lib/python/matplotlib/tests/baseline_images/test_legend/legend_various_labels.pdf\n",
      "/System/Library/Frameworks/Python.framework/Versions/2.7/Extras/lib/python/matplotlib/tests/baseline_images/test_legend/scatter_rc1.pdf\n",
      "/System/Library/Frameworks/Python.framework/Versions/2.7/Extras/lib/python/matplotlib/tests/baseline_images/test_legend/scatter_rc3.pdf\n",
      "/System/Library/Frameworks/Python.framework/Versions/2.7/Extras/lib/python/matplotlib/tests/baseline_images/test_lines/line_collection_dashes.pdf\n",
      "/System/Library/Frameworks/Python.framework/Versions/2.7/Extras/lib/python/matplotlib/tests/baseline_images/test_mathtext/mathtext_cm_00.pdf\n",
      "/System/Library/Frameworks/Python.framework/Versions/2.7/Extras/lib/python/matplotlib/tests/baseline_images/test_mathtext/mathtext_cm_01.pdf\n",
      "/System/Library/Frameworks/Python.framework/Versions/2.7/Extras/lib/python/matplotlib/tests/baseline_images/test_mathtext/mathtext_cm_02.pdf\n",
      "/System/Library/Frameworks/Python.framework/Versions/2.7/Extras/lib/python/matplotlib/tests/baseline_images/test_mathtext/mathtext_cm_03.pdf\n",
      "/System/Library/Frameworks/Python.framework/Versions/2.7/Extras/lib/python/matplotlib/tests/baseline_images/test_mathtext/mathtext_cm_04.pdf\n",
      "/System/Library/Frameworks/Python.framework/Versions/2.7/Extras/lib/python/matplotlib/tests/baseline_images/test_mathtext/mathtext_cm_05.pdf\n",
      "/System/Library/Frameworks/Python.framework/Versions/2.7/Extras/lib/python/matplotlib/tests/baseline_images/test_mathtext/mathtext_cm_06.pdf\n",
      "/System/Library/Frameworks/Python.framework/Versions/2.7/Extras/lib/python/matplotlib/tests/baseline_images/test_mathtext/mathtext_cm_07.pdf\n",
      "/System/Library/Frameworks/Python.framework/Versions/2.7/Extras/lib/python/matplotlib/tests/baseline_images/test_mathtext/mathtext_cm_08.pdf\n",
      "/System/Library/Frameworks/Python.framework/Versions/2.7/Extras/lib/python/matplotlib/tests/baseline_images/test_mathtext/mathtext_cm_09.pdf\n",
      "/System/Library/Frameworks/Python.framework/Versions/2.7/Extras/lib/python/matplotlib/tests/baseline_images/test_mathtext/mathtext_cm_10.pdf\n",
      "/System/Library/Frameworks/Python.framework/Versions/2.7/Extras/lib/python/matplotlib/tests/baseline_images/test_mathtext/mathtext_cm_11.pdf\n",
      "/System/Library/Frameworks/Python.framework/Versions/2.7/Extras/lib/python/matplotlib/tests/baseline_images/test_mathtext/mathtext_cm_12.pdf\n",
      "/System/Library/Frameworks/Python.framework/Versions/2.7/Extras/lib/python/matplotlib/tests/baseline_images/test_mathtext/mathtext_cm_13.pdf\n",
      "/System/Library/Frameworks/Python.framework/Versions/2.7/Extras/lib/python/matplotlib/tests/baseline_images/test_mathtext/mathtext_cm_14.pdf\n",
      "/System/Library/Frameworks/Python.framework/Versions/2.7/Extras/lib/python/matplotlib/tests/baseline_images/test_mathtext/mathtext_cm_15.pdf\n",
      "/System/Library/Frameworks/Python.framework/Versions/2.7/Extras/lib/python/matplotlib/tests/baseline_images/test_mathtext/mathtext_cm_16.pdf\n",
      "/System/Library/Frameworks/Python.framework/Versions/2.7/Extras/lib/python/matplotlib/tests/baseline_images/test_mathtext/mathtext_cm_17.pdf\n",
      "/System/Library/Frameworks/Python.framework/Versions/2.7/Extras/lib/python/matplotlib/tests/baseline_images/test_mathtext/mathtext_cm_18.pdf\n",
      "/System/Library/Frameworks/Python.framework/Versions/2.7/Extras/lib/python/matplotlib/tests/baseline_images/test_mathtext/mathtext_cm_19.pdf\n",
      "/System/Library/Frameworks/Python.framework/Versions/2.7/Extras/lib/python/matplotlib/tests/baseline_images/test_mathtext/mathtext_cm_20.pdf\n",
      "/System/Library/Frameworks/Python.framework/Versions/2.7/Extras/lib/python/matplotlib/tests/baseline_images/test_mathtext/mathtext_cm_21.pdf\n",
      "/System/Library/Frameworks/Python.framework/Versions/2.7/Extras/lib/python/matplotlib/tests/baseline_images/test_mathtext/mathtext_cm_22.pdf\n",
      "/System/Library/Frameworks/Python.framework/Versions/2.7/Extras/lib/python/matplotlib/tests/baseline_images/test_mathtext/mathtext_cm_23.pdf\n",
      "/System/Library/Frameworks/Python.framework/Versions/2.7/Extras/lib/python/matplotlib/tests/baseline_images/test_mathtext/mathtext_cm_24.pdf\n",
      "/System/Library/Frameworks/Python.framework/Versions/2.7/Extras/lib/python/matplotlib/tests/baseline_images/test_mathtext/mathtext_cm_25.pdf\n",
      "/System/Library/Frameworks/Python.framework/Versions/2.7/Extras/lib/python/matplotlib/tests/baseline_images/test_mathtext/mathtext_cm_26.pdf\n",
      "/System/Library/Frameworks/Python.framework/Versions/2.7/Extras/lib/python/matplotlib/tests/baseline_images/test_mathtext/mathtext_cm_27.pdf\n",
      "/System/Library/Frameworks/Python.framework/Versions/2.7/Extras/lib/python/matplotlib/tests/baseline_images/test_mathtext/mathtext_cm_28.pdf\n",
      "/System/Library/Frameworks/Python.framework/Versions/2.7/Extras/lib/python/matplotlib/tests/baseline_images/test_mathtext/mathtext_cm_29.pdf\n",
      "/System/Library/Frameworks/Python.framework/Versions/2.7/Extras/lib/python/matplotlib/tests/baseline_images/test_mathtext/mathtext_cm_30.pdf\n",
      "/System/Library/Frameworks/Python.framework/Versions/2.7/Extras/lib/python/matplotlib/tests/baseline_images/test_mathtext/mathtext_cm_31.pdf\n",
      "/System/Library/Frameworks/Python.framework/Versions/2.7/Extras/lib/python/matplotlib/tests/baseline_images/test_mathtext/mathtext_cm_32.pdf\n",
      "/System/Library/Frameworks/Python.framework/Versions/2.7/Extras/lib/python/matplotlib/tests/baseline_images/test_mathtext/mathtext_cm_33.pdf\n",
      "/System/Library/Frameworks/Python.framework/Versions/2.7/Extras/lib/python/matplotlib/tests/baseline_images/test_mathtext/mathtext_cm_34.pdf\n",
      "/System/Library/Frameworks/Python.framework/Versions/2.7/Extras/lib/python/matplotlib/tests/baseline_images/test_mathtext/mathtext_cm_35.pdf\n",
      "/System/Library/Frameworks/Python.framework/Versions/2.7/Extras/lib/python/matplotlib/tests/baseline_images/test_mathtext/mathtext_cm_36.pdf\n",
      "/System/Library/Frameworks/Python.framework/Versions/2.7/Extras/lib/python/matplotlib/tests/baseline_images/test_mathtext/mathtext_cm_37.pdf\n",
      "/System/Library/Frameworks/Python.framework/Versions/2.7/Extras/lib/python/matplotlib/tests/baseline_images/test_mathtext/mathtext_cm_38.pdf\n",
      "/System/Library/Frameworks/Python.framework/Versions/2.7/Extras/lib/python/matplotlib/tests/baseline_images/test_mathtext/mathtext_cm_39.pdf\n",
      "/System/Library/Frameworks/Python.framework/Versions/2.7/Extras/lib/python/matplotlib/tests/baseline_images/test_mathtext/mathtext_cm_40.pdf\n",
      "/System/Library/Frameworks/Python.framework/Versions/2.7/Extras/lib/python/matplotlib/tests/baseline_images/test_mathtext/mathtext_cm_41.pdf\n",
      "/System/Library/Frameworks/Python.framework/Versions/2.7/Extras/lib/python/matplotlib/tests/baseline_images/test_mathtext/mathtext_cm_42.pdf\n",
      "/System/Library/Frameworks/Python.framework/Versions/2.7/Extras/lib/python/matplotlib/tests/baseline_images/test_mathtext/mathtext_cm_43.pdf\n",
      "/System/Library/Frameworks/Python.framework/Versions/2.7/Extras/lib/python/matplotlib/tests/baseline_images/test_mathtext/mathtext_cm_44.pdf\n",
      "/System/Library/Frameworks/Python.framework/Versions/2.7/Extras/lib/python/matplotlib/tests/baseline_images/test_mathtext/mathtext_cm_45.pdf\n",
      "/System/Library/Frameworks/Python.framework/Versions/2.7/Extras/lib/python/matplotlib/tests/baseline_images/test_mathtext/mathtext_cm_46.pdf\n",
      "/System/Library/Frameworks/Python.framework/Versions/2.7/Extras/lib/python/matplotlib/tests/baseline_images/test_mathtext/mathtext_cm_47.pdf\n",
      "/System/Library/Frameworks/Python.framework/Versions/2.7/Extras/lib/python/matplotlib/tests/baseline_images/test_mathtext/mathtext_cm_48.pdf\n",
      "/System/Library/Frameworks/Python.framework/Versions/2.7/Extras/lib/python/matplotlib/tests/baseline_images/test_mathtext/mathtext_cm_49.pdf\n",
      "/System/Library/Frameworks/Python.framework/Versions/2.7/Extras/lib/python/matplotlib/tests/baseline_images/test_mathtext/mathtext_cm_50.pdf\n",
      "/System/Library/Frameworks/Python.framework/Versions/2.7/Extras/lib/python/matplotlib/tests/baseline_images/test_mathtext/mathtext_cm_51.pdf\n",
      "/System/Library/Frameworks/Python.framework/Versions/2.7/Extras/lib/python/matplotlib/tests/baseline_images/test_mathtext/mathtext_cm_52.pdf\n",
      "/System/Library/Frameworks/Python.framework/Versions/2.7/Extras/lib/python/matplotlib/tests/baseline_images/test_mathtext/mathtext_cm_53.pdf\n",
      "/System/Library/Frameworks/Python.framework/Versions/2.7/Extras/lib/python/matplotlib/tests/baseline_images/test_mathtext/mathtext_cm_54.pdf\n",
      "/System/Library/Frameworks/Python.framework/Versions/2.7/Extras/lib/python/matplotlib/tests/baseline_images/test_mathtext/mathtext_cm_55.pdf\n",
      "/System/Library/Frameworks/Python.framework/Versions/2.7/Extras/lib/python/matplotlib/tests/baseline_images/test_mathtext/mathtext_cm_56.pdf\n",
      "/System/Library/Frameworks/Python.framework/Versions/2.7/Extras/lib/python/matplotlib/tests/baseline_images/test_mathtext/mathtext_cm_57.pdf\n",
      "/System/Library/Frameworks/Python.framework/Versions/2.7/Extras/lib/python/matplotlib/tests/baseline_images/test_mathtext/mathtext_cm_58.pdf\n",
      "/System/Library/Frameworks/Python.framework/Versions/2.7/Extras/lib/python/matplotlib/tests/baseline_images/test_mathtext/mathtext_cm_59.pdf\n",
      "/System/Library/Frameworks/Python.framework/Versions/2.7/Extras/lib/python/matplotlib/tests/baseline_images/test_mathtext/mathtext_cm_60.pdf\n",
      "/System/Library/Frameworks/Python.framework/Versions/2.7/Extras/lib/python/matplotlib/tests/baseline_images/test_mathtext/mathtext_cm_61.pdf\n",
      "/System/Library/Frameworks/Python.framework/Versions/2.7/Extras/lib/python/matplotlib/tests/baseline_images/test_mathtext/mathtext_cm_62.pdf\n",
      "/System/Library/Frameworks/Python.framework/Versions/2.7/Extras/lib/python/matplotlib/tests/baseline_images/test_mathtext/mathtext_cm_63.pdf\n",
      "/System/Library/Frameworks/Python.framework/Versions/2.7/Extras/lib/python/matplotlib/tests/baseline_images/test_mathtext/mathtext_cm_64.pdf\n",
      "/System/Library/Frameworks/Python.framework/Versions/2.7/Extras/lib/python/matplotlib/tests/baseline_images/test_mathtext/mathtext_cm_65.pdf\n",
      "/System/Library/Frameworks/Python.framework/Versions/2.7/Extras/lib/python/matplotlib/tests/baseline_images/test_mathtext/mathtext_cm_66.pdf\n",
      "/System/Library/Frameworks/Python.framework/Versions/2.7/Extras/lib/python/matplotlib/tests/baseline_images/test_mathtext/mathtext_cm_67.pdf\n",
      "/System/Library/Frameworks/Python.framework/Versions/2.7/Extras/lib/python/matplotlib/tests/baseline_images/test_mathtext/mathtext_stix_00.pdf\n",
      "/System/Library/Frameworks/Python.framework/Versions/2.7/Extras/lib/python/matplotlib/tests/baseline_images/test_mathtext/mathtext_stix_01.pdf\n",
      "/System/Library/Frameworks/Python.framework/Versions/2.7/Extras/lib/python/matplotlib/tests/baseline_images/test_mathtext/mathtext_stix_02.pdf\n",
      "/System/Library/Frameworks/Python.framework/Versions/2.7/Extras/lib/python/matplotlib/tests/baseline_images/test_mathtext/mathtext_stix_03.pdf\n",
      "/System/Library/Frameworks/Python.framework/Versions/2.7/Extras/lib/python/matplotlib/tests/baseline_images/test_mathtext/mathtext_stix_04.pdf\n",
      "/System/Library/Frameworks/Python.framework/Versions/2.7/Extras/lib/python/matplotlib/tests/baseline_images/test_mathtext/mathtext_stix_05.pdf\n",
      "/System/Library/Frameworks/Python.framework/Versions/2.7/Extras/lib/python/matplotlib/tests/baseline_images/test_mathtext/mathtext_stix_06.pdf\n",
      "/System/Library/Frameworks/Python.framework/Versions/2.7/Extras/lib/python/matplotlib/tests/baseline_images/test_mathtext/mathtext_stix_07.pdf\n",
      "/System/Library/Frameworks/Python.framework/Versions/2.7/Extras/lib/python/matplotlib/tests/baseline_images/test_mathtext/mathtext_stix_08.pdf\n",
      "/System/Library/Frameworks/Python.framework/Versions/2.7/Extras/lib/python/matplotlib/tests/baseline_images/test_mathtext/mathtext_stix_09.pdf\n",
      "/System/Library/Frameworks/Python.framework/Versions/2.7/Extras/lib/python/matplotlib/tests/baseline_images/test_mathtext/mathtext_stix_10.pdf\n",
      "/System/Library/Frameworks/Python.framework/Versions/2.7/Extras/lib/python/matplotlib/tests/baseline_images/test_mathtext/mathtext_stix_11.pdf\n",
      "/System/Library/Frameworks/Python.framework/Versions/2.7/Extras/lib/python/matplotlib/tests/baseline_images/test_mathtext/mathtext_stix_12.pdf\n",
      "/System/Library/Frameworks/Python.framework/Versions/2.7/Extras/lib/python/matplotlib/tests/baseline_images/test_mathtext/mathtext_stix_13.pdf\n",
      "/System/Library/Frameworks/Python.framework/Versions/2.7/Extras/lib/python/matplotlib/tests/baseline_images/test_mathtext/mathtext_stix_14.pdf\n",
      "/System/Library/Frameworks/Python.framework/Versions/2.7/Extras/lib/python/matplotlib/tests/baseline_images/test_mathtext/mathtext_stix_15.pdf\n",
      "/System/Library/Frameworks/Python.framework/Versions/2.7/Extras/lib/python/matplotlib/tests/baseline_images/test_mathtext/mathtext_stix_16.pdf\n",
      "/System/Library/Frameworks/Python.framework/Versions/2.7/Extras/lib/python/matplotlib/tests/baseline_images/test_mathtext/mathtext_stix_17.pdf\n",
      "/System/Library/Frameworks/Python.framework/Versions/2.7/Extras/lib/python/matplotlib/tests/baseline_images/test_mathtext/mathtext_stix_18.pdf\n",
      "/System/Library/Frameworks/Python.framework/Versions/2.7/Extras/lib/python/matplotlib/tests/baseline_images/test_mathtext/mathtext_stix_19.pdf\n",
      "/System/Library/Frameworks/Python.framework/Versions/2.7/Extras/lib/python/matplotlib/tests/baseline_images/test_mathtext/mathtext_stix_20.pdf\n",
      "/System/Library/Frameworks/Python.framework/Versions/2.7/Extras/lib/python/matplotlib/tests/baseline_images/test_mathtext/mathtext_stix_21.pdf\n",
      "/System/Library/Frameworks/Python.framework/Versions/2.7/Extras/lib/python/matplotlib/tests/baseline_images/test_mathtext/mathtext_stix_22.pdf\n",
      "/System/Library/Frameworks/Python.framework/Versions/2.7/Extras/lib/python/matplotlib/tests/baseline_images/test_mathtext/mathtext_stix_23.pdf\n",
      "/System/Library/Frameworks/Python.framework/Versions/2.7/Extras/lib/python/matplotlib/tests/baseline_images/test_mathtext/mathtext_stix_24.pdf\n",
      "/System/Library/Frameworks/Python.framework/Versions/2.7/Extras/lib/python/matplotlib/tests/baseline_images/test_mathtext/mathtext_stix_25.pdf\n",
      "/System/Library/Frameworks/Python.framework/Versions/2.7/Extras/lib/python/matplotlib/tests/baseline_images/test_mathtext/mathtext_stix_26.pdf\n",
      "/System/Library/Frameworks/Python.framework/Versions/2.7/Extras/lib/python/matplotlib/tests/baseline_images/test_mathtext/mathtext_stix_27.pdf\n",
      "/System/Library/Frameworks/Python.framework/Versions/2.7/Extras/lib/python/matplotlib/tests/baseline_images/test_mathtext/mathtext_stix_28.pdf\n",
      "/System/Library/Frameworks/Python.framework/Versions/2.7/Extras/lib/python/matplotlib/tests/baseline_images/test_mathtext/mathtext_stix_29.pdf\n",
      "/System/Library/Frameworks/Python.framework/Versions/2.7/Extras/lib/python/matplotlib/tests/baseline_images/test_mathtext/mathtext_stix_30.pdf\n",
      "/System/Library/Frameworks/Python.framework/Versions/2.7/Extras/lib/python/matplotlib/tests/baseline_images/test_mathtext/mathtext_stix_31.pdf\n",
      "/System/Library/Frameworks/Python.framework/Versions/2.7/Extras/lib/python/matplotlib/tests/baseline_images/test_mathtext/mathtext_stix_32.pdf\n",
      "/System/Library/Frameworks/Python.framework/Versions/2.7/Extras/lib/python/matplotlib/tests/baseline_images/test_mathtext/mathtext_stix_33.pdf\n",
      "/System/Library/Frameworks/Python.framework/Versions/2.7/Extras/lib/python/matplotlib/tests/baseline_images/test_mathtext/mathtext_stix_34.pdf\n",
      "/System/Library/Frameworks/Python.framework/Versions/2.7/Extras/lib/python/matplotlib/tests/baseline_images/test_mathtext/mathtext_stix_35.pdf\n",
      "/System/Library/Frameworks/Python.framework/Versions/2.7/Extras/lib/python/matplotlib/tests/baseline_images/test_mathtext/mathtext_stix_36.pdf\n",
      "/System/Library/Frameworks/Python.framework/Versions/2.7/Extras/lib/python/matplotlib/tests/baseline_images/test_mathtext/mathtext_stix_37.pdf\n",
      "/System/Library/Frameworks/Python.framework/Versions/2.7/Extras/lib/python/matplotlib/tests/baseline_images/test_mathtext/mathtext_stix_38.pdf\n",
      "/System/Library/Frameworks/Python.framework/Versions/2.7/Extras/lib/python/matplotlib/tests/baseline_images/test_mathtext/mathtext_stix_39.pdf\n",
      "/System/Library/Frameworks/Python.framework/Versions/2.7/Extras/lib/python/matplotlib/tests/baseline_images/test_mathtext/mathtext_stix_40.pdf\n",
      "/System/Library/Frameworks/Python.framework/Versions/2.7/Extras/lib/python/matplotlib/tests/baseline_images/test_mathtext/mathtext_stix_41.pdf\n",
      "/System/Library/Frameworks/Python.framework/Versions/2.7/Extras/lib/python/matplotlib/tests/baseline_images/test_mathtext/mathtext_stix_42.pdf\n",
      "/System/Library/Frameworks/Python.framework/Versions/2.7/Extras/lib/python/matplotlib/tests/baseline_images/test_mathtext/mathtext_stix_43.pdf\n",
      "/System/Library/Frameworks/Python.framework/Versions/2.7/Extras/lib/python/matplotlib/tests/baseline_images/test_mathtext/mathtext_stix_44.pdf\n",
      "/System/Library/Frameworks/Python.framework/Versions/2.7/Extras/lib/python/matplotlib/tests/baseline_images/test_mathtext/mathtext_stix_45.pdf\n",
      "/System/Library/Frameworks/Python.framework/Versions/2.7/Extras/lib/python/matplotlib/tests/baseline_images/test_mathtext/mathtext_stix_46.pdf\n",
      "/System/Library/Frameworks/Python.framework/Versions/2.7/Extras/lib/python/matplotlib/tests/baseline_images/test_mathtext/mathtext_stix_47.pdf\n",
      "/System/Library/Frameworks/Python.framework/Versions/2.7/Extras/lib/python/matplotlib/tests/baseline_images/test_mathtext/mathtext_stix_48.pdf\n",
      "/System/Library/Frameworks/Python.framework/Versions/2.7/Extras/lib/python/matplotlib/tests/baseline_images/test_mathtext/mathtext_stix_49.pdf\n",
      "/System/Library/Frameworks/Python.framework/Versions/2.7/Extras/lib/python/matplotlib/tests/baseline_images/test_mathtext/mathtext_stix_50.pdf\n",
      "/System/Library/Frameworks/Python.framework/Versions/2.7/Extras/lib/python/matplotlib/tests/baseline_images/test_mathtext/mathtext_stix_51.pdf\n",
      "/System/Library/Frameworks/Python.framework/Versions/2.7/Extras/lib/python/matplotlib/tests/baseline_images/test_mathtext/mathtext_stix_52.pdf\n",
      "/System/Library/Frameworks/Python.framework/Versions/2.7/Extras/lib/python/matplotlib/tests/baseline_images/test_mathtext/mathtext_stix_53.pdf\n",
      "/System/Library/Frameworks/Python.framework/Versions/2.7/Extras/lib/python/matplotlib/tests/baseline_images/test_mathtext/mathtext_stix_54.pdf\n",
      "/System/Library/Frameworks/Python.framework/Versions/2.7/Extras/lib/python/matplotlib/tests/baseline_images/test_mathtext/mathtext_stix_55.pdf\n",
      "/System/Library/Frameworks/Python.framework/Versions/2.7/Extras/lib/python/matplotlib/tests/baseline_images/test_mathtext/mathtext_stix_56.pdf\n",
      "/System/Library/Frameworks/Python.framework/Versions/2.7/Extras/lib/python/matplotlib/tests/baseline_images/test_mathtext/mathtext_stix_57.pdf\n",
      "/System/Library/Frameworks/Python.framework/Versions/2.7/Extras/lib/python/matplotlib/tests/baseline_images/test_mathtext/mathtext_stix_58.pdf\n",
      "/System/Library/Frameworks/Python.framework/Versions/2.7/Extras/lib/python/matplotlib/tests/baseline_images/test_mathtext/mathtext_stix_59.pdf\n",
      "/System/Library/Frameworks/Python.framework/Versions/2.7/Extras/lib/python/matplotlib/tests/baseline_images/test_mathtext/mathtext_stix_60.pdf\n",
      "/System/Library/Frameworks/Python.framework/Versions/2.7/Extras/lib/python/matplotlib/tests/baseline_images/test_mathtext/mathtext_stix_61.pdf\n",
      "/System/Library/Frameworks/Python.framework/Versions/2.7/Extras/lib/python/matplotlib/tests/baseline_images/test_mathtext/mathtext_stix_62.pdf\n",
      "/System/Library/Frameworks/Python.framework/Versions/2.7/Extras/lib/python/matplotlib/tests/baseline_images/test_mathtext/mathtext_stix_63.pdf\n",
      "/System/Library/Frameworks/Python.framework/Versions/2.7/Extras/lib/python/matplotlib/tests/baseline_images/test_mathtext/mathtext_stix_64.pdf\n",
      "/System/Library/Frameworks/Python.framework/Versions/2.7/Extras/lib/python/matplotlib/tests/baseline_images/test_mathtext/mathtext_stix_65.pdf\n",
      "/System/Library/Frameworks/Python.framework/Versions/2.7/Extras/lib/python/matplotlib/tests/baseline_images/test_mathtext/mathtext_stix_66.pdf\n",
      "/System/Library/Frameworks/Python.framework/Versions/2.7/Extras/lib/python/matplotlib/tests/baseline_images/test_mathtext/mathtext_stix_67.pdf\n",
      "/System/Library/Frameworks/Python.framework/Versions/2.7/Extras/lib/python/matplotlib/tests/baseline_images/test_mathtext/mathtext_stixsans_00.pdf\n",
      "/System/Library/Frameworks/Python.framework/Versions/2.7/Extras/lib/python/matplotlib/tests/baseline_images/test_mathtext/mathtext_stixsans_01.pdf\n",
      "/System/Library/Frameworks/Python.framework/Versions/2.7/Extras/lib/python/matplotlib/tests/baseline_images/test_mathtext/mathtext_stixsans_02.pdf\n",
      "/System/Library/Frameworks/Python.framework/Versions/2.7/Extras/lib/python/matplotlib/tests/baseline_images/test_mathtext/mathtext_stixsans_03.pdf\n",
      "/System/Library/Frameworks/Python.framework/Versions/2.7/Extras/lib/python/matplotlib/tests/baseline_images/test_mathtext/mathtext_stixsans_04.pdf\n",
      "/System/Library/Frameworks/Python.framework/Versions/2.7/Extras/lib/python/matplotlib/tests/baseline_images/test_mathtext/mathtext_stixsans_05.pdf\n",
      "/System/Library/Frameworks/Python.framework/Versions/2.7/Extras/lib/python/matplotlib/tests/baseline_images/test_mathtext/mathtext_stixsans_06.pdf\n",
      "/System/Library/Frameworks/Python.framework/Versions/2.7/Extras/lib/python/matplotlib/tests/baseline_images/test_mathtext/mathtext_stixsans_07.pdf\n",
      "/System/Library/Frameworks/Python.framework/Versions/2.7/Extras/lib/python/matplotlib/tests/baseline_images/test_mathtext/mathtext_stixsans_08.pdf\n",
      "/System/Library/Frameworks/Python.framework/Versions/2.7/Extras/lib/python/matplotlib/tests/baseline_images/test_mathtext/mathtext_stixsans_09.pdf\n",
      "/System/Library/Frameworks/Python.framework/Versions/2.7/Extras/lib/python/matplotlib/tests/baseline_images/test_mathtext/mathtext_stixsans_10.pdf\n",
      "/System/Library/Frameworks/Python.framework/Versions/2.7/Extras/lib/python/matplotlib/tests/baseline_images/test_mathtext/mathtext_stixsans_11.pdf\n",
      "/System/Library/Frameworks/Python.framework/Versions/2.7/Extras/lib/python/matplotlib/tests/baseline_images/test_mathtext/mathtext_stixsans_12.pdf\n",
      "/System/Library/Frameworks/Python.framework/Versions/2.7/Extras/lib/python/matplotlib/tests/baseline_images/test_mathtext/mathtext_stixsans_13.pdf\n",
      "/System/Library/Frameworks/Python.framework/Versions/2.7/Extras/lib/python/matplotlib/tests/baseline_images/test_mathtext/mathtext_stixsans_14.pdf\n",
      "/System/Library/Frameworks/Python.framework/Versions/2.7/Extras/lib/python/matplotlib/tests/baseline_images/test_mathtext/mathtext_stixsans_15.pdf\n",
      "/System/Library/Frameworks/Python.framework/Versions/2.7/Extras/lib/python/matplotlib/tests/baseline_images/test_mathtext/mathtext_stixsans_16.pdf\n",
      "/System/Library/Frameworks/Python.framework/Versions/2.7/Extras/lib/python/matplotlib/tests/baseline_images/test_mathtext/mathtext_stixsans_17.pdf\n",
      "/System/Library/Frameworks/Python.framework/Versions/2.7/Extras/lib/python/matplotlib/tests/baseline_images/test_mathtext/mathtext_stixsans_18.pdf\n",
      "/System/Library/Frameworks/Python.framework/Versions/2.7/Extras/lib/python/matplotlib/tests/baseline_images/test_mathtext/mathtext_stixsans_19.pdf\n",
      "/System/Library/Frameworks/Python.framework/Versions/2.7/Extras/lib/python/matplotlib/tests/baseline_images/test_mathtext/mathtext_stixsans_20.pdf\n",
      "/System/Library/Frameworks/Python.framework/Versions/2.7/Extras/lib/python/matplotlib/tests/baseline_images/test_mathtext/mathtext_stixsans_21.pdf\n",
      "/System/Library/Frameworks/Python.framework/Versions/2.7/Extras/lib/python/matplotlib/tests/baseline_images/test_mathtext/mathtext_stixsans_22.pdf\n",
      "/System/Library/Frameworks/Python.framework/Versions/2.7/Extras/lib/python/matplotlib/tests/baseline_images/test_mathtext/mathtext_stixsans_23.pdf\n",
      "/System/Library/Frameworks/Python.framework/Versions/2.7/Extras/lib/python/matplotlib/tests/baseline_images/test_mathtext/mathtext_stixsans_24.pdf\n",
      "/System/Library/Frameworks/Python.framework/Versions/2.7/Extras/lib/python/matplotlib/tests/baseline_images/test_mathtext/mathtext_stixsans_25.pdf\n",
      "/System/Library/Frameworks/Python.framework/Versions/2.7/Extras/lib/python/matplotlib/tests/baseline_images/test_mathtext/mathtext_stixsans_26.pdf\n",
      "/System/Library/Frameworks/Python.framework/Versions/2.7/Extras/lib/python/matplotlib/tests/baseline_images/test_mathtext/mathtext_stixsans_27.pdf\n",
      "/System/Library/Frameworks/Python.framework/Versions/2.7/Extras/lib/python/matplotlib/tests/baseline_images/test_mathtext/mathtext_stixsans_28.pdf\n",
      "/System/Library/Frameworks/Python.framework/Versions/2.7/Extras/lib/python/matplotlib/tests/baseline_images/test_mathtext/mathtext_stixsans_29.pdf\n",
      "/System/Library/Frameworks/Python.framework/Versions/2.7/Extras/lib/python/matplotlib/tests/baseline_images/test_mathtext/mathtext_stixsans_30.pdf\n",
      "/System/Library/Frameworks/Python.framework/Versions/2.7/Extras/lib/python/matplotlib/tests/baseline_images/test_mathtext/mathtext_stixsans_31.pdf\n",
      "/System/Library/Frameworks/Python.framework/Versions/2.7/Extras/lib/python/matplotlib/tests/baseline_images/test_mathtext/mathtext_stixsans_32.pdf\n",
      "/System/Library/Frameworks/Python.framework/Versions/2.7/Extras/lib/python/matplotlib/tests/baseline_images/test_mathtext/mathtext_stixsans_33.pdf\n",
      "/System/Library/Frameworks/Python.framework/Versions/2.7/Extras/lib/python/matplotlib/tests/baseline_images/test_mathtext/mathtext_stixsans_34.pdf\n",
      "/System/Library/Frameworks/Python.framework/Versions/2.7/Extras/lib/python/matplotlib/tests/baseline_images/test_mathtext/mathtext_stixsans_35.pdf\n",
      "/System/Library/Frameworks/Python.framework/Versions/2.7/Extras/lib/python/matplotlib/tests/baseline_images/test_mathtext/mathtext_stixsans_36.pdf\n",
      "/System/Library/Frameworks/Python.framework/Versions/2.7/Extras/lib/python/matplotlib/tests/baseline_images/test_mathtext/mathtext_stixsans_37.pdf\n",
      "/System/Library/Frameworks/Python.framework/Versions/2.7/Extras/lib/python/matplotlib/tests/baseline_images/test_mathtext/mathtext_stixsans_38.pdf\n",
      "/System/Library/Frameworks/Python.framework/Versions/2.7/Extras/lib/python/matplotlib/tests/baseline_images/test_mathtext/mathtext_stixsans_39.pdf\n",
      "/System/Library/Frameworks/Python.framework/Versions/2.7/Extras/lib/python/matplotlib/tests/baseline_images/test_mathtext/mathtext_stixsans_40.pdf\n",
      "/System/Library/Frameworks/Python.framework/Versions/2.7/Extras/lib/python/matplotlib/tests/baseline_images/test_mathtext/mathtext_stixsans_41.pdf\n",
      "/System/Library/Frameworks/Python.framework/Versions/2.7/Extras/lib/python/matplotlib/tests/baseline_images/test_mathtext/mathtext_stixsans_42.pdf\n",
      "/System/Library/Frameworks/Python.framework/Versions/2.7/Extras/lib/python/matplotlib/tests/baseline_images/test_mathtext/mathtext_stixsans_43.pdf\n",
      "/System/Library/Frameworks/Python.framework/Versions/2.7/Extras/lib/python/matplotlib/tests/baseline_images/test_mathtext/mathtext_stixsans_44.pdf\n",
      "/System/Library/Frameworks/Python.framework/Versions/2.7/Extras/lib/python/matplotlib/tests/baseline_images/test_mathtext/mathtext_stixsans_45.pdf\n",
      "/System/Library/Frameworks/Python.framework/Versions/2.7/Extras/lib/python/matplotlib/tests/baseline_images/test_mathtext/mathtext_stixsans_46.pdf\n",
      "/System/Library/Frameworks/Python.framework/Versions/2.7/Extras/lib/python/matplotlib/tests/baseline_images/test_mathtext/mathtext_stixsans_47.pdf\n",
      "/System/Library/Frameworks/Python.framework/Versions/2.7/Extras/lib/python/matplotlib/tests/baseline_images/test_mathtext/mathtext_stixsans_48.pdf\n",
      "/System/Library/Frameworks/Python.framework/Versions/2.7/Extras/lib/python/matplotlib/tests/baseline_images/test_mathtext/mathtext_stixsans_49.pdf\n",
      "/System/Library/Frameworks/Python.framework/Versions/2.7/Extras/lib/python/matplotlib/tests/baseline_images/test_mathtext/mathtext_stixsans_50.pdf\n",
      "/System/Library/Frameworks/Python.framework/Versions/2.7/Extras/lib/python/matplotlib/tests/baseline_images/test_mathtext/mathtext_stixsans_51.pdf\n",
      "/System/Library/Frameworks/Python.framework/Versions/2.7/Extras/lib/python/matplotlib/tests/baseline_images/test_mathtext/mathtext_stixsans_52.pdf\n",
      "/System/Library/Frameworks/Python.framework/Versions/2.7/Extras/lib/python/matplotlib/tests/baseline_images/test_mathtext/mathtext_stixsans_53.pdf\n",
      "/System/Library/Frameworks/Python.framework/Versions/2.7/Extras/lib/python/matplotlib/tests/baseline_images/test_mathtext/mathtext_stixsans_54.pdf\n",
      "/System/Library/Frameworks/Python.framework/Versions/2.7/Extras/lib/python/matplotlib/tests/baseline_images/test_mathtext/mathtext_stixsans_55.pdf\n",
      "/System/Library/Frameworks/Python.framework/Versions/2.7/Extras/lib/python/matplotlib/tests/baseline_images/test_mathtext/mathtext_stixsans_56.pdf\n",
      "/System/Library/Frameworks/Python.framework/Versions/2.7/Extras/lib/python/matplotlib/tests/baseline_images/test_mathtext/mathtext_stixsans_57.pdf\n",
      "/System/Library/Frameworks/Python.framework/Versions/2.7/Extras/lib/python/matplotlib/tests/baseline_images/test_mathtext/mathtext_stixsans_58.pdf\n",
      "/System/Library/Frameworks/Python.framework/Versions/2.7/Extras/lib/python/matplotlib/tests/baseline_images/test_mathtext/mathtext_stixsans_59.pdf\n",
      "/System/Library/Frameworks/Python.framework/Versions/2.7/Extras/lib/python/matplotlib/tests/baseline_images/test_mathtext/mathtext_stixsans_60.pdf\n",
      "/System/Library/Frameworks/Python.framework/Versions/2.7/Extras/lib/python/matplotlib/tests/baseline_images/test_mathtext/mathtext_stixsans_61.pdf\n",
      "/System/Library/Frameworks/Python.framework/Versions/2.7/Extras/lib/python/matplotlib/tests/baseline_images/test_mathtext/mathtext_stixsans_62.pdf\n",
      "/System/Library/Frameworks/Python.framework/Versions/2.7/Extras/lib/python/matplotlib/tests/baseline_images/test_mathtext/mathtext_stixsans_63.pdf\n",
      "/System/Library/Frameworks/Python.framework/Versions/2.7/Extras/lib/python/matplotlib/tests/baseline_images/test_mathtext/mathtext_stixsans_64.pdf\n",
      "/System/Library/Frameworks/Python.framework/Versions/2.7/Extras/lib/python/matplotlib/tests/baseline_images/test_mathtext/mathtext_stixsans_65.pdf\n",
      "/System/Library/Frameworks/Python.framework/Versions/2.7/Extras/lib/python/matplotlib/tests/baseline_images/test_mathtext/mathtext_stixsans_66.pdf\n",
      "/System/Library/Frameworks/Python.framework/Versions/2.7/Extras/lib/python/matplotlib/tests/baseline_images/test_mathtext/mathtext_stixsans_67.pdf\n",
      "/System/Library/Frameworks/Python.framework/Versions/2.7/Extras/lib/python/matplotlib/tests/baseline_images/test_patches/clip_to_bbox.pdf\n",
      "/System/Library/Frameworks/Python.framework/Versions/2.7/Extras/lib/python/matplotlib/tests/baseline_images/test_patches/patch_alpha_coloring.pdf\n",
      "/System/Library/Frameworks/Python.framework/Versions/2.7/Extras/lib/python/matplotlib/tests/baseline_images/test_patches/patch_alpha_override.pdf\n",
      "/System/Library/Frameworks/Python.framework/Versions/2.7/Extras/lib/python/matplotlib/tests/baseline_images/test_patches/patch_custom_linestyle.pdf\n",
      "/System/Library/Frameworks/Python.framework/Versions/2.7/Extras/lib/python/matplotlib/tests/baseline_images/test_patheffects/patheffect1.pdf\n",
      "/System/Library/Frameworks/Python.framework/Versions/2.7/Extras/lib/python/matplotlib/tests/baseline_images/test_patheffects/patheffect2.pdf\n",
      "/System/Library/Frameworks/Python.framework/Versions/2.7/Extras/lib/python/matplotlib/tests/baseline_images/test_patheffects/patheffect3.pdf\n",
      "/System/Library/Frameworks/Python.framework/Versions/2.7/Extras/lib/python/matplotlib/tests/baseline_images/test_scale/log_scales.pdf\n",
      "/System/Library/Frameworks/Python.framework/Versions/2.7/Extras/lib/python/matplotlib/tests/baseline_images/test_simplification/clipper_edge.pdf\n",
      "/System/Library/Frameworks/Python.framework/Versions/2.7/Extras/lib/python/matplotlib/tests/baseline_images/test_simplification/clipping.pdf\n",
      "/System/Library/Frameworks/Python.framework/Versions/2.7/Extras/lib/python/matplotlib/tests/baseline_images/test_simplification/clipping_diamond.pdf\n",
      "/System/Library/Frameworks/Python.framework/Versions/2.7/Extras/lib/python/matplotlib/tests/baseline_images/test_simplification/clipping_with_nans.pdf\n",
      "/System/Library/Frameworks/Python.framework/Versions/2.7/Extras/lib/python/matplotlib/tests/baseline_images/test_simplification/fft_peaks.pdf\n",
      "/System/Library/Frameworks/Python.framework/Versions/2.7/Extras/lib/python/matplotlib/tests/baseline_images/test_simplification/hatch_simplify.pdf\n",
      "/System/Library/Frameworks/Python.framework/Versions/2.7/Extras/lib/python/matplotlib/tests/baseline_images/test_simplification/overflow.pdf\n",
      "/System/Library/Frameworks/Python.framework/Versions/2.7/Extras/lib/python/matplotlib/tests/baseline_images/test_simplification/para_equal_perp.pdf\n",
      "/System/Library/Frameworks/Python.framework/Versions/2.7/Extras/lib/python/matplotlib/tests/baseline_images/test_simplification/simplify_curve.pdf\n",
      "/System/Library/Frameworks/Python.framework/Versions/2.7/Extras/lib/python/matplotlib/tests/baseline_images/test_spines/spines_axes_positions.pdf\n",
      "/System/Library/Frameworks/Python.framework/Versions/2.7/Extras/lib/python/matplotlib/tests/baseline_images/test_spines/spines_data_positions.pdf\n",
      "/System/Library/Frameworks/Python.framework/Versions/2.7/Extras/lib/python/matplotlib/tests/baseline_images/test_streamplot/streamplot_colormap_test_image.pdf\n",
      "/System/Library/Frameworks/Python.framework/Versions/2.7/Extras/lib/python/matplotlib/tests/baseline_images/test_streamplot/streamplot_linewidth_test_image.pdf\n",
      "/System/Library/Frameworks/Python.framework/Versions/2.7/Extras/lib/python/matplotlib/tests/baseline_images/test_streamplot/streamplot_masks_and_nans_test_image.pdf\n",
      "/System/Library/Frameworks/Python.framework/Versions/2.7/Extras/lib/python/matplotlib/tests/baseline_images/test_subplots/subplots_offset_text.pdf\n",
      "/System/Library/Frameworks/Python.framework/Versions/2.7/Extras/lib/python/matplotlib/tests/baseline_images/test_text/font_styles.pdf\n",
      "/System/Library/Frameworks/Python.framework/Versions/2.7/Extras/lib/python/matplotlib/tests/baseline_images/test_text/multiline.pdf\n",
      "/System/Library/Frameworks/Python.framework/Versions/2.7/Extras/lib/python/matplotlib/tests/baseline_images/test_text/text_alignment.pdf\n",
      "/System/Library/Frameworks/Python.framework/Versions/2.7/Extras/lib/python/matplotlib/tests/baseline_images/test_text/titles.pdf\n",
      "/System/Library/Frameworks/Python.framework/Versions/2.7/Extras/lib/python/matplotlib/tests/baseline_images/test_tightlayout/tight_layout1.pdf\n",
      "/System/Library/Frameworks/Python.framework/Versions/2.7/Extras/lib/python/matplotlib/tests/baseline_images/test_tightlayout/tight_layout2.pdf\n",
      "/System/Library/Frameworks/Python.framework/Versions/2.7/Extras/lib/python/matplotlib/tests/baseline_images/test_tightlayout/tight_layout3.pdf\n",
      "/System/Library/Frameworks/Python.framework/Versions/2.7/Extras/lib/python/matplotlib/tests/baseline_images/test_tightlayout/tight_layout4.pdf\n",
      "/System/Library/Frameworks/Python.framework/Versions/2.7/Extras/lib/python/matplotlib/tests/baseline_images/test_tightlayout/tight_layout5.pdf\n",
      "/System/Library/Frameworks/Python.framework/Versions/2.7/Extras/lib/python/matplotlib/tests/baseline_images/test_tightlayout/tight_layout6.pdf\n",
      "/System/Library/Frameworks/Python.framework/Versions/2.7/Extras/lib/python/matplotlib/tests/baseline_images/test_tightlayout/tight_layout7.pdf\n",
      "/System/Library/Frameworks/Python.framework/Versions/2.7/Extras/lib/python/matplotlib/tests/baseline_images/test_tightlayout/tight_layout8.pdf\n",
      "/System/Library/Frameworks/Python.framework/Versions/2.7/Extras/lib/python/matplotlib/tests/baseline_images/test_transforms/pre_transform_data.pdf\n",
      "/System/Library/Frameworks/Python.framework/Versions/2.7/Extras/lib/python/matplotlib/tests/baseline_images/test_triangulation/tripcolor1.pdf\n",
      "/System/Library/Frameworks/Python.framework/Versions/2.7/Extras/lib/python/matplotlib/tests/baseline_images/test_ttconv/truetype-conversion.pdf\n",
      "/System/Library/Frameworks/Python.framework/Versions/2.7/Extras/lib/python/matplotlib/tests/test_backend_pdf.py\n",
      "/System/Library/Frameworks/Python.framework/Versions/2.7/Extras/lib/python/matplotlib/tests/test_backend_pdf.pyc\n"
     ]
    },
    {
     "name": "stdout",
     "output_type": "stream",
     "text": [
      "/Users/qianweishuo/anaconda3/envs/py2/lib/python2.7/site-packages/enum/doc/enum.pdf\n",
      "/Users/qianweishuo/anaconda3/envs/py2/lib/python2.7/site-packages/matplotlib/backends/backend_pdf.py\n",
      "/Users/qianweishuo/anaconda3/envs/py2/lib/python2.7/site-packages/matplotlib/backends/backend_pdf.pyc\n",
      "/Users/qianweishuo/anaconda3/envs/py2/lib/python2.7/site-packages/matplotlib/mpl-data/fonts/pdfcorefonts\n",
      "/Users/qianweishuo/anaconda3/envs/py2/lib/python2.7/site-packages/matplotlib/mpl-data/fonts/pdfcorefonts/Courier-Bold.afm\n",
      "/Users/qianweishuo/anaconda3/envs/py2/lib/python2.7/site-packages/matplotlib/mpl-data/fonts/pdfcorefonts/Courier-BoldOblique.afm\n",
      "/Users/qianweishuo/anaconda3/envs/py2/lib/python2.7/site-packages/matplotlib/mpl-data/fonts/pdfcorefonts/Courier-Oblique.afm\n",
      "/Users/qianweishuo/anaconda3/envs/py2/lib/python2.7/site-packages/matplotlib/mpl-data/fonts/pdfcorefonts/Courier.afm\n",
      "/Users/qianweishuo/anaconda3/envs/py2/lib/python2.7/site-packages/matplotlib/mpl-data/fonts/pdfcorefonts/Helvetica-Bold.afm\n",
      "/Users/qianweishuo/anaconda3/envs/py2/lib/python2.7/site-packages/matplotlib/mpl-data/fonts/pdfcorefonts/Helvetica-BoldOblique.afm\n",
      "/Users/qianweishuo/anaconda3/envs/py2/lib/python2.7/site-packages/matplotlib/mpl-data/fonts/pdfcorefonts/Helvetica-Oblique.afm\n",
      "/Users/qianweishuo/anaconda3/envs/py2/lib/python2.7/site-packages/matplotlib/mpl-data/fonts/pdfcorefonts/Helvetica.afm\n",
      "/Users/qianweishuo/anaconda3/envs/py2/lib/python2.7/site-packages/matplotlib/mpl-data/fonts/pdfcorefonts/Symbol.afm\n",
      "/Users/qianweishuo/anaconda3/envs/py2/lib/python2.7/site-packages/matplotlib/mpl-data/fonts/pdfcorefonts/Times-Bold.afm\n",
      "/Users/qianweishuo/anaconda3/envs/py2/lib/python2.7/site-packages/matplotlib/mpl-data/fonts/pdfcorefonts/Times-BoldItalic.afm\n",
      "/Users/qianweishuo/anaconda3/envs/py2/lib/python2.7/site-packages/matplotlib/mpl-data/fonts/pdfcorefonts/Times-Italic.afm\n",
      "/Users/qianweishuo/anaconda3/envs/py2/lib/python2.7/site-packages/matplotlib/mpl-data/fonts/pdfcorefonts/Times-Roman.afm\n",
      "/Users/qianweishuo/anaconda3/envs/py2/lib/python2.7/site-packages/matplotlib/mpl-data/fonts/pdfcorefonts/ZapfDingbats.afm\n",
      "/Users/qianweishuo/anaconda3/envs/py2/lib/python2.7/site-packages/matplotlib/mpl-data/fonts/pdfcorefonts/readme.txt\n",
      "/Users/qianweishuo/anaconda3/envs/py2/lib/python2.7/site-packages/matplotlib/mpl-data/images/back.pdf\n",
      "/Users/qianweishuo/anaconda3/envs/py2/lib/python2.7/site-packages/matplotlib/mpl-data/images/filesave.pdf\n",
      "/Users/qianweishuo/anaconda3/envs/py2/lib/python2.7/site-packages/matplotlib/mpl-data/images/forward.pdf\n",
      "/Users/qianweishuo/anaconda3/envs/py2/lib/python2.7/site-packages/matplotlib/mpl-data/images/hand.pdf\n",
      "/Users/qianweishuo/anaconda3/envs/py2/lib/python2.7/site-packages/matplotlib/mpl-data/images/home.pdf\n",
      "/Users/qianweishuo/anaconda3/envs/py2/lib/python2.7/site-packages/matplotlib/mpl-data/images/matplotlib.pdf\n",
      "/Users/qianweishuo/anaconda3/envs/py2/lib/python2.7/site-packages/matplotlib/mpl-data/images/move.pdf\n",
      "/Users/qianweishuo/anaconda3/envs/py2/lib/python2.7/site-packages/matplotlib/mpl-data/images/qt4_editor_options.pdf\n",
      "/Users/qianweishuo/anaconda3/envs/py2/lib/python2.7/site-packages/matplotlib/mpl-data/images/subplots.pdf\n",
      "/Users/qianweishuo/anaconda3/envs/py2/lib/python2.7/site-packages/matplotlib/mpl-data/images/zoom_to_rect.pdf\n",
      "/Users/qianweishuo/anaconda3/envs/py2/lib/python2.7/site-packages/matplotlib/mpl-data/sample_data/None_vs_nearest-pdf.png\n",
      "/Users/qianweishuo/anaconda3/lib/python3.5/site-packages/jupyter_contrib_nbextensions/nbconvert_support/__pycache__/pre_svg2pdf.cpython-35.pyc\n",
      "/Users/qianweishuo/anaconda3/lib/python3.5/site-packages/jupyter_contrib_nbextensions/nbconvert_support/pre_svg2pdf.py\n",
      "/Users/qianweishuo/anaconda3/lib/python3.5/site-packages/jupyter_contrib_nbextensions/nbextensions/highlighter/export_highlights.pdf\n",
      "/Users/qianweishuo/anaconda3/lib/python3.5/site-packages/jupyter_contrib_nbextensions/nbextensions/highlighter/tst_highlights.pdf\n",
      "/Users/qianweishuo/anaconda3/lib/python3.5/site-packages/latex_envs/static/doc/documentation.pdf\n",
      "/Users/qianweishuo/anaconda3/lib/python3.5/site-packages/matplotlib/backends/__pycache__/backend_pdf.cpython-35.pyc\n",
      "/Users/qianweishuo/anaconda3/lib/python3.5/site-packages/matplotlib/backends/backend_pdf.py\n",
      "/Users/qianweishuo/anaconda3/lib/python3.5/site-packages/matplotlib/mpl-data/fonts/pdfcorefonts\n",
      "/Users/qianweishuo/anaconda3/lib/python3.5/site-packages/matplotlib/mpl-data/fonts/pdfcorefonts/Courier-Bold.afm\n",
      "/Users/qianweishuo/anaconda3/lib/python3.5/site-packages/matplotlib/mpl-data/fonts/pdfcorefonts/Courier-BoldOblique.afm\n",
      "/Users/qianweishuo/anaconda3/lib/python3.5/site-packages/matplotlib/mpl-data/fonts/pdfcorefonts/Courier-Oblique.afm\n",
      "/Users/qianweishuo/anaconda3/lib/python3.5/site-packages/matplotlib/mpl-data/fonts/pdfcorefonts/Courier.afm\n",
      "/Users/qianweishuo/anaconda3/lib/python3.5/site-packages/matplotlib/mpl-data/fonts/pdfcorefonts/Helvetica-Bold.afm\n",
      "/Users/qianweishuo/anaconda3/lib/python3.5/site-packages/matplotlib/mpl-data/fonts/pdfcorefonts/Helvetica-BoldOblique.afm\n",
      "/Users/qianweishuo/anaconda3/lib/python3.5/site-packages/matplotlib/mpl-data/fonts/pdfcorefonts/Helvetica-Oblique.afm\n",
      "/Users/qianweishuo/anaconda3/lib/python3.5/site-packages/matplotlib/mpl-data/fonts/pdfcorefonts/Helvetica.afm\n",
      "/Users/qianweishuo/anaconda3/lib/python3.5/site-packages/matplotlib/mpl-data/fonts/pdfcorefonts/Symbol.afm\n",
      "/Users/qianweishuo/anaconda3/lib/python3.5/site-packages/matplotlib/mpl-data/fonts/pdfcorefonts/Times-Bold.afm\n",
      "/Users/qianweishuo/anaconda3/lib/python3.5/site-packages/matplotlib/mpl-data/fonts/pdfcorefonts/Times-BoldItalic.afm\n",
      "/Users/qianweishuo/anaconda3/lib/python3.5/site-packages/matplotlib/mpl-data/fonts/pdfcorefonts/Times-Italic.afm\n",
      "/Users/qianweishuo/anaconda3/lib/python3.5/site-packages/matplotlib/mpl-data/fonts/pdfcorefonts/Times-Roman.afm\n",
      "/Users/qianweishuo/anaconda3/lib/python3.5/site-packages/matplotlib/mpl-data/fonts/pdfcorefonts/ZapfDingbats.afm\n",
      "/Users/qianweishuo/anaconda3/lib/python3.5/site-packages/matplotlib/mpl-data/fonts/pdfcorefonts/readme.txt\n",
      "/Users/qianweishuo/anaconda3/lib/python3.5/site-packages/matplotlib/mpl-data/images/back.pdf\n",
      "/Users/qianweishuo/anaconda3/lib/python3.5/site-packages/matplotlib/mpl-data/images/filesave.pdf\n",
      "/Users/qianweishuo/anaconda3/lib/python3.5/site-packages/matplotlib/mpl-data/images/forward.pdf\n",
      "/Users/qianweishuo/anaconda3/lib/python3.5/site-packages/matplotlib/mpl-data/images/hand.pdf\n",
      "/Users/qianweishuo/anaconda3/lib/python3.5/site-packages/matplotlib/mpl-data/images/home.pdf\n",
      "/Users/qianweishuo/anaconda3/lib/python3.5/site-packages/matplotlib/mpl-data/images/matplotlib.pdf\n",
      "/Users/qianweishuo/anaconda3/lib/python3.5/site-packages/matplotlib/mpl-data/images/move.pdf\n",
      "/Users/qianweishuo/anaconda3/lib/python3.5/site-packages/matplotlib/mpl-data/images/qt4_editor_options.pdf\n",
      "/Users/qianweishuo/anaconda3/lib/python3.5/site-packages/matplotlib/mpl-data/images/subplots.pdf\n",
      "/Users/qianweishuo/anaconda3/lib/python3.5/site-packages/matplotlib/mpl-data/images/zoom_to_rect.pdf\n",
      "/Users/qianweishuo/anaconda3/lib/python3.5/site-packages/matplotlib/mpl-data/sample_data/None_vs_nearest-pdf.png\n",
      "/Users/qianweishuo/anaconda3/lib/python3.5/site-packages/nbconvert/exporters/__pycache__/pdf.cpython-35.pyc\n",
      "/Users/qianweishuo/anaconda3/lib/python3.5/site-packages/nbconvert/exporters/pdf.py\n",
      "/Users/qianweishuo/anaconda3/lib/python3.5/site-packages/nbconvert/exporters/tests/__pycache__/test_pdf.cpython-35.pyc\n",
      "/Users/qianweishuo/anaconda3/lib/python3.5/site-packages/nbconvert/exporters/tests/test_pdf.py\n",
      "/Users/qianweishuo/anaconda3/lib/python3.5/site-packages/nbconvert/preprocessors/__pycache__/svg2pdf.cpython-35.pyc\n",
      "/Users/qianweishuo/anaconda3/lib/python3.5/site-packages/nbconvert/preprocessors/svg2pdf.py\n",
      "/Users/qianweishuo/anaconda3/lib/python3.5/site-packages/nbconvert/preprocessors/tests/__pycache__/test_svg2pdf.cpython-35.pyc\n",
      "/Users/qianweishuo/anaconda3/lib/python3.5/site-packages/nbconvert/preprocessors/tests/test_svg2pdf.py\n",
      "/Users/qianweishuo/anaconda3/lib/python3.5/site-packages/nbpresent/exporters/__pycache__/pdf.cpython-35.pyc\n",
      "/Users/qianweishuo/anaconda3/lib/python3.5/site-packages/nbpresent/exporters/__pycache__/pdf_capture.cpython-35.pyc\n",
      "/Users/qianweishuo/anaconda3/lib/python3.5/site-packages/nbpresent/exporters/__pycache__/pdf_ghost.cpython-35.pyc\n",
      "/Users/qianweishuo/anaconda3/lib/python3.5/site-packages/nbpresent/exporters/pdf.py\n",
      "/Users/qianweishuo/anaconda3/lib/python3.5/site-packages/nbpresent/exporters/pdf_capture.py\n",
      "/Users/qianweishuo/anaconda3/lib/python3.5/site-packages/nbpresent/exporters/pdf_ghost.py\n"
     ]
    },
    {
     "name": "stdout",
     "output_type": "stream",
     "text": [
      "/Users/qianweishuo/anaconda3/lib/python3.5/site-packages/spyder/images/filetypes/pdf.png\n",
      "/Users/qianweishuo/anaconda3/pkgs/enum34-1.1.6-py27_0/lib/python2.7/site-packages/enum/doc/enum.pdf\n",
      "/Users/qianweishuo/anaconda3/pkgs/matplotlib-1.5.1-np110py35_0/lib/python3.5/site-packages/matplotlib/backends/__pycache__/backend_pdf.cpython-35.pyc\n",
      "/Users/qianweishuo/anaconda3/pkgs/matplotlib-1.5.1-np110py35_0/lib/python3.5/site-packages/matplotlib/backends/backend_pdf.py\n",
      "/Users/qianweishuo/anaconda3/pkgs/matplotlib-1.5.1-np110py35_0/lib/python3.5/site-packages/matplotlib/mpl-data/fonts/pdfcorefonts\n",
      "/Users/qianweishuo/anaconda3/pkgs/matplotlib-1.5.1-np110py35_0/lib/python3.5/site-packages/matplotlib/mpl-data/fonts/pdfcorefonts/Courier-Bold.afm\n",
      "/Users/qianweishuo/anaconda3/pkgs/matplotlib-1.5.1-np110py35_0/lib/python3.5/site-packages/matplotlib/mpl-data/fonts/pdfcorefonts/Courier-BoldOblique.afm\n",
      "/Users/qianweishuo/anaconda3/pkgs/matplotlib-1.5.1-np110py35_0/lib/python3.5/site-packages/matplotlib/mpl-data/fonts/pdfcorefonts/Courier-Oblique.afm\n",
      "/Users/qianweishuo/anaconda3/pkgs/matplotlib-1.5.1-np110py35_0/lib/python3.5/site-packages/matplotlib/mpl-data/fonts/pdfcorefonts/Courier.afm\n",
      "/Users/qianweishuo/anaconda3/pkgs/matplotlib-1.5.1-np110py35_0/lib/python3.5/site-packages/matplotlib/mpl-data/fonts/pdfcorefonts/Helvetica-Bold.afm\n",
      "/Users/qianweishuo/anaconda3/pkgs/matplotlib-1.5.1-np110py35_0/lib/python3.5/site-packages/matplotlib/mpl-data/fonts/pdfcorefonts/Helvetica-BoldOblique.afm\n",
      "/Users/qianweishuo/anaconda3/pkgs/matplotlib-1.5.1-np110py35_0/lib/python3.5/site-packages/matplotlib/mpl-data/fonts/pdfcorefonts/Helvetica-Oblique.afm\n",
      "/Users/qianweishuo/anaconda3/pkgs/matplotlib-1.5.1-np110py35_0/lib/python3.5/site-packages/matplotlib/mpl-data/fonts/pdfcorefonts/Helvetica.afm\n",
      "/Users/qianweishuo/anaconda3/pkgs/matplotlib-1.5.1-np110py35_0/lib/python3.5/site-packages/matplotlib/mpl-data/fonts/pdfcorefonts/Symbol.afm\n",
      "/Users/qianweishuo/anaconda3/pkgs/matplotlib-1.5.1-np110py35_0/lib/python3.5/site-packages/matplotlib/mpl-data/fonts/pdfcorefonts/Times-Bold.afm\n",
      "/Users/qianweishuo/anaconda3/pkgs/matplotlib-1.5.1-np110py35_0/lib/python3.5/site-packages/matplotlib/mpl-data/fonts/pdfcorefonts/Times-BoldItalic.afm\n",
      "/Users/qianweishuo/anaconda3/pkgs/matplotlib-1.5.1-np110py35_0/lib/python3.5/site-packages/matplotlib/mpl-data/fonts/pdfcorefonts/Times-Italic.afm\n",
      "/Users/qianweishuo/anaconda3/pkgs/matplotlib-1.5.1-np110py35_0/lib/python3.5/site-packages/matplotlib/mpl-data/fonts/pdfcorefonts/Times-Roman.afm\n",
      "/Users/qianweishuo/anaconda3/pkgs/matplotlib-1.5.1-np110py35_0/lib/python3.5/site-packages/matplotlib/mpl-data/fonts/pdfcorefonts/ZapfDingbats.afm\n",
      "/Users/qianweishuo/anaconda3/pkgs/matplotlib-1.5.1-np110py35_0/lib/python3.5/site-packages/matplotlib/mpl-data/fonts/pdfcorefonts/readme.txt\n",
      "/Users/qianweishuo/anaconda3/pkgs/matplotlib-1.5.1-np110py35_0/lib/python3.5/site-packages/matplotlib/mpl-data/images/back.pdf\n",
      "/Users/qianweishuo/anaconda3/pkgs/matplotlib-1.5.1-np110py35_0/lib/python3.5/site-packages/matplotlib/mpl-data/images/filesave.pdf\n",
      "/Users/qianweishuo/anaconda3/pkgs/matplotlib-1.5.1-np110py35_0/lib/python3.5/site-packages/matplotlib/mpl-data/images/forward.pdf\n",
      "/Users/qianweishuo/anaconda3/pkgs/matplotlib-1.5.1-np110py35_0/lib/python3.5/site-packages/matplotlib/mpl-data/images/hand.pdf\n",
      "/Users/qianweishuo/anaconda3/pkgs/matplotlib-1.5.1-np110py35_0/lib/python3.5/site-packages/matplotlib/mpl-data/images/home.pdf\n",
      "/Users/qianweishuo/anaconda3/pkgs/matplotlib-1.5.1-np110py35_0/lib/python3.5/site-packages/matplotlib/mpl-data/images/matplotlib.pdf\n",
      "/Users/qianweishuo/anaconda3/pkgs/matplotlib-1.5.1-np110py35_0/lib/python3.5/site-packages/matplotlib/mpl-data/images/move.pdf\n",
      "/Users/qianweishuo/anaconda3/pkgs/matplotlib-1.5.1-np110py35_0/lib/python3.5/site-packages/matplotlib/mpl-data/images/qt4_editor_options.pdf\n",
      "/Users/qianweishuo/anaconda3/pkgs/matplotlib-1.5.1-np110py35_0/lib/python3.5/site-packages/matplotlib/mpl-data/images/subplots.pdf\n",
      "/Users/qianweishuo/anaconda3/pkgs/matplotlib-1.5.1-np110py35_0/lib/python3.5/site-packages/matplotlib/mpl-data/images/zoom_to_rect.pdf\n",
      "/Users/qianweishuo/anaconda3/pkgs/matplotlib-1.5.1-np110py35_0/lib/python3.5/site-packages/matplotlib/mpl-data/sample_data/None_vs_nearest-pdf.png\n",
      "/Users/qianweishuo/anaconda3/pkgs/matplotlib-1.5.1-np111py35_0/lib/python3.5/site-packages/matplotlib/backends/__pycache__/backend_pdf.cpython-35.pyc\n",
      "/Users/qianweishuo/anaconda3/pkgs/matplotlib-1.5.1-np111py35_0/lib/python3.5/site-packages/matplotlib/backends/backend_pdf.py\n",
      "/Users/qianweishuo/anaconda3/pkgs/matplotlib-1.5.1-np111py35_0/lib/python3.5/site-packages/matplotlib/mpl-data/fonts/pdfcorefonts\n",
      "/Users/qianweishuo/anaconda3/pkgs/matplotlib-1.5.1-np111py35_0/lib/python3.5/site-packages/matplotlib/mpl-data/fonts/pdfcorefonts/Courier-Bold.afm\n",
      "/Users/qianweishuo/anaconda3/pkgs/matplotlib-1.5.1-np111py35_0/lib/python3.5/site-packages/matplotlib/mpl-data/fonts/pdfcorefonts/Courier-BoldOblique.afm\n",
      "/Users/qianweishuo/anaconda3/pkgs/matplotlib-1.5.1-np111py35_0/lib/python3.5/site-packages/matplotlib/mpl-data/fonts/pdfcorefonts/Courier-Oblique.afm\n",
      "/Users/qianweishuo/anaconda3/pkgs/matplotlib-1.5.1-np111py35_0/lib/python3.5/site-packages/matplotlib/mpl-data/fonts/pdfcorefonts/Courier.afm\n",
      "/Users/qianweishuo/anaconda3/pkgs/matplotlib-1.5.1-np111py35_0/lib/python3.5/site-packages/matplotlib/mpl-data/fonts/pdfcorefonts/Helvetica-Bold.afm\n",
      "/Users/qianweishuo/anaconda3/pkgs/matplotlib-1.5.1-np111py35_0/lib/python3.5/site-packages/matplotlib/mpl-data/fonts/pdfcorefonts/Helvetica-BoldOblique.afm\n",
      "/Users/qianweishuo/anaconda3/pkgs/matplotlib-1.5.1-np111py35_0/lib/python3.5/site-packages/matplotlib/mpl-data/fonts/pdfcorefonts/Helvetica-Oblique.afm\n",
      "/Users/qianweishuo/anaconda3/pkgs/matplotlib-1.5.1-np111py35_0/lib/python3.5/site-packages/matplotlib/mpl-data/fonts/pdfcorefonts/Helvetica.afm\n",
      "/Users/qianweishuo/anaconda3/pkgs/matplotlib-1.5.1-np111py35_0/lib/python3.5/site-packages/matplotlib/mpl-data/fonts/pdfcorefonts/Symbol.afm\n",
      "/Users/qianweishuo/anaconda3/pkgs/matplotlib-1.5.1-np111py35_0/lib/python3.5/site-packages/matplotlib/mpl-data/fonts/pdfcorefonts/Times-Bold.afm\n",
      "/Users/qianweishuo/anaconda3/pkgs/matplotlib-1.5.1-np111py35_0/lib/python3.5/site-packages/matplotlib/mpl-data/fonts/pdfcorefonts/Times-BoldItalic.afm\n",
      "/Users/qianweishuo/anaconda3/pkgs/matplotlib-1.5.1-np111py35_0/lib/python3.5/site-packages/matplotlib/mpl-data/fonts/pdfcorefonts/Times-Italic.afm\n",
      "/Users/qianweishuo/anaconda3/pkgs/matplotlib-1.5.1-np111py35_0/lib/python3.5/site-packages/matplotlib/mpl-data/fonts/pdfcorefonts/Times-Roman.afm\n",
      "/Users/qianweishuo/anaconda3/pkgs/matplotlib-1.5.1-np111py35_0/lib/python3.5/site-packages/matplotlib/mpl-data/fonts/pdfcorefonts/ZapfDingbats.afm\n",
      "/Users/qianweishuo/anaconda3/pkgs/matplotlib-1.5.1-np111py35_0/lib/python3.5/site-packages/matplotlib/mpl-data/fonts/pdfcorefonts/readme.txt\n",
      "/Users/qianweishuo/anaconda3/pkgs/matplotlib-1.5.1-np111py35_0/lib/python3.5/site-packages/matplotlib/mpl-data/images/back.pdf\n",
      "/Users/qianweishuo/anaconda3/pkgs/matplotlib-1.5.1-np111py35_0/lib/python3.5/site-packages/matplotlib/mpl-data/images/filesave.pdf\n",
      "/Users/qianweishuo/anaconda3/pkgs/matplotlib-1.5.1-np111py35_0/lib/python3.5/site-packages/matplotlib/mpl-data/images/forward.pdf\n",
      "/Users/qianweishuo/anaconda3/pkgs/matplotlib-1.5.1-np111py35_0/lib/python3.5/site-packages/matplotlib/mpl-data/images/hand.pdf\n",
      "/Users/qianweishuo/anaconda3/pkgs/matplotlib-1.5.1-np111py35_0/lib/python3.5/site-packages/matplotlib/mpl-data/images/home.pdf\n",
      "/Users/qianweishuo/anaconda3/pkgs/matplotlib-1.5.1-np111py35_0/lib/python3.5/site-packages/matplotlib/mpl-data/images/matplotlib.pdf\n",
      "/Users/qianweishuo/anaconda3/pkgs/matplotlib-1.5.1-np111py35_0/lib/python3.5/site-packages/matplotlib/mpl-data/images/move.pdf\n",
      "/Users/qianweishuo/anaconda3/pkgs/matplotlib-1.5.1-np111py35_0/lib/python3.5/site-packages/matplotlib/mpl-data/images/qt4_editor_options.pdf\n",
      "/Users/qianweishuo/anaconda3/pkgs/matplotlib-1.5.1-np111py35_0/lib/python3.5/site-packages/matplotlib/mpl-data/images/subplots.pdf\n",
      "/Users/qianweishuo/anaconda3/pkgs/matplotlib-1.5.1-np111py35_0/lib/python3.5/site-packages/matplotlib/mpl-data/images/zoom_to_rect.pdf\n",
      "/Users/qianweishuo/anaconda3/pkgs/matplotlib-1.5.1-np111py35_0/lib/python3.5/site-packages/matplotlib/mpl-data/sample_data/None_vs_nearest-pdf.png\n",
      "/Users/qianweishuo/anaconda3/pkgs/matplotlib-2.0.0-np111py35_0/lib/python3.5/site-packages/matplotlib/backends/__pycache__/backend_pdf.cpython-35.pyc\n",
      "/Users/qianweishuo/anaconda3/pkgs/matplotlib-2.0.0-np111py35_0/lib/python3.5/site-packages/matplotlib/backends/backend_pdf.py\n",
      "/Users/qianweishuo/anaconda3/pkgs/matplotlib-2.0.0-np111py35_0/lib/python3.5/site-packages/matplotlib/mpl-data/fonts/pdfcorefonts\n",
      "/Users/qianweishuo/anaconda3/pkgs/matplotlib-2.0.0-np111py35_0/lib/python3.5/site-packages/matplotlib/mpl-data/fonts/pdfcorefonts/Courier-Bold.afm\n",
      "/Users/qianweishuo/anaconda3/pkgs/matplotlib-2.0.0-np111py35_0/lib/python3.5/site-packages/matplotlib/mpl-data/fonts/pdfcorefonts/Courier-BoldOblique.afm\n",
      "/Users/qianweishuo/anaconda3/pkgs/matplotlib-2.0.0-np111py35_0/lib/python3.5/site-packages/matplotlib/mpl-data/fonts/pdfcorefonts/Courier-Oblique.afm\n",
      "/Users/qianweishuo/anaconda3/pkgs/matplotlib-2.0.0-np111py35_0/lib/python3.5/site-packages/matplotlib/mpl-data/fonts/pdfcorefonts/Courier.afm\n",
      "/Users/qianweishuo/anaconda3/pkgs/matplotlib-2.0.0-np111py35_0/lib/python3.5/site-packages/matplotlib/mpl-data/fonts/pdfcorefonts/Helvetica-Bold.afm\n",
      "/Users/qianweishuo/anaconda3/pkgs/matplotlib-2.0.0-np111py35_0/lib/python3.5/site-packages/matplotlib/mpl-data/fonts/pdfcorefonts/Helvetica-BoldOblique.afm\n",
      "/Users/qianweishuo/anaconda3/pkgs/matplotlib-2.0.0-np111py35_0/lib/python3.5/site-packages/matplotlib/mpl-data/fonts/pdfcorefonts/Helvetica-Oblique.afm\n",
      "/Users/qianweishuo/anaconda3/pkgs/matplotlib-2.0.0-np111py35_0/lib/python3.5/site-packages/matplotlib/mpl-data/fonts/pdfcorefonts/Helvetica.afm\n",
      "/Users/qianweishuo/anaconda3/pkgs/matplotlib-2.0.0-np111py35_0/lib/python3.5/site-packages/matplotlib/mpl-data/fonts/pdfcorefonts/Symbol.afm\n",
      "/Users/qianweishuo/anaconda3/pkgs/matplotlib-2.0.0-np111py35_0/lib/python3.5/site-packages/matplotlib/mpl-data/fonts/pdfcorefonts/Times-Bold.afm\n",
      "/Users/qianweishuo/anaconda3/pkgs/matplotlib-2.0.0-np111py35_0/lib/python3.5/site-packages/matplotlib/mpl-data/fonts/pdfcorefonts/Times-BoldItalic.afm\n",
      "/Users/qianweishuo/anaconda3/pkgs/matplotlib-2.0.0-np111py35_0/lib/python3.5/site-packages/matplotlib/mpl-data/fonts/pdfcorefonts/Times-Italic.afm\n",
      "/Users/qianweishuo/anaconda3/pkgs/matplotlib-2.0.0-np111py35_0/lib/python3.5/site-packages/matplotlib/mpl-data/fonts/pdfcorefonts/Times-Roman.afm\n",
      "/Users/qianweishuo/anaconda3/pkgs/matplotlib-2.0.0-np111py35_0/lib/python3.5/site-packages/matplotlib/mpl-data/fonts/pdfcorefonts/ZapfDingbats.afm\n",
      "/Users/qianweishuo/anaconda3/pkgs/matplotlib-2.0.0-np111py35_0/lib/python3.5/site-packages/matplotlib/mpl-data/fonts/pdfcorefonts/readme.txt\n",
      "/Users/qianweishuo/anaconda3/pkgs/matplotlib-2.0.0-np111py35_0/lib/python3.5/site-packages/matplotlib/mpl-data/images/back.pdf\n",
      "/Users/qianweishuo/anaconda3/pkgs/matplotlib-2.0.0-np111py35_0/lib/python3.5/site-packages/matplotlib/mpl-data/images/filesave.pdf\n",
      "/Users/qianweishuo/anaconda3/pkgs/matplotlib-2.0.0-np111py35_0/lib/python3.5/site-packages/matplotlib/mpl-data/images/forward.pdf\n",
      "/Users/qianweishuo/anaconda3/pkgs/matplotlib-2.0.0-np111py35_0/lib/python3.5/site-packages/matplotlib/mpl-data/images/hand.pdf\n",
      "/Users/qianweishuo/anaconda3/pkgs/matplotlib-2.0.0-np111py35_0/lib/python3.5/site-packages/matplotlib/mpl-data/images/home.pdf\n",
      "/Users/qianweishuo/anaconda3/pkgs/matplotlib-2.0.0-np111py35_0/lib/python3.5/site-packages/matplotlib/mpl-data/images/matplotlib.pdf\n",
      "/Users/qianweishuo/anaconda3/pkgs/matplotlib-2.0.0-np111py35_0/lib/python3.5/site-packages/matplotlib/mpl-data/images/move.pdf\n",
      "/Users/qianweishuo/anaconda3/pkgs/matplotlib-2.0.0-np111py35_0/lib/python3.5/site-packages/matplotlib/mpl-data/images/qt4_editor_options.pdf\n",
      "/Users/qianweishuo/anaconda3/pkgs/matplotlib-2.0.0-np111py35_0/lib/python3.5/site-packages/matplotlib/mpl-data/images/subplots.pdf\n",
      "/Users/qianweishuo/anaconda3/pkgs/matplotlib-2.0.0-np111py35_0/lib/python3.5/site-packages/matplotlib/mpl-data/images/zoom_to_rect.pdf\n",
      "/Users/qianweishuo/anaconda3/pkgs/matplotlib-2.0.0-np111py35_0/lib/python3.5/site-packages/matplotlib/mpl-data/sample_data/None_vs_nearest-pdf.png\n",
      "/Users/qianweishuo/anaconda3/pkgs/matplotlib-2.0.0-np112py27_0/lib/python2.7/site-packages/matplotlib/backends/backend_pdf.py\n",
      "/Users/qianweishuo/anaconda3/pkgs/matplotlib-2.0.0-np112py27_0/lib/python2.7/site-packages/matplotlib/backends/backend_pdf.pyc\n",
      "/Users/qianweishuo/anaconda3/pkgs/matplotlib-2.0.0-np112py27_0/lib/python2.7/site-packages/matplotlib/mpl-data/fonts/pdfcorefonts\n",
      "/Users/qianweishuo/anaconda3/pkgs/matplotlib-2.0.0-np112py27_0/lib/python2.7/site-packages/matplotlib/mpl-data/fonts/pdfcorefonts/Courier-Bold.afm\n",
      "/Users/qianweishuo/anaconda3/pkgs/matplotlib-2.0.0-np112py27_0/lib/python2.7/site-packages/matplotlib/mpl-data/fonts/pdfcorefonts/Courier-BoldOblique.afm\n",
      "/Users/qianweishuo/anaconda3/pkgs/matplotlib-2.0.0-np112py27_0/lib/python2.7/site-packages/matplotlib/mpl-data/fonts/pdfcorefonts/Courier-Oblique.afm\n",
      "/Users/qianweishuo/anaconda3/pkgs/matplotlib-2.0.0-np112py27_0/lib/python2.7/site-packages/matplotlib/mpl-data/fonts/pdfcorefonts/Courier.afm\n",
      "/Users/qianweishuo/anaconda3/pkgs/matplotlib-2.0.0-np112py27_0/lib/python2.7/site-packages/matplotlib/mpl-data/fonts/pdfcorefonts/Helvetica-Bold.afm\n",
      "/Users/qianweishuo/anaconda3/pkgs/matplotlib-2.0.0-np112py27_0/lib/python2.7/site-packages/matplotlib/mpl-data/fonts/pdfcorefonts/Helvetica-BoldOblique.afm\n",
      "/Users/qianweishuo/anaconda3/pkgs/matplotlib-2.0.0-np112py27_0/lib/python2.7/site-packages/matplotlib/mpl-data/fonts/pdfcorefonts/Helvetica-Oblique.afm\n",
      "/Users/qianweishuo/anaconda3/pkgs/matplotlib-2.0.0-np112py27_0/lib/python2.7/site-packages/matplotlib/mpl-data/fonts/pdfcorefonts/Helvetica.afm\n",
      "/Users/qianweishuo/anaconda3/pkgs/matplotlib-2.0.0-np112py27_0/lib/python2.7/site-packages/matplotlib/mpl-data/fonts/pdfcorefonts/Symbol.afm\n",
      "/Users/qianweishuo/anaconda3/pkgs/matplotlib-2.0.0-np112py27_0/lib/python2.7/site-packages/matplotlib/mpl-data/fonts/pdfcorefonts/Times-Bold.afm\n",
      "/Users/qianweishuo/anaconda3/pkgs/matplotlib-2.0.0-np112py27_0/lib/python2.7/site-packages/matplotlib/mpl-data/fonts/pdfcorefonts/Times-BoldItalic.afm\n",
      "/Users/qianweishuo/anaconda3/pkgs/matplotlib-2.0.0-np112py27_0/lib/python2.7/site-packages/matplotlib/mpl-data/fonts/pdfcorefonts/Times-Italic.afm\n",
      "/Users/qianweishuo/anaconda3/pkgs/matplotlib-2.0.0-np112py27_0/lib/python2.7/site-packages/matplotlib/mpl-data/fonts/pdfcorefonts/Times-Roman.afm\n",
      "/Users/qianweishuo/anaconda3/pkgs/matplotlib-2.0.0-np112py27_0/lib/python2.7/site-packages/matplotlib/mpl-data/fonts/pdfcorefonts/ZapfDingbats.afm\n",
      "/Users/qianweishuo/anaconda3/pkgs/matplotlib-2.0.0-np112py27_0/lib/python2.7/site-packages/matplotlib/mpl-data/fonts/pdfcorefonts/readme.txt\n",
      "/Users/qianweishuo/anaconda3/pkgs/matplotlib-2.0.0-np112py27_0/lib/python2.7/site-packages/matplotlib/mpl-data/images/back.pdf\n",
      "/Users/qianweishuo/anaconda3/pkgs/matplotlib-2.0.0-np112py27_0/lib/python2.7/site-packages/matplotlib/mpl-data/images/filesave.pdf\n",
      "/Users/qianweishuo/anaconda3/pkgs/matplotlib-2.0.0-np112py27_0/lib/python2.7/site-packages/matplotlib/mpl-data/images/forward.pdf\n",
      "/Users/qianweishuo/anaconda3/pkgs/matplotlib-2.0.0-np112py27_0/lib/python2.7/site-packages/matplotlib/mpl-data/images/hand.pdf\n",
      "/Users/qianweishuo/anaconda3/pkgs/matplotlib-2.0.0-np112py27_0/lib/python2.7/site-packages/matplotlib/mpl-data/images/home.pdf\n",
      "/Users/qianweishuo/anaconda3/pkgs/matplotlib-2.0.0-np112py27_0/lib/python2.7/site-packages/matplotlib/mpl-data/images/matplotlib.pdf\n",
      "/Users/qianweishuo/anaconda3/pkgs/matplotlib-2.0.0-np112py27_0/lib/python2.7/site-packages/matplotlib/mpl-data/images/move.pdf\n",
      "/Users/qianweishuo/anaconda3/pkgs/matplotlib-2.0.0-np112py27_0/lib/python2.7/site-packages/matplotlib/mpl-data/images/qt4_editor_options.pdf\n",
      "/Users/qianweishuo/anaconda3/pkgs/matplotlib-2.0.0-np112py27_0/lib/python2.7/site-packages/matplotlib/mpl-data/images/subplots.pdf\n",
      "/Users/qianweishuo/anaconda3/pkgs/matplotlib-2.0.0-np112py27_0/lib/python2.7/site-packages/matplotlib/mpl-data/images/zoom_to_rect.pdf\n",
      "/Users/qianweishuo/anaconda3/pkgs/matplotlib-2.0.0-np112py27_0/lib/python2.7/site-packages/matplotlib/mpl-data/sample_data/None_vs_nearest-pdf.png\n",
      "/Users/qianweishuo/anaconda3/pkgs/nbconvert-4.1.0-py35_0/lib/python3.5/site-packages/nbconvert/exporters/__pycache__/pdf.cpython-35.pyc\n",
      "/Users/qianweishuo/anaconda3/pkgs/nbconvert-4.1.0-py35_0/lib/python3.5/site-packages/nbconvert/exporters/pdf.py\n",
      "/Users/qianweishuo/anaconda3/pkgs/nbconvert-4.1.0-py35_0/lib/python3.5/site-packages/nbconvert/exporters/tests/__pycache__/test_pdf.cpython-35.pyc\n",
      "/Users/qianweishuo/anaconda3/pkgs/nbconvert-4.1.0-py35_0/lib/python3.5/site-packages/nbconvert/exporters/tests/test_pdf.py\n",
      "/Users/qianweishuo/anaconda3/pkgs/nbconvert-4.1.0-py35_0/lib/python3.5/site-packages/nbconvert/preprocessors/__pycache__/svg2pdf.cpython-35.pyc\n",
      "/Users/qianweishuo/anaconda3/pkgs/nbconvert-4.1.0-py35_0/lib/python3.5/site-packages/nbconvert/preprocessors/svg2pdf.py\n",
      "/Users/qianweishuo/anaconda3/pkgs/nbconvert-4.1.0-py35_0/lib/python3.5/site-packages/nbconvert/preprocessors/tests/__pycache__/test_svg2pdf.cpython-35.pyc\n",
      "/Users/qianweishuo/anaconda3/pkgs/nbconvert-4.1.0-py35_0/lib/python3.5/site-packages/nbconvert/preprocessors/tests/test_svg2pdf.py\n",
      "/Users/qianweishuo/anaconda3/pkgs/nbconvert-4.2.0-py35_0/lib/python3.5/site-packages/nbconvert/exporters/__pycache__/pdf.cpython-35.pyc\n",
      "/Users/qianweishuo/anaconda3/pkgs/nbconvert-4.2.0-py35_0/lib/python3.5/site-packages/nbconvert/exporters/pdf.py\n",
      "/Users/qianweishuo/anaconda3/pkgs/nbconvert-4.2.0-py35_0/lib/python3.5/site-packages/nbconvert/exporters/tests/__pycache__/test_pdf.cpython-35.pyc\n",
      "/Users/qianweishuo/anaconda3/pkgs/nbconvert-4.2.0-py35_0/lib/python3.5/site-packages/nbconvert/exporters/tests/test_pdf.py\n",
      "/Users/qianweishuo/anaconda3/pkgs/nbconvert-4.2.0-py35_0/lib/python3.5/site-packages/nbconvert/preprocessors/__pycache__/svg2pdf.cpython-35.pyc\n",
      "/Users/qianweishuo/anaconda3/pkgs/nbconvert-4.2.0-py35_0/lib/python3.5/site-packages/nbconvert/preprocessors/svg2pdf.py\n",
      "/Users/qianweishuo/anaconda3/pkgs/nbconvert-4.2.0-py35_0/lib/python3.5/site-packages/nbconvert/preprocessors/tests/__pycache__/test_svg2pdf.cpython-35.pyc\n",
      "/Users/qianweishuo/anaconda3/pkgs/nbconvert-4.2.0-py35_0/lib/python3.5/site-packages/nbconvert/preprocessors/tests/test_svg2pdf.py\n",
      "/Users/qianweishuo/anaconda3/pkgs/nbpresent-3.0.2-py35_0/lib/python3.5/site-packages/nbpresent/exporters/__pycache__/pdf.cpython-35.pyc\n",
      "/Users/qianweishuo/anaconda3/pkgs/nbpresent-3.0.2-py35_0/lib/python3.5/site-packages/nbpresent/exporters/__pycache__/pdf_capture.cpython-35.pyc\n",
      "/Users/qianweishuo/anaconda3/pkgs/nbpresent-3.0.2-py35_0/lib/python3.5/site-packages/nbpresent/exporters/__pycache__/pdf_ghost.cpython-35.pyc\n",
      "/Users/qianweishuo/anaconda3/pkgs/nbpresent-3.0.2-py35_0/lib/python3.5/site-packages/nbpresent/exporters/pdf.py\n",
      "/Users/qianweishuo/anaconda3/pkgs/nbpresent-3.0.2-py35_0/lib/python3.5/site-packages/nbpresent/exporters/pdf_capture.py\n",
      "/Users/qianweishuo/anaconda3/pkgs/nbpresent-3.0.2-py35_0/lib/python3.5/site-packages/nbpresent/exporters/pdf_ghost.py\n"
     ]
    },
    {
     "name": "stdout",
     "output_type": "stream",
     "text": [
      "/Users/qianweishuo/anaconda3/pkgs/spyder-2.3.8-py35_1/lib/python3.5/site-packages/spyderlib/images/filetypes/pdf.png\n",
      "/Users/qianweishuo/anaconda3/pkgs/spyder-2.3.9-py35_0/lib/python3.5/site-packages/spyderlib/images/filetypes/pdf.png\n",
      "/Users/qianweishuo/anaconda3/pkgs/spyder-3.1.2-py35_0/lib/python3.5/site-packages/spyder/images/filetypes/pdf.png\n",
      "/usr/local/lib/python2.7/site-packages/jupyter_contrib_nbextensions/nbconvert_support/pre_svg2pdf.py\n",
      "/usr/local/lib/python2.7/site-packages/jupyter_contrib_nbextensions/nbconvert_support/pre_svg2pdf.pyc\n",
      "/usr/local/lib/python2.7/site-packages/jupyter_contrib_nbextensions/nbextensions/highlighter/export_highlights.pdf\n",
      "/usr/local/lib/python2.7/site-packages/jupyter_contrib_nbextensions/nbextensions/highlighter/tst_highlights.pdf\n",
      "/usr/local/lib/python2.7/site-packages/latex_envs/static/doc/documentation.pdf\n",
      "/usr/local/lib/python2.7/site-packages/nbconvert/exporters/pdf.py\n",
      "/usr/local/lib/python2.7/site-packages/nbconvert/exporters/pdf.pyc\n",
      "/usr/local/lib/python2.7/site-packages/nbconvert/exporters/tests/test_pdf.py\n",
      "/usr/local/lib/python2.7/site-packages/nbconvert/exporters/tests/test_pdf.pyc\n",
      "/usr/local/lib/python2.7/site-packages/nbconvert/preprocessors/svg2pdf.py\n",
      "/usr/local/lib/python2.7/site-packages/nbconvert/preprocessors/svg2pdf.pyc\n",
      "/usr/local/lib/python2.7/site-packages/nbconvert/preprocessors/tests/test_svg2pdf.py\n",
      "/usr/local/lib/python2.7/site-packages/nbconvert/preprocessors/tests/test_svg2pdf.pyc\n",
      "/usr/local/lib/python3.5/site-packages/matplotlib/backends/__pycache__/backend_pdf.cpython-35.pyc\n",
      "/usr/local/lib/python3.5/site-packages/matplotlib/backends/backend_pdf.py\n",
      "/usr/local/lib/python3.5/site-packages/matplotlib/mpl-data/fonts/pdfcorefonts\n",
      "/usr/local/lib/python3.5/site-packages/matplotlib/mpl-data/fonts/pdfcorefonts/Courier-Bold.afm\n",
      "/usr/local/lib/python3.5/site-packages/matplotlib/mpl-data/fonts/pdfcorefonts/Courier-BoldOblique.afm\n",
      "/usr/local/lib/python3.5/site-packages/matplotlib/mpl-data/fonts/pdfcorefonts/Courier-Oblique.afm\n",
      "/usr/local/lib/python3.5/site-packages/matplotlib/mpl-data/fonts/pdfcorefonts/Courier.afm\n",
      "/usr/local/lib/python3.5/site-packages/matplotlib/mpl-data/fonts/pdfcorefonts/Helvetica-Bold.afm\n",
      "/usr/local/lib/python3.5/site-packages/matplotlib/mpl-data/fonts/pdfcorefonts/Helvetica-BoldOblique.afm\n",
      "/usr/local/lib/python3.5/site-packages/matplotlib/mpl-data/fonts/pdfcorefonts/Helvetica-Oblique.afm\n",
      "/usr/local/lib/python3.5/site-packages/matplotlib/mpl-data/fonts/pdfcorefonts/Helvetica.afm\n",
      "/usr/local/lib/python3.5/site-packages/matplotlib/mpl-data/fonts/pdfcorefonts/Symbol.afm\n",
      "/usr/local/lib/python3.5/site-packages/matplotlib/mpl-data/fonts/pdfcorefonts/Times-Bold.afm\n",
      "/usr/local/lib/python3.5/site-packages/matplotlib/mpl-data/fonts/pdfcorefonts/Times-BoldItalic.afm\n",
      "/usr/local/lib/python3.5/site-packages/matplotlib/mpl-data/fonts/pdfcorefonts/Times-Italic.afm\n",
      "/usr/local/lib/python3.5/site-packages/matplotlib/mpl-data/fonts/pdfcorefonts/Times-Roman.afm\n",
      "/usr/local/lib/python3.5/site-packages/matplotlib/mpl-data/fonts/pdfcorefonts/ZapfDingbats.afm\n",
      "/usr/local/lib/python3.5/site-packages/matplotlib/mpl-data/fonts/pdfcorefonts/readme.txt\n",
      "/usr/local/lib/python3.5/site-packages/matplotlib/mpl-data/images/back.pdf\n",
      "/usr/local/lib/python3.5/site-packages/matplotlib/mpl-data/images/filesave.pdf\n",
      "/usr/local/lib/python3.5/site-packages/matplotlib/mpl-data/images/forward.pdf\n",
      "/usr/local/lib/python3.5/site-packages/matplotlib/mpl-data/images/hand.pdf\n",
      "/usr/local/lib/python3.5/site-packages/matplotlib/mpl-data/images/home.pdf\n",
      "/usr/local/lib/python3.5/site-packages/matplotlib/mpl-data/images/matplotlib.pdf\n",
      "/usr/local/lib/python3.5/site-packages/matplotlib/mpl-data/images/move.pdf\n",
      "/usr/local/lib/python3.5/site-packages/matplotlib/mpl-data/images/qt4_editor_options.pdf\n",
      "/usr/local/lib/python3.5/site-packages/matplotlib/mpl-data/images/subplots.pdf\n",
      "/usr/local/lib/python3.5/site-packages/matplotlib/mpl-data/images/zoom_to_rect.pdf\n",
      "/usr/local/lib/python3.5/site-packages/matplotlib/mpl-data/sample_data/None_vs_nearest-pdf.png\n",
      "/usr/local/lib/python3.5/site-packages/matplotlib/tests/__pycache__/test_backend_pdf.cpython-35.pyc\n",
      "/usr/local/lib/python3.5/site-packages/matplotlib/tests/baseline_images/test_arrow_patches/fancyarrow_test_image.pdf\n",
      "/usr/local/lib/python3.5/site-packages/matplotlib/tests/baseline_images/test_artist/clip_path_clipping.pdf\n",
      "/usr/local/lib/python3.5/site-packages/matplotlib/tests/baseline_images/test_axes/arc_ellipse.pdf\n",
      "/usr/local/lib/python3.5/site-packages/matplotlib/tests/baseline_images/test_axes/autoscale_tiny_range.pdf\n",
      "/usr/local/lib/python3.5/site-packages/matplotlib/tests/baseline_images/test_axes/axhspan_epoch.pdf\n",
      "/usr/local/lib/python3.5/site-packages/matplotlib/tests/baseline_images/test_axes/axvspan_epoch.pdf\n",
      "/usr/local/lib/python3.5/site-packages/matplotlib/tests/baseline_images/test_axes/boxplot.pdf\n",
      "/usr/local/lib/python3.5/site-packages/matplotlib/tests/baseline_images/test_axes/boxplot_autorange_whiskers.pdf\n",
      "/usr/local/lib/python3.5/site-packages/matplotlib/tests/baseline_images/test_axes/boxplot_rc_parameters.pdf\n",
      "/usr/local/lib/python3.5/site-packages/matplotlib/tests/baseline_images/test_axes/canonical.pdf\n",
      "/usr/local/lib/python3.5/site-packages/matplotlib/tests/baseline_images/test_axes/const_xy.pdf\n",
      "/usr/local/lib/python3.5/site-packages/matplotlib/tests/baseline_images/test_axes/contour_colorbar.pdf\n",
      "/usr/local/lib/python3.5/site-packages/matplotlib/tests/baseline_images/test_axes/contour_hatching.pdf\n",
      "/usr/local/lib/python3.5/site-packages/matplotlib/tests/baseline_images/test_axes/errorbar_basic.pdf\n",
      "/usr/local/lib/python3.5/site-packages/matplotlib/tests/baseline_images/test_axes/errorbar_limits.pdf\n",
      "/usr/local/lib/python3.5/site-packages/matplotlib/tests/baseline_images/test_axes/errorbar_mixed.pdf\n",
      "/usr/local/lib/python3.5/site-packages/matplotlib/tests/baseline_images/test_axes/errorbar_zorder.pdf\n",
      "/usr/local/lib/python3.5/site-packages/matplotlib/tests/baseline_images/test_axes/eventplot.pdf\n",
      "/usr/local/lib/python3.5/site-packages/matplotlib/tests/baseline_images/test_axes/fill_between_interpolate.pdf\n",
      "/usr/local/lib/python3.5/site-packages/matplotlib/tests/baseline_images/test_axes/formatter_large_small.pdf\n",
      "/usr/local/lib/python3.5/site-packages/matplotlib/tests/baseline_images/test_axes/formatter_ticker_001.pdf\n",
      "/usr/local/lib/python3.5/site-packages/matplotlib/tests/baseline_images/test_axes/formatter_ticker_002.pdf\n",
      "/usr/local/lib/python3.5/site-packages/matplotlib/tests/baseline_images/test_axes/formatter_ticker_003.pdf\n",
      "/usr/local/lib/python3.5/site-packages/matplotlib/tests/baseline_images/test_axes/formatter_ticker_004.pdf\n",
      "/usr/local/lib/python3.5/site-packages/matplotlib/tests/baseline_images/test_axes/formatter_ticker_005.pdf\n",
      "/usr/local/lib/python3.5/site-packages/matplotlib/tests/baseline_images/test_axes/hist2d.pdf\n",
      "/usr/local/lib/python3.5/site-packages/matplotlib/tests/baseline_images/test_axes/hist2d_transpose.pdf\n",
      "/usr/local/lib/python3.5/site-packages/matplotlib/tests/baseline_images/test_axes/hist_log.pdf\n",
      "/usr/local/lib/python3.5/site-packages/matplotlib/tests/baseline_images/test_axes/hist_offset.pdf\n",
      "/usr/local/lib/python3.5/site-packages/matplotlib/tests/baseline_images/test_axes/hist_stacked_bar.pdf\n",
      "/usr/local/lib/python3.5/site-packages/matplotlib/tests/baseline_images/test_axes/hist_stacked_normed.pdf\n",
      "/usr/local/lib/python3.5/site-packages/matplotlib/tests/baseline_images/test_axes/hist_stacked_step.pdf\n",
      "/usr/local/lib/python3.5/site-packages/matplotlib/tests/baseline_images/test_axes/hist_stacked_stepfilled.pdf\n",
      "/usr/local/lib/python3.5/site-packages/matplotlib/tests/baseline_images/test_axes/hist_stacked_stepfilled_alpha.pdf\n",
      "/usr/local/lib/python3.5/site-packages/matplotlib/tests/baseline_images/test_axes/hist_stacked_weights.pdf\n",
      "/usr/local/lib/python3.5/site-packages/matplotlib/tests/baseline_images/test_axes/hist_steplog.pdf\n",
      "/usr/local/lib/python3.5/site-packages/matplotlib/tests/baseline_images/test_axes/imshow.pdf\n",
      "/usr/local/lib/python3.5/site-packages/matplotlib/tests/baseline_images/test_axes/imshow_clip.pdf\n",
      "/usr/local/lib/python3.5/site-packages/matplotlib/tests/baseline_images/test_axes/log_scales.pdf\n",
      "/usr/local/lib/python3.5/site-packages/matplotlib/tests/baseline_images/test_axes/marker_edges.pdf\n",
      "/usr/local/lib/python3.5/site-packages/matplotlib/tests/baseline_images/test_axes/markevery.pdf\n",
      "/usr/local/lib/python3.5/site-packages/matplotlib/tests/baseline_images/test_axes/markevery_line.pdf\n",
      "/usr/local/lib/python3.5/site-packages/matplotlib/tests/baseline_images/test_axes/markevery_linear_scales.pdf\n",
      "/usr/local/lib/python3.5/site-packages/matplotlib/tests/baseline_images/test_axes/markevery_linear_scales_zoomed.pdf\n",
      "/usr/local/lib/python3.5/site-packages/matplotlib/tests/baseline_images/test_axes/markevery_log_scales.pdf\n",
      "/usr/local/lib/python3.5/site-packages/matplotlib/tests/baseline_images/test_axes/markevery_polar.pdf\n",
      "/usr/local/lib/python3.5/site-packages/matplotlib/tests/baseline_images/test_axes/mixed_collection.pdf\n",
      "/usr/local/lib/python3.5/site-packages/matplotlib/tests/baseline_images/test_axes/mollweide_grid.pdf\n",
      "/usr/local/lib/python3.5/site-packages/matplotlib/tests/baseline_images/test_axes/nonfinite_limits.pdf\n",
      "/usr/local/lib/python3.5/site-packages/matplotlib/tests/baseline_images/test_axes/offset_points.pdf\n",
      "/usr/local/lib/python3.5/site-packages/matplotlib/tests/baseline_images/test_axes/pcolormesh.pdf\n",
      "/usr/local/lib/python3.5/site-packages/matplotlib/tests/baseline_images/test_axes/polar_axes.pdf\n",
      "/usr/local/lib/python3.5/site-packages/matplotlib/tests/baseline_images/test_axes/polar_coords.pdf\n",
      "/usr/local/lib/python3.5/site-packages/matplotlib/tests/baseline_images/test_axes/polar_rlabel_position.pdf\n",
      "/usr/local/lib/python3.5/site-packages/matplotlib/tests/baseline_images/test_axes/polar_rmin.pdf\n",
      "/usr/local/lib/python3.5/site-packages/matplotlib/tests/baseline_images/test_axes/polar_theta_position.pdf\n",
      "/usr/local/lib/python3.5/site-packages/matplotlib/tests/baseline_images/test_axes/polar_units.pdf\n",
      "/usr/local/lib/python3.5/site-packages/matplotlib/tests/baseline_images/test_axes/polar_units_2.pdf\n",
      "/usr/local/lib/python3.5/site-packages/matplotlib/tests/baseline_images/test_axes/polar_wrap_180.pdf\n",
      "/usr/local/lib/python3.5/site-packages/matplotlib/tests/baseline_images/test_axes/polar_wrap_360.pdf\n",
      "/usr/local/lib/python3.5/site-packages/matplotlib/tests/baseline_images/test_axes/polycollection_joinstyle.pdf\n",
      "/usr/local/lib/python3.5/site-packages/matplotlib/tests/baseline_images/test_axes/rgba_markers.pdf\n",
      "/usr/local/lib/python3.5/site-packages/matplotlib/tests/baseline_images/test_axes/scatter.pdf\n",
      "/usr/local/lib/python3.5/site-packages/matplotlib/tests/baseline_images/test_axes/shaped_data.pdf\n",
      "/usr/local/lib/python3.5/site-packages/matplotlib/tests/baseline_images/test_axes/single_date.pdf\n",
      "/usr/local/lib/python3.5/site-packages/matplotlib/tests/baseline_images/test_axes/single_point.pdf\n",
      "/usr/local/lib/python3.5/site-packages/matplotlib/tests/baseline_images/test_axes/stackplot_test_baseline.pdf\n",
      "/usr/local/lib/python3.5/site-packages/matplotlib/tests/baseline_images/test_axes/stackplot_test_image.pdf\n",
      "/usr/local/lib/python3.5/site-packages/matplotlib/tests/baseline_images/test_axes/step_linestyle.pdf\n",
      "/usr/local/lib/python3.5/site-packages/matplotlib/tests/baseline_images/test_axes/symlog.pdf\n",
      "/usr/local/lib/python3.5/site-packages/matplotlib/tests/baseline_images/test_axes/symlog2.pdf\n",
      "/usr/local/lib/python3.5/site-packages/matplotlib/tests/baseline_images/test_axes/test_alpha.pdf\n",
      "/usr/local/lib/python3.5/site-packages/matplotlib/tests/baseline_images/test_axes/transparent_markers.pdf\n",
      "/usr/local/lib/python3.5/site-packages/matplotlib/tests/baseline_images/test_axes/twin_axis_locaters_formatters.pdf\n",
      "/usr/local/lib/python3.5/site-packages/matplotlib/tests/baseline_images/test_axes/units_strings.pdf\n",
      "/usr/local/lib/python3.5/site-packages/matplotlib/tests/baseline_images/test_axes/vline_hline_zorder.pdf\n",
      "/usr/local/lib/python3.5/site-packages/matplotlib/tests/baseline_images/test_backend_pdf\n",
      "/usr/local/lib/python3.5/site-packages/matplotlib/tests/baseline_images/test_backend_pdf/grayscale_alpha.pdf\n",
      "/usr/local/lib/python3.5/site-packages/matplotlib/tests/baseline_images/test_backend_pdf/hatching_legend.pdf\n",
      "/usr/local/lib/python3.5/site-packages/matplotlib/tests/baseline_images/test_backend_pdf/pdf_use14corefonts.pdf\n",
      "/usr/local/lib/python3.5/site-packages/matplotlib/tests/baseline_images/test_backend_pgf/pgf_bbox_inches.pdf\n",
      "/usr/local/lib/python3.5/site-packages/matplotlib/tests/baseline_images/test_backend_pgf/pgf_mixedmode.pdf\n",
      "/usr/local/lib/python3.5/site-packages/matplotlib/tests/baseline_images/test_backend_pgf/pgf_pdflatex.pdf\n",
      "/usr/local/lib/python3.5/site-packages/matplotlib/tests/baseline_images/test_backend_pgf/pgf_rcupdate1.pdf\n",
      "/usr/local/lib/python3.5/site-packages/matplotlib/tests/baseline_images/test_backend_pgf/pgf_rcupdate2.pdf\n",
      "/usr/local/lib/python3.5/site-packages/matplotlib/tests/baseline_images/test_backend_pgf/pgf_xelatex.pdf\n",
      "/usr/local/lib/python3.5/site-packages/matplotlib/tests/baseline_images/test_backend_svg/noscale.pdf\n",
      "/usr/local/lib/python3.5/site-packages/matplotlib/tests/baseline_images/test_bbox_tight/bbox_inches_tight.pdf\n",
      "/usr/local/lib/python3.5/site-packages/matplotlib/tests/baseline_images/test_bbox_tight/bbox_inches_tight_clipping.pdf\n",
      "/usr/local/lib/python3.5/site-packages/matplotlib/tests/baseline_images/test_bbox_tight/bbox_inches_tight_raster.pdf\n",
      "/usr/local/lib/python3.5/site-packages/matplotlib/tests/baseline_images/test_bbox_tight/bbox_inches_tight_suptile_legend.pdf\n",
      "/usr/local/lib/python3.5/site-packages/matplotlib/tests/baseline_images/test_collections/EventCollection_plot__add_positions.pdf\n",
      "/usr/local/lib/python3.5/site-packages/matplotlib/tests/baseline_images/test_collections/EventCollection_plot__append_positions.pdf\n",
      "/usr/local/lib/python3.5/site-packages/matplotlib/tests/baseline_images/test_collections/EventCollection_plot__default.pdf\n",
      "/usr/local/lib/python3.5/site-packages/matplotlib/tests/baseline_images/test_collections/EventCollection_plot__extend_positions.pdf\n",
      "/usr/local/lib/python3.5/site-packages/matplotlib/tests/baseline_images/test_collections/EventCollection_plot__set_color.pdf\n",
      "/usr/local/lib/python3.5/site-packages/matplotlib/tests/baseline_images/test_collections/EventCollection_plot__set_linelength.pdf\n",
      "/usr/local/lib/python3.5/site-packages/matplotlib/tests/baseline_images/test_collections/EventCollection_plot__set_lineoffset.pdf\n",
      "/usr/local/lib/python3.5/site-packages/matplotlib/tests/baseline_images/test_collections/EventCollection_plot__set_linestyle.pdf\n",
      "/usr/local/lib/python3.5/site-packages/matplotlib/tests/baseline_images/test_collections/EventCollection_plot__set_linewidth.pdf\n",
      "/usr/local/lib/python3.5/site-packages/matplotlib/tests/baseline_images/test_collections/EventCollection_plot__set_ls_dash.pdf\n",
      "/usr/local/lib/python3.5/site-packages/matplotlib/tests/baseline_images/test_collections/EventCollection_plot__set_orientation.pdf\n",
      "/usr/local/lib/python3.5/site-packages/matplotlib/tests/baseline_images/test_collections/EventCollection_plot__set_positions.pdf\n",
      "/usr/local/lib/python3.5/site-packages/matplotlib/tests/baseline_images/test_collections/EventCollection_plot__switch_orientation.pdf\n",
      "/usr/local/lib/python3.5/site-packages/matplotlib/tests/baseline_images/test_collections/EventCollection_plot__switch_orientation__2x.pdf\n",
      "/usr/local/lib/python3.5/site-packages/matplotlib/tests/baseline_images/test_colorbar/colorbar_closed_patch.pdf\n",
      "/usr/local/lib/python3.5/site-packages/matplotlib/tests/baseline_images/test_contour/contour_manual_labels.pdf\n",
      "/usr/local/lib/python3.5/site-packages/matplotlib/tests/baseline_images/test_figure/figure_suptitle.pdf\n",
      "/usr/local/lib/python3.5/site-packages/matplotlib/tests/baseline_images/test_figure/figure_today.pdf\n",
      "/usr/local/lib/python3.5/site-packages/matplotlib/tests/baseline_images/test_image/bbox_image_inverted.pdf\n",
      "/usr/local/lib/python3.5/site-packages/matplotlib/tests/baseline_images/test_image/image_clip.pdf\n",
      "/usr/local/lib/python3.5/site-packages/matplotlib/tests/baseline_images/test_image/image_cliprect.pdf\n",
      "/usr/local/lib/python3.5/site-packages/matplotlib/tests/baseline_images/test_image/image_composite_alpha.pdf\n",
      "/usr/local/lib/python3.5/site-packages/matplotlib/tests/baseline_images/test_image/image_composite_background.pdf\n",
      "/usr/local/lib/python3.5/site-packages/matplotlib/tests/baseline_images/test_image/image_interps.pdf\n",
      "/usr/local/lib/python3.5/site-packages/matplotlib/tests/baseline_images/test_image/image_shift.pdf\n",
      "/usr/local/lib/python3.5/site-packages/matplotlib/tests/baseline_images/test_image/imshow.pdf\n",
      "/usr/local/lib/python3.5/site-packages/matplotlib/tests/baseline_images/test_image/interp_nearest_vs_none.pdf\n",
      "/usr/local/lib/python3.5/site-packages/matplotlib/tests/baseline_images/test_image/no_interpolation_origin.pdf\n",
      "/usr/local/lib/python3.5/site-packages/matplotlib/tests/baseline_images/test_image/rasterize_10dpi.pdf\n",
      "/usr/local/lib/python3.5/site-packages/matplotlib/tests/baseline_images/test_legend/fancy.pdf\n",
      "/usr/local/lib/python3.5/site-packages/matplotlib/tests/baseline_images/test_legend/framealpha.pdf\n",
      "/usr/local/lib/python3.5/site-packages/matplotlib/tests/baseline_images/test_legend/legend_auto1.pdf\n",
      "/usr/local/lib/python3.5/site-packages/matplotlib/tests/baseline_images/test_legend/legend_auto2.pdf\n",
      "/usr/local/lib/python3.5/site-packages/matplotlib/tests/baseline_images/test_legend/legend_auto3.pdf\n",
      "/usr/local/lib/python3.5/site-packages/matplotlib/tests/baseline_images/test_legend/legend_expand.pdf\n",
      "/usr/local/lib/python3.5/site-packages/matplotlib/tests/baseline_images/test_legend/legend_various_labels.pdf\n",
      "/usr/local/lib/python3.5/site-packages/matplotlib/tests/baseline_images/test_legend/scatter_rc1.pdf\n",
      "/usr/local/lib/python3.5/site-packages/matplotlib/tests/baseline_images/test_legend/scatter_rc3.pdf\n",
      "/usr/local/lib/python3.5/site-packages/matplotlib/tests/baseline_images/test_lines/line_collection_dashes.pdf\n",
      "/usr/local/lib/python3.5/site-packages/matplotlib/tests/baseline_images/test_lines/line_dashes.pdf\n",
      "/usr/local/lib/python3.5/site-packages/matplotlib/tests/baseline_images/test_mathtext/mathtext_cm_00.pdf\n",
      "/usr/local/lib/python3.5/site-packages/matplotlib/tests/baseline_images/test_mathtext/mathtext_cm_01.pdf\n",
      "/usr/local/lib/python3.5/site-packages/matplotlib/tests/baseline_images/test_mathtext/mathtext_cm_02.pdf\n",
      "/usr/local/lib/python3.5/site-packages/matplotlib/tests/baseline_images/test_mathtext/mathtext_cm_03.pdf\n",
      "/usr/local/lib/python3.5/site-packages/matplotlib/tests/baseline_images/test_mathtext/mathtext_cm_04.pdf\n",
      "/usr/local/lib/python3.5/site-packages/matplotlib/tests/baseline_images/test_mathtext/mathtext_cm_05.pdf\n",
      "/usr/local/lib/python3.5/site-packages/matplotlib/tests/baseline_images/test_mathtext/mathtext_cm_06.pdf\n",
      "/usr/local/lib/python3.5/site-packages/matplotlib/tests/baseline_images/test_mathtext/mathtext_cm_07.pdf\n",
      "/usr/local/lib/python3.5/site-packages/matplotlib/tests/baseline_images/test_mathtext/mathtext_cm_08.pdf\n",
      "/usr/local/lib/python3.5/site-packages/matplotlib/tests/baseline_images/test_mathtext/mathtext_cm_09.pdf\n",
      "/usr/local/lib/python3.5/site-packages/matplotlib/tests/baseline_images/test_mathtext/mathtext_cm_10.pdf\n",
      "/usr/local/lib/python3.5/site-packages/matplotlib/tests/baseline_images/test_mathtext/mathtext_cm_11.pdf\n",
      "/usr/local/lib/python3.5/site-packages/matplotlib/tests/baseline_images/test_mathtext/mathtext_cm_12.pdf\n",
      "/usr/local/lib/python3.5/site-packages/matplotlib/tests/baseline_images/test_mathtext/mathtext_cm_13.pdf\n",
      "/usr/local/lib/python3.5/site-packages/matplotlib/tests/baseline_images/test_mathtext/mathtext_cm_14.pdf\n",
      "/usr/local/lib/python3.5/site-packages/matplotlib/tests/baseline_images/test_mathtext/mathtext_cm_15.pdf\n",
      "/usr/local/lib/python3.5/site-packages/matplotlib/tests/baseline_images/test_mathtext/mathtext_cm_16.pdf\n",
      "/usr/local/lib/python3.5/site-packages/matplotlib/tests/baseline_images/test_mathtext/mathtext_cm_17.pdf\n",
      "/usr/local/lib/python3.5/site-packages/matplotlib/tests/baseline_images/test_mathtext/mathtext_cm_18.pdf\n",
      "/usr/local/lib/python3.5/site-packages/matplotlib/tests/baseline_images/test_mathtext/mathtext_cm_19.pdf\n",
      "/usr/local/lib/python3.5/site-packages/matplotlib/tests/baseline_images/test_mathtext/mathtext_cm_20.pdf\n",
      "/usr/local/lib/python3.5/site-packages/matplotlib/tests/baseline_images/test_mathtext/mathtext_cm_21.pdf\n",
      "/usr/local/lib/python3.5/site-packages/matplotlib/tests/baseline_images/test_mathtext/mathtext_cm_22.pdf\n",
      "/usr/local/lib/python3.5/site-packages/matplotlib/tests/baseline_images/test_mathtext/mathtext_cm_23.pdf\n",
      "/usr/local/lib/python3.5/site-packages/matplotlib/tests/baseline_images/test_mathtext/mathtext_cm_24.pdf\n",
      "/usr/local/lib/python3.5/site-packages/matplotlib/tests/baseline_images/test_mathtext/mathtext_cm_25.pdf\n",
      "/usr/local/lib/python3.5/site-packages/matplotlib/tests/baseline_images/test_mathtext/mathtext_cm_26.pdf\n",
      "/usr/local/lib/python3.5/site-packages/matplotlib/tests/baseline_images/test_mathtext/mathtext_cm_27.pdf\n",
      "/usr/local/lib/python3.5/site-packages/matplotlib/tests/baseline_images/test_mathtext/mathtext_cm_28.pdf\n",
      "/usr/local/lib/python3.5/site-packages/matplotlib/tests/baseline_images/test_mathtext/mathtext_cm_29.pdf\n",
      "/usr/local/lib/python3.5/site-packages/matplotlib/tests/baseline_images/test_mathtext/mathtext_cm_30.pdf\n",
      "/usr/local/lib/python3.5/site-packages/matplotlib/tests/baseline_images/test_mathtext/mathtext_cm_31.pdf\n",
      "/usr/local/lib/python3.5/site-packages/matplotlib/tests/baseline_images/test_mathtext/mathtext_cm_32.pdf\n",
      "/usr/local/lib/python3.5/site-packages/matplotlib/tests/baseline_images/test_mathtext/mathtext_cm_33.pdf\n",
      "/usr/local/lib/python3.5/site-packages/matplotlib/tests/baseline_images/test_mathtext/mathtext_cm_34.pdf\n",
      "/usr/local/lib/python3.5/site-packages/matplotlib/tests/baseline_images/test_mathtext/mathtext_cm_35.pdf\n",
      "/usr/local/lib/python3.5/site-packages/matplotlib/tests/baseline_images/test_mathtext/mathtext_cm_36.pdf\n",
      "/usr/local/lib/python3.5/site-packages/matplotlib/tests/baseline_images/test_mathtext/mathtext_cm_37.pdf\n",
      "/usr/local/lib/python3.5/site-packages/matplotlib/tests/baseline_images/test_mathtext/mathtext_cm_38.pdf\n",
      "/usr/local/lib/python3.5/site-packages/matplotlib/tests/baseline_images/test_mathtext/mathtext_cm_39.pdf\n",
      "/usr/local/lib/python3.5/site-packages/matplotlib/tests/baseline_images/test_mathtext/mathtext_cm_40.pdf\n",
      "/usr/local/lib/python3.5/site-packages/matplotlib/tests/baseline_images/test_mathtext/mathtext_cm_41.pdf\n",
      "/usr/local/lib/python3.5/site-packages/matplotlib/tests/baseline_images/test_mathtext/mathtext_cm_42.pdf\n",
      "/usr/local/lib/python3.5/site-packages/matplotlib/tests/baseline_images/test_mathtext/mathtext_cm_43.pdf\n",
      "/usr/local/lib/python3.5/site-packages/matplotlib/tests/baseline_images/test_mathtext/mathtext_cm_44.pdf\n",
      "/usr/local/lib/python3.5/site-packages/matplotlib/tests/baseline_images/test_mathtext/mathtext_cm_45.pdf\n",
      "/usr/local/lib/python3.5/site-packages/matplotlib/tests/baseline_images/test_mathtext/mathtext_cm_46.pdf\n",
      "/usr/local/lib/python3.5/site-packages/matplotlib/tests/baseline_images/test_mathtext/mathtext_cm_47.pdf\n",
      "/usr/local/lib/python3.5/site-packages/matplotlib/tests/baseline_images/test_mathtext/mathtext_cm_48.pdf\n",
      "/usr/local/lib/python3.5/site-packages/matplotlib/tests/baseline_images/test_mathtext/mathtext_cm_49.pdf\n",
      "/usr/local/lib/python3.5/site-packages/matplotlib/tests/baseline_images/test_mathtext/mathtext_cm_50.pdf\n",
      "/usr/local/lib/python3.5/site-packages/matplotlib/tests/baseline_images/test_mathtext/mathtext_cm_51.pdf\n",
      "/usr/local/lib/python3.5/site-packages/matplotlib/tests/baseline_images/test_mathtext/mathtext_cm_52.pdf\n",
      "/usr/local/lib/python3.5/site-packages/matplotlib/tests/baseline_images/test_mathtext/mathtext_cm_53.pdf\n",
      "/usr/local/lib/python3.5/site-packages/matplotlib/tests/baseline_images/test_mathtext/mathtext_cm_54.pdf\n",
      "/usr/local/lib/python3.5/site-packages/matplotlib/tests/baseline_images/test_mathtext/mathtext_cm_55.pdf\n",
      "/usr/local/lib/python3.5/site-packages/matplotlib/tests/baseline_images/test_mathtext/mathtext_cm_56.pdf\n",
      "/usr/local/lib/python3.5/site-packages/matplotlib/tests/baseline_images/test_mathtext/mathtext_cm_57.pdf\n",
      "/usr/local/lib/python3.5/site-packages/matplotlib/tests/baseline_images/test_mathtext/mathtext_cm_58.pdf\n",
      "/usr/local/lib/python3.5/site-packages/matplotlib/tests/baseline_images/test_mathtext/mathtext_cm_59.pdf\n",
      "/usr/local/lib/python3.5/site-packages/matplotlib/tests/baseline_images/test_mathtext/mathtext_cm_60.pdf\n",
      "/usr/local/lib/python3.5/site-packages/matplotlib/tests/baseline_images/test_mathtext/mathtext_cm_61.pdf\n",
      "/usr/local/lib/python3.5/site-packages/matplotlib/tests/baseline_images/test_mathtext/mathtext_cm_62.pdf\n",
      "/usr/local/lib/python3.5/site-packages/matplotlib/tests/baseline_images/test_mathtext/mathtext_cm_63.pdf\n",
      "/usr/local/lib/python3.5/site-packages/matplotlib/tests/baseline_images/test_mathtext/mathtext_cm_64.pdf\n",
      "/usr/local/lib/python3.5/site-packages/matplotlib/tests/baseline_images/test_mathtext/mathtext_cm_65.pdf\n",
      "/usr/local/lib/python3.5/site-packages/matplotlib/tests/baseline_images/test_mathtext/mathtext_cm_66.pdf\n",
      "/usr/local/lib/python3.5/site-packages/matplotlib/tests/baseline_images/test_mathtext/mathtext_cm_67.pdf\n",
      "/usr/local/lib/python3.5/site-packages/matplotlib/tests/baseline_images/test_mathtext/mathtext_cm_68.pdf\n",
      "/usr/local/lib/python3.5/site-packages/matplotlib/tests/baseline_images/test_mathtext/mathtext_cm_69.pdf\n",
      "/usr/local/lib/python3.5/site-packages/matplotlib/tests/baseline_images/test_mathtext/mathtext_cm_70.pdf\n",
      "/usr/local/lib/python3.5/site-packages/matplotlib/tests/baseline_images/test_mathtext/mathtext_cm_71.pdf\n",
      "/usr/local/lib/python3.5/site-packages/matplotlib/tests/baseline_images/test_mathtext/mathtext_cm_72.pdf\n",
      "/usr/local/lib/python3.5/site-packages/matplotlib/tests/baseline_images/test_mathtext/mathtext_cm_73.pdf\n",
      "/usr/local/lib/python3.5/site-packages/matplotlib/tests/baseline_images/test_mathtext/mathtext_cm_74.pdf\n",
      "/usr/local/lib/python3.5/site-packages/matplotlib/tests/baseline_images/test_mathtext/mathtext_cm_75.pdf\n",
      "/usr/local/lib/python3.5/site-packages/matplotlib/tests/baseline_images/test_mathtext/mathtext_cm_76.pdf\n",
      "/usr/local/lib/python3.5/site-packages/matplotlib/tests/baseline_images/test_mathtext/mathtext_cm_77.pdf\n",
      "/usr/local/lib/python3.5/site-packages/matplotlib/tests/baseline_images/test_mathtext/mathtext_cm_78.pdf\n",
      "/usr/local/lib/python3.5/site-packages/matplotlib/tests/baseline_images/test_mathtext/mathtext_cm_79.pdf\n",
      "/usr/local/lib/python3.5/site-packages/matplotlib/tests/baseline_images/test_mathtext/mathtext_dejavusans_79.pdf\n",
      "/usr/local/lib/python3.5/site-packages/matplotlib/tests/baseline_images/test_mathtext/mathtext_dejavuserif_79.pdf\n",
      "/usr/local/lib/python3.5/site-packages/matplotlib/tests/baseline_images/test_mathtext/mathtext_stix_00.pdf\n",
      "/usr/local/lib/python3.5/site-packages/matplotlib/tests/baseline_images/test_mathtext/mathtext_stix_01.pdf\n",
      "/usr/local/lib/python3.5/site-packages/matplotlib/tests/baseline_images/test_mathtext/mathtext_stix_02.pdf\n",
      "/usr/local/lib/python3.5/site-packages/matplotlib/tests/baseline_images/test_mathtext/mathtext_stix_03.pdf\n",
      "/usr/local/lib/python3.5/site-packages/matplotlib/tests/baseline_images/test_mathtext/mathtext_stix_04.pdf\n",
      "/usr/local/lib/python3.5/site-packages/matplotlib/tests/baseline_images/test_mathtext/mathtext_stix_05.pdf\n",
      "/usr/local/lib/python3.5/site-packages/matplotlib/tests/baseline_images/test_mathtext/mathtext_stix_06.pdf\n",
      "/usr/local/lib/python3.5/site-packages/matplotlib/tests/baseline_images/test_mathtext/mathtext_stix_07.pdf\n",
      "/usr/local/lib/python3.5/site-packages/matplotlib/tests/baseline_images/test_mathtext/mathtext_stix_08.pdf\n",
      "/usr/local/lib/python3.5/site-packages/matplotlib/tests/baseline_images/test_mathtext/mathtext_stix_09.pdf\n",
      "/usr/local/lib/python3.5/site-packages/matplotlib/tests/baseline_images/test_mathtext/mathtext_stix_10.pdf\n",
      "/usr/local/lib/python3.5/site-packages/matplotlib/tests/baseline_images/test_mathtext/mathtext_stix_11.pdf\n",
      "/usr/local/lib/python3.5/site-packages/matplotlib/tests/baseline_images/test_mathtext/mathtext_stix_12.pdf\n",
      "/usr/local/lib/python3.5/site-packages/matplotlib/tests/baseline_images/test_mathtext/mathtext_stix_13.pdf\n",
      "/usr/local/lib/python3.5/site-packages/matplotlib/tests/baseline_images/test_mathtext/mathtext_stix_14.pdf\n",
      "/usr/local/lib/python3.5/site-packages/matplotlib/tests/baseline_images/test_mathtext/mathtext_stix_15.pdf\n",
      "/usr/local/lib/python3.5/site-packages/matplotlib/tests/baseline_images/test_mathtext/mathtext_stix_16.pdf\n",
      "/usr/local/lib/python3.5/site-packages/matplotlib/tests/baseline_images/test_mathtext/mathtext_stix_17.pdf\n",
      "/usr/local/lib/python3.5/site-packages/matplotlib/tests/baseline_images/test_mathtext/mathtext_stix_18.pdf\n",
      "/usr/local/lib/python3.5/site-packages/matplotlib/tests/baseline_images/test_mathtext/mathtext_stix_19.pdf\n",
      "/usr/local/lib/python3.5/site-packages/matplotlib/tests/baseline_images/test_mathtext/mathtext_stix_20.pdf\n",
      "/usr/local/lib/python3.5/site-packages/matplotlib/tests/baseline_images/test_mathtext/mathtext_stix_21.pdf\n",
      "/usr/local/lib/python3.5/site-packages/matplotlib/tests/baseline_images/test_mathtext/mathtext_stix_22.pdf\n",
      "/usr/local/lib/python3.5/site-packages/matplotlib/tests/baseline_images/test_mathtext/mathtext_stix_23.pdf\n",
      "/usr/local/lib/python3.5/site-packages/matplotlib/tests/baseline_images/test_mathtext/mathtext_stix_24.pdf\n",
      "/usr/local/lib/python3.5/site-packages/matplotlib/tests/baseline_images/test_mathtext/mathtext_stix_25.pdf\n",
      "/usr/local/lib/python3.5/site-packages/matplotlib/tests/baseline_images/test_mathtext/mathtext_stix_26.pdf\n",
      "/usr/local/lib/python3.5/site-packages/matplotlib/tests/baseline_images/test_mathtext/mathtext_stix_27.pdf\n",
      "/usr/local/lib/python3.5/site-packages/matplotlib/tests/baseline_images/test_mathtext/mathtext_stix_28.pdf\n",
      "/usr/local/lib/python3.5/site-packages/matplotlib/tests/baseline_images/test_mathtext/mathtext_stix_29.pdf\n",
      "/usr/local/lib/python3.5/site-packages/matplotlib/tests/baseline_images/test_mathtext/mathtext_stix_30.pdf\n",
      "/usr/local/lib/python3.5/site-packages/matplotlib/tests/baseline_images/test_mathtext/mathtext_stix_31.pdf\n",
      "/usr/local/lib/python3.5/site-packages/matplotlib/tests/baseline_images/test_mathtext/mathtext_stix_32.pdf\n",
      "/usr/local/lib/python3.5/site-packages/matplotlib/tests/baseline_images/test_mathtext/mathtext_stix_33.pdf\n",
      "/usr/local/lib/python3.5/site-packages/matplotlib/tests/baseline_images/test_mathtext/mathtext_stix_34.pdf\n",
      "/usr/local/lib/python3.5/site-packages/matplotlib/tests/baseline_images/test_mathtext/mathtext_stix_35.pdf\n",
      "/usr/local/lib/python3.5/site-packages/matplotlib/tests/baseline_images/test_mathtext/mathtext_stix_36.pdf\n",
      "/usr/local/lib/python3.5/site-packages/matplotlib/tests/baseline_images/test_mathtext/mathtext_stix_37.pdf\n",
      "/usr/local/lib/python3.5/site-packages/matplotlib/tests/baseline_images/test_mathtext/mathtext_stix_38.pdf\n",
      "/usr/local/lib/python3.5/site-packages/matplotlib/tests/baseline_images/test_mathtext/mathtext_stix_39.pdf\n",
      "/usr/local/lib/python3.5/site-packages/matplotlib/tests/baseline_images/test_mathtext/mathtext_stix_40.pdf\n",
      "/usr/local/lib/python3.5/site-packages/matplotlib/tests/baseline_images/test_mathtext/mathtext_stix_41.pdf\n",
      "/usr/local/lib/python3.5/site-packages/matplotlib/tests/baseline_images/test_mathtext/mathtext_stix_42.pdf\n",
      "/usr/local/lib/python3.5/site-packages/matplotlib/tests/baseline_images/test_mathtext/mathtext_stix_43.pdf\n",
      "/usr/local/lib/python3.5/site-packages/matplotlib/tests/baseline_images/test_mathtext/mathtext_stix_44.pdf\n",
      "/usr/local/lib/python3.5/site-packages/matplotlib/tests/baseline_images/test_mathtext/mathtext_stix_45.pdf\n",
      "/usr/local/lib/python3.5/site-packages/matplotlib/tests/baseline_images/test_mathtext/mathtext_stix_46.pdf\n",
      "/usr/local/lib/python3.5/site-packages/matplotlib/tests/baseline_images/test_mathtext/mathtext_stix_47.pdf\n",
      "/usr/local/lib/python3.5/site-packages/matplotlib/tests/baseline_images/test_mathtext/mathtext_stix_48.pdf\n",
      "/usr/local/lib/python3.5/site-packages/matplotlib/tests/baseline_images/test_mathtext/mathtext_stix_49.pdf\n",
      "/usr/local/lib/python3.5/site-packages/matplotlib/tests/baseline_images/test_mathtext/mathtext_stix_50.pdf\n",
      "/usr/local/lib/python3.5/site-packages/matplotlib/tests/baseline_images/test_mathtext/mathtext_stix_51.pdf\n",
      "/usr/local/lib/python3.5/site-packages/matplotlib/tests/baseline_images/test_mathtext/mathtext_stix_52.pdf\n",
      "/usr/local/lib/python3.5/site-packages/matplotlib/tests/baseline_images/test_mathtext/mathtext_stix_53.pdf\n",
      "/usr/local/lib/python3.5/site-packages/matplotlib/tests/baseline_images/test_mathtext/mathtext_stix_54.pdf\n",
      "/usr/local/lib/python3.5/site-packages/matplotlib/tests/baseline_images/test_mathtext/mathtext_stix_55.pdf\n",
      "/usr/local/lib/python3.5/site-packages/matplotlib/tests/baseline_images/test_mathtext/mathtext_stix_56.pdf\n",
      "/usr/local/lib/python3.5/site-packages/matplotlib/tests/baseline_images/test_mathtext/mathtext_stix_57.pdf\n",
      "/usr/local/lib/python3.5/site-packages/matplotlib/tests/baseline_images/test_mathtext/mathtext_stix_58.pdf\n",
      "/usr/local/lib/python3.5/site-packages/matplotlib/tests/baseline_images/test_mathtext/mathtext_stix_59.pdf\n",
      "/usr/local/lib/python3.5/site-packages/matplotlib/tests/baseline_images/test_mathtext/mathtext_stix_60.pdf\n",
      "/usr/local/lib/python3.5/site-packages/matplotlib/tests/baseline_images/test_mathtext/mathtext_stix_61.pdf\n",
      "/usr/local/lib/python3.5/site-packages/matplotlib/tests/baseline_images/test_mathtext/mathtext_stix_62.pdf\n",
      "/usr/local/lib/python3.5/site-packages/matplotlib/tests/baseline_images/test_mathtext/mathtext_stix_63.pdf\n",
      "/usr/local/lib/python3.5/site-packages/matplotlib/tests/baseline_images/test_mathtext/mathtext_stix_64.pdf\n",
      "/usr/local/lib/python3.5/site-packages/matplotlib/tests/baseline_images/test_mathtext/mathtext_stix_65.pdf\n",
      "/usr/local/lib/python3.5/site-packages/matplotlib/tests/baseline_images/test_mathtext/mathtext_stix_66.pdf\n",
      "/usr/local/lib/python3.5/site-packages/matplotlib/tests/baseline_images/test_mathtext/mathtext_stix_67.pdf\n",
      "/usr/local/lib/python3.5/site-packages/matplotlib/tests/baseline_images/test_mathtext/mathtext_stix_68.pdf\n",
      "/usr/local/lib/python3.5/site-packages/matplotlib/tests/baseline_images/test_mathtext/mathtext_stix_69.pdf\n",
      "/usr/local/lib/python3.5/site-packages/matplotlib/tests/baseline_images/test_mathtext/mathtext_stix_70.pdf\n",
      "/usr/local/lib/python3.5/site-packages/matplotlib/tests/baseline_images/test_mathtext/mathtext_stix_71.pdf\n",
      "/usr/local/lib/python3.5/site-packages/matplotlib/tests/baseline_images/test_mathtext/mathtext_stix_72.pdf\n",
      "/usr/local/lib/python3.5/site-packages/matplotlib/tests/baseline_images/test_mathtext/mathtext_stix_73.pdf\n",
      "/usr/local/lib/python3.5/site-packages/matplotlib/tests/baseline_images/test_mathtext/mathtext_stix_74.pdf\n",
      "/usr/local/lib/python3.5/site-packages/matplotlib/tests/baseline_images/test_mathtext/mathtext_stix_75.pdf\n",
      "/usr/local/lib/python3.5/site-packages/matplotlib/tests/baseline_images/test_mathtext/mathtext_stix_76.pdf\n",
      "/usr/local/lib/python3.5/site-packages/matplotlib/tests/baseline_images/test_mathtext/mathtext_stix_77.pdf\n",
      "/usr/local/lib/python3.5/site-packages/matplotlib/tests/baseline_images/test_mathtext/mathtext_stix_78.pdf\n",
      "/usr/local/lib/python3.5/site-packages/matplotlib/tests/baseline_images/test_mathtext/mathtext_stix_79.pdf\n",
      "/usr/local/lib/python3.5/site-packages/matplotlib/tests/baseline_images/test_mathtext/mathtext_stixsans_00.pdf\n",
      "/usr/local/lib/python3.5/site-packages/matplotlib/tests/baseline_images/test_mathtext/mathtext_stixsans_01.pdf\n",
      "/usr/local/lib/python3.5/site-packages/matplotlib/tests/baseline_images/test_mathtext/mathtext_stixsans_02.pdf\n",
      "/usr/local/lib/python3.5/site-packages/matplotlib/tests/baseline_images/test_mathtext/mathtext_stixsans_03.pdf\n",
      "/usr/local/lib/python3.5/site-packages/matplotlib/tests/baseline_images/test_mathtext/mathtext_stixsans_04.pdf\n",
      "/usr/local/lib/python3.5/site-packages/matplotlib/tests/baseline_images/test_mathtext/mathtext_stixsans_05.pdf\n",
      "/usr/local/lib/python3.5/site-packages/matplotlib/tests/baseline_images/test_mathtext/mathtext_stixsans_06.pdf\n",
      "/usr/local/lib/python3.5/site-packages/matplotlib/tests/baseline_images/test_mathtext/mathtext_stixsans_07.pdf\n",
      "/usr/local/lib/python3.5/site-packages/matplotlib/tests/baseline_images/test_mathtext/mathtext_stixsans_08.pdf\n",
      "/usr/local/lib/python3.5/site-packages/matplotlib/tests/baseline_images/test_mathtext/mathtext_stixsans_09.pdf\n",
      "/usr/local/lib/python3.5/site-packages/matplotlib/tests/baseline_images/test_mathtext/mathtext_stixsans_10.pdf\n",
      "/usr/local/lib/python3.5/site-packages/matplotlib/tests/baseline_images/test_mathtext/mathtext_stixsans_11.pdf\n",
      "/usr/local/lib/python3.5/site-packages/matplotlib/tests/baseline_images/test_mathtext/mathtext_stixsans_12.pdf\n",
      "/usr/local/lib/python3.5/site-packages/matplotlib/tests/baseline_images/test_mathtext/mathtext_stixsans_13.pdf\n",
      "/usr/local/lib/python3.5/site-packages/matplotlib/tests/baseline_images/test_mathtext/mathtext_stixsans_14.pdf\n",
      "/usr/local/lib/python3.5/site-packages/matplotlib/tests/baseline_images/test_mathtext/mathtext_stixsans_15.pdf\n",
      "/usr/local/lib/python3.5/site-packages/matplotlib/tests/baseline_images/test_mathtext/mathtext_stixsans_16.pdf\n",
      "/usr/local/lib/python3.5/site-packages/matplotlib/tests/baseline_images/test_mathtext/mathtext_stixsans_17.pdf\n",
      "/usr/local/lib/python3.5/site-packages/matplotlib/tests/baseline_images/test_mathtext/mathtext_stixsans_18.pdf\n",
      "/usr/local/lib/python3.5/site-packages/matplotlib/tests/baseline_images/test_mathtext/mathtext_stixsans_19.pdf\n",
      "/usr/local/lib/python3.5/site-packages/matplotlib/tests/baseline_images/test_mathtext/mathtext_stixsans_20.pdf\n",
      "/usr/local/lib/python3.5/site-packages/matplotlib/tests/baseline_images/test_mathtext/mathtext_stixsans_21.pdf\n",
      "/usr/local/lib/python3.5/site-packages/matplotlib/tests/baseline_images/test_mathtext/mathtext_stixsans_22.pdf\n",
      "/usr/local/lib/python3.5/site-packages/matplotlib/tests/baseline_images/test_mathtext/mathtext_stixsans_23.pdf\n",
      "/usr/local/lib/python3.5/site-packages/matplotlib/tests/baseline_images/test_mathtext/mathtext_stixsans_24.pdf\n",
      "/usr/local/lib/python3.5/site-packages/matplotlib/tests/baseline_images/test_mathtext/mathtext_stixsans_25.pdf\n",
      "/usr/local/lib/python3.5/site-packages/matplotlib/tests/baseline_images/test_mathtext/mathtext_stixsans_26.pdf\n",
      "/usr/local/lib/python3.5/site-packages/matplotlib/tests/baseline_images/test_mathtext/mathtext_stixsans_27.pdf\n",
      "/usr/local/lib/python3.5/site-packages/matplotlib/tests/baseline_images/test_mathtext/mathtext_stixsans_28.pdf\n",
      "/usr/local/lib/python3.5/site-packages/matplotlib/tests/baseline_images/test_mathtext/mathtext_stixsans_29.pdf\n",
      "/usr/local/lib/python3.5/site-packages/matplotlib/tests/baseline_images/test_mathtext/mathtext_stixsans_30.pdf\n",
      "/usr/local/lib/python3.5/site-packages/matplotlib/tests/baseline_images/test_mathtext/mathtext_stixsans_31.pdf\n",
      "/usr/local/lib/python3.5/site-packages/matplotlib/tests/baseline_images/test_mathtext/mathtext_stixsans_32.pdf\n",
      "/usr/local/lib/python3.5/site-packages/matplotlib/tests/baseline_images/test_mathtext/mathtext_stixsans_33.pdf\n",
      "/usr/local/lib/python3.5/site-packages/matplotlib/tests/baseline_images/test_mathtext/mathtext_stixsans_34.pdf\n",
      "/usr/local/lib/python3.5/site-packages/matplotlib/tests/baseline_images/test_mathtext/mathtext_stixsans_35.pdf\n",
      "/usr/local/lib/python3.5/site-packages/matplotlib/tests/baseline_images/test_mathtext/mathtext_stixsans_36.pdf\n",
      "/usr/local/lib/python3.5/site-packages/matplotlib/tests/baseline_images/test_mathtext/mathtext_stixsans_37.pdf\n",
      "/usr/local/lib/python3.5/site-packages/matplotlib/tests/baseline_images/test_mathtext/mathtext_stixsans_38.pdf\n",
      "/usr/local/lib/python3.5/site-packages/matplotlib/tests/baseline_images/test_mathtext/mathtext_stixsans_39.pdf\n",
      "/usr/local/lib/python3.5/site-packages/matplotlib/tests/baseline_images/test_mathtext/mathtext_stixsans_40.pdf\n",
      "/usr/local/lib/python3.5/site-packages/matplotlib/tests/baseline_images/test_mathtext/mathtext_stixsans_41.pdf\n",
      "/usr/local/lib/python3.5/site-packages/matplotlib/tests/baseline_images/test_mathtext/mathtext_stixsans_42.pdf\n",
      "/usr/local/lib/python3.5/site-packages/matplotlib/tests/baseline_images/test_mathtext/mathtext_stixsans_43.pdf\n",
      "/usr/local/lib/python3.5/site-packages/matplotlib/tests/baseline_images/test_mathtext/mathtext_stixsans_44.pdf\n",
      "/usr/local/lib/python3.5/site-packages/matplotlib/tests/baseline_images/test_mathtext/mathtext_stixsans_45.pdf\n",
      "/usr/local/lib/python3.5/site-packages/matplotlib/tests/baseline_images/test_mathtext/mathtext_stixsans_46.pdf\n",
      "/usr/local/lib/python3.5/site-packages/matplotlib/tests/baseline_images/test_mathtext/mathtext_stixsans_47.pdf\n",
      "/usr/local/lib/python3.5/site-packages/matplotlib/tests/baseline_images/test_mathtext/mathtext_stixsans_48.pdf\n",
      "/usr/local/lib/python3.5/site-packages/matplotlib/tests/baseline_images/test_mathtext/mathtext_stixsans_49.pdf\n",
      "/usr/local/lib/python3.5/site-packages/matplotlib/tests/baseline_images/test_mathtext/mathtext_stixsans_50.pdf\n",
      "/usr/local/lib/python3.5/site-packages/matplotlib/tests/baseline_images/test_mathtext/mathtext_stixsans_51.pdf\n",
      "/usr/local/lib/python3.5/site-packages/matplotlib/tests/baseline_images/test_mathtext/mathtext_stixsans_52.pdf\n",
      "/usr/local/lib/python3.5/site-packages/matplotlib/tests/baseline_images/test_mathtext/mathtext_stixsans_53.pdf\n",
      "/usr/local/lib/python3.5/site-packages/matplotlib/tests/baseline_images/test_mathtext/mathtext_stixsans_54.pdf\n",
      "/usr/local/lib/python3.5/site-packages/matplotlib/tests/baseline_images/test_mathtext/mathtext_stixsans_55.pdf\n",
      "/usr/local/lib/python3.5/site-packages/matplotlib/tests/baseline_images/test_mathtext/mathtext_stixsans_56.pdf\n",
      "/usr/local/lib/python3.5/site-packages/matplotlib/tests/baseline_images/test_mathtext/mathtext_stixsans_57.pdf\n",
      "/usr/local/lib/python3.5/site-packages/matplotlib/tests/baseline_images/test_mathtext/mathtext_stixsans_58.pdf\n",
      "/usr/local/lib/python3.5/site-packages/matplotlib/tests/baseline_images/test_mathtext/mathtext_stixsans_59.pdf\n",
      "/usr/local/lib/python3.5/site-packages/matplotlib/tests/baseline_images/test_mathtext/mathtext_stixsans_60.pdf\n",
      "/usr/local/lib/python3.5/site-packages/matplotlib/tests/baseline_images/test_mathtext/mathtext_stixsans_61.pdf\n",
      "/usr/local/lib/python3.5/site-packages/matplotlib/tests/baseline_images/test_mathtext/mathtext_stixsans_62.pdf\n",
      "/usr/local/lib/python3.5/site-packages/matplotlib/tests/baseline_images/test_mathtext/mathtext_stixsans_63.pdf\n",
      "/usr/local/lib/python3.5/site-packages/matplotlib/tests/baseline_images/test_mathtext/mathtext_stixsans_64.pdf\n",
      "/usr/local/lib/python3.5/site-packages/matplotlib/tests/baseline_images/test_mathtext/mathtext_stixsans_65.pdf\n",
      "/usr/local/lib/python3.5/site-packages/matplotlib/tests/baseline_images/test_mathtext/mathtext_stixsans_66.pdf\n",
      "/usr/local/lib/python3.5/site-packages/matplotlib/tests/baseline_images/test_mathtext/mathtext_stixsans_67.pdf\n",
      "/usr/local/lib/python3.5/site-packages/matplotlib/tests/baseline_images/test_mathtext/mathtext_stixsans_68.pdf\n",
      "/usr/local/lib/python3.5/site-packages/matplotlib/tests/baseline_images/test_mathtext/mathtext_stixsans_69.pdf\n",
      "/usr/local/lib/python3.5/site-packages/matplotlib/tests/baseline_images/test_mathtext/mathtext_stixsans_70.pdf\n",
      "/usr/local/lib/python3.5/site-packages/matplotlib/tests/baseline_images/test_mathtext/mathtext_stixsans_71.pdf\n",
      "/usr/local/lib/python3.5/site-packages/matplotlib/tests/baseline_images/test_mathtext/mathtext_stixsans_72.pdf\n",
      "/usr/local/lib/python3.5/site-packages/matplotlib/tests/baseline_images/test_mathtext/mathtext_stixsans_73.pdf\n",
      "/usr/local/lib/python3.5/site-packages/matplotlib/tests/baseline_images/test_mathtext/mathtext_stixsans_74.pdf\n",
      "/usr/local/lib/python3.5/site-packages/matplotlib/tests/baseline_images/test_mathtext/mathtext_stixsans_75.pdf\n",
      "/usr/local/lib/python3.5/site-packages/matplotlib/tests/baseline_images/test_mathtext/mathtext_stixsans_76.pdf\n",
      "/usr/local/lib/python3.5/site-packages/matplotlib/tests/baseline_images/test_mathtext/mathtext_stixsans_77.pdf\n",
      "/usr/local/lib/python3.5/site-packages/matplotlib/tests/baseline_images/test_mathtext/mathtext_stixsans_78.pdf\n",
      "/usr/local/lib/python3.5/site-packages/matplotlib/tests/baseline_images/test_mathtext/mathtext_stixsans_79.pdf\n",
      "/usr/local/lib/python3.5/site-packages/matplotlib/tests/baseline_images/test_offsetbox/offsetbox_clipping.pdf\n",
      "/usr/local/lib/python3.5/site-packages/matplotlib/tests/baseline_images/test_patches/clip_to_bbox.pdf\n",
      "/usr/local/lib/python3.5/site-packages/matplotlib/tests/baseline_images/test_patches/patch_alpha_coloring.pdf\n",
      "/usr/local/lib/python3.5/site-packages/matplotlib/tests/baseline_images/test_patches/patch_alpha_override.pdf\n",
      "/usr/local/lib/python3.5/site-packages/matplotlib/tests/baseline_images/test_patches/patch_custom_linestyle.pdf\n",
      "/usr/local/lib/python3.5/site-packages/matplotlib/tests/baseline_images/test_patches/wedge_range.pdf\n",
      "/usr/local/lib/python3.5/site-packages/matplotlib/tests/baseline_images/test_path/marker_paths.pdf\n",
      "/usr/local/lib/python3.5/site-packages/matplotlib/tests/baseline_images/test_path/xkcd.pdf\n",
      "/usr/local/lib/python3.5/site-packages/matplotlib/tests/baseline_images/test_patheffects/collection.pdf\n",
      "/usr/local/lib/python3.5/site-packages/matplotlib/tests/baseline_images/test_patheffects/patheffect1.pdf\n",
      "/usr/local/lib/python3.5/site-packages/matplotlib/tests/baseline_images/test_patheffects/patheffect2.pdf\n",
      "/usr/local/lib/python3.5/site-packages/matplotlib/tests/baseline_images/test_patheffects/patheffect3.pdf\n",
      "/usr/local/lib/python3.5/site-packages/matplotlib/tests/baseline_images/test_scale/log_scales.pdf\n",
      "/usr/local/lib/python3.5/site-packages/matplotlib/tests/baseline_images/test_simplification/clipper_edge.pdf\n",
      "/usr/local/lib/python3.5/site-packages/matplotlib/tests/baseline_images/test_simplification/clipping.pdf\n",
      "/usr/local/lib/python3.5/site-packages/matplotlib/tests/baseline_images/test_simplification/clipping_diamond.pdf\n",
      "/usr/local/lib/python3.5/site-packages/matplotlib/tests/baseline_images/test_simplification/clipping_with_nans.pdf\n",
      "/usr/local/lib/python3.5/site-packages/matplotlib/tests/baseline_images/test_simplification/fft_peaks.pdf\n",
      "/usr/local/lib/python3.5/site-packages/matplotlib/tests/baseline_images/test_simplification/hatch_simplify.pdf\n",
      "/usr/local/lib/python3.5/site-packages/matplotlib/tests/baseline_images/test_simplification/overflow.pdf\n",
      "/usr/local/lib/python3.5/site-packages/matplotlib/tests/baseline_images/test_simplification/para_equal_perp.pdf\n",
      "/usr/local/lib/python3.5/site-packages/matplotlib/tests/baseline_images/test_simplification/simplify_curve.pdf\n",
      "/usr/local/lib/python3.5/site-packages/matplotlib/tests/baseline_images/test_skew/skew_axes.pdf\n",
      "/usr/local/lib/python3.5/site-packages/matplotlib/tests/baseline_images/test_skew/skew_rects.pdf\n",
      "/usr/local/lib/python3.5/site-packages/matplotlib/tests/baseline_images/test_spines/spines_axes_positions.pdf\n",
      "/usr/local/lib/python3.5/site-packages/matplotlib/tests/baseline_images/test_spines/spines_capstyle.pdf\n",
      "/usr/local/lib/python3.5/site-packages/matplotlib/tests/baseline_images/test_spines/spines_data_positions.pdf\n",
      "/usr/local/lib/python3.5/site-packages/matplotlib/tests/baseline_images/test_streamplot/streamplot_colormap_test_image.pdf\n",
      "/usr/local/lib/python3.5/site-packages/matplotlib/tests/baseline_images/test_streamplot/streamplot_linewidth_test_image.pdf\n",
      "/usr/local/lib/python3.5/site-packages/matplotlib/tests/baseline_images/test_streamplot/streamplot_masks_and_nans_test_image.pdf\n",
      "/usr/local/lib/python3.5/site-packages/matplotlib/tests/baseline_images/test_subplots/subplots_offset_text.pdf\n",
      "/usr/local/lib/python3.5/site-packages/matplotlib/tests/baseline_images/test_text/font_styles.pdf\n",
      "/usr/local/lib/python3.5/site-packages/matplotlib/tests/baseline_images/test_text/multiline.pdf\n",
      "/usr/local/lib/python3.5/site-packages/matplotlib/tests/baseline_images/test_text/text_alignment.pdf\n",
      "/usr/local/lib/python3.5/site-packages/matplotlib/tests/baseline_images/test_text/text_bboxclip.pdf\n",
      "/usr/local/lib/python3.5/site-packages/matplotlib/tests/baseline_images/test_text/titles.pdf\n",
      "/usr/local/lib/python3.5/site-packages/matplotlib/tests/baseline_images/test_tightlayout/tight_layout1.pdf\n",
      "/usr/local/lib/python3.5/site-packages/matplotlib/tests/baseline_images/test_tightlayout/tight_layout2.pdf\n",
      "/usr/local/lib/python3.5/site-packages/matplotlib/tests/baseline_images/test_tightlayout/tight_layout3.pdf\n",
      "/usr/local/lib/python3.5/site-packages/matplotlib/tests/baseline_images/test_tightlayout/tight_layout4.pdf\n",
      "/usr/local/lib/python3.5/site-packages/matplotlib/tests/baseline_images/test_tightlayout/tight_layout5.pdf\n",
      "/usr/local/lib/python3.5/site-packages/matplotlib/tests/baseline_images/test_tightlayout/tight_layout6.pdf\n",
      "/usr/local/lib/python3.5/site-packages/matplotlib/tests/baseline_images/test_tightlayout/tight_layout7.pdf\n",
      "/usr/local/lib/python3.5/site-packages/matplotlib/tests/baseline_images/test_tightlayout/tight_layout8.pdf\n",
      "/usr/local/lib/python3.5/site-packages/matplotlib/tests/baseline_images/test_tightlayout/tight_layout_offsetboxes1.pdf\n",
      "/usr/local/lib/python3.5/site-packages/matplotlib/tests/baseline_images/test_tightlayout/tight_layout_offsetboxes2.pdf\n",
      "/usr/local/lib/python3.5/site-packages/matplotlib/tests/baseline_images/test_transforms/pre_transform_data.pdf\n",
      "/usr/local/lib/python3.5/site-packages/matplotlib/tests/baseline_images/test_ttconv/truetype-conversion.pdf\n",
      "/usr/local/lib/python3.5/site-packages/matplotlib/tests/test_backend_pdf.py\n",
      "/usr/local/lib/python3.5/site-packages/mpl_toolkits/tests/baseline_images/test_axes_grid1/divider_append_axes.pdf\n",
      "/usr/local/lib/python3.5/site-packages/mpl_toolkits/tests/baseline_images/test_mplot3d/bar3d.pdf\n",
      "/usr/local/lib/python3.5/site-packages/mpl_toolkits/tests/baseline_images/test_mplot3d/contour3d.pdf\n",
      "/usr/local/lib/python3.5/site-packages/mpl_toolkits/tests/baseline_images/test_mplot3d/contourf3d.pdf\n",
      "/usr/local/lib/python3.5/site-packages/mpl_toolkits/tests/baseline_images/test_mplot3d/contourf3d_fill.pdf\n",
      "/usr/local/lib/python3.5/site-packages/mpl_toolkits/tests/baseline_images/test_mplot3d/lines3d.pdf\n",
      "/usr/local/lib/python3.5/site-packages/mpl_toolkits/tests/baseline_images/test_mplot3d/mixedsubplot.pdf\n",
      "/usr/local/lib/python3.5/site-packages/mpl_toolkits/tests/baseline_images/test_mplot3d/quiver3d.pdf\n",
      "/usr/local/lib/python3.5/site-packages/mpl_toolkits/tests/baseline_images/test_mplot3d/quiver3d_empty.pdf\n",
      "/usr/local/lib/python3.5/site-packages/mpl_toolkits/tests/baseline_images/test_mplot3d/quiver3d_masked.pdf\n",
      "/usr/local/lib/python3.5/site-packages/mpl_toolkits/tests/baseline_images/test_mplot3d/scatter3d.pdf\n",
      "/usr/local/lib/python3.5/site-packages/mpl_toolkits/tests/baseline_images/test_mplot3d/surface3d.pdf\n",
      "/usr/local/lib/python3.5/site-packages/mpl_toolkits/tests/baseline_images/test_mplot3d/text3d.pdf\n",
      "/usr/local/lib/python3.5/site-packages/mpl_toolkits/tests/baseline_images/test_mplot3d/trisurf3d.pdf\n",
      "/usr/local/lib/python3.5/site-packages/mpl_toolkits/tests/baseline_images/test_mplot3d/wireframe3d.pdf\n"
     ]
    },
    {
     "name": "stdout",
     "output_type": "stream",
     "text": [
      "/usr/local/texlive/2016/texmf-dist/doc/latex/pythontex/pythontex.pdf\r\n",
      "/usr/local/texlive/2016/texmf-dist/doc/latex/pythontex/pythontex_gallery.pdf\r\n",
      "/usr/local/texlive/2016/texmf-dist/doc/latex/pythontex/pythontex_quickstart.pdf\r\n"
     ]
    }
   ],
   "source": [
    "!locate python | grep pdf"
   ]
  },
  {
   "cell_type": "markdown",
   "metadata": {},
   "source": [
    "You can even use Python variables in commands sent to the OS:"
   ]
  },
  {
   "cell_type": "code",
   "execution_count": 12,
   "metadata": {},
   "outputs": [
    {
     "name": "stdout",
     "output_type": "stream",
     "text": [
      "[proxychains] DLL init: proxychains-ng 4.10\n",
      "[proxychains] DLL init: proxychains-ng 4.10\n",
      "../data/baseball.csv           ../data/microbiome_missing.csv\n",
      "../data/cancer.csv             ../data/test_scores.csv\n",
      "../data/cdystonia.csv          ../data/vlbw.csv\n",
      "../data/microbiome.csv\n"
     ]
    }
   ],
   "source": [
    "file_type = 'csv'\n",
    "!ls ../data/*$file_type"
   ]
  },
  {
   "cell_type": "markdown",
   "metadata": {},
   "source": [
    "The output of a system command using the exclamation point syntax can be assigned to a Python variable."
   ]
  },
  {
   "cell_type": "code",
   "execution_count": 13,
   "metadata": {},
   "outputs": [],
   "source": [
    "data_files = !ls ../data/microbiome/"
   ]
  },
  {
   "cell_type": "code",
   "execution_count": 14,
   "metadata": {},
   "outputs": [
    {
     "data": {
      "text/plain": [
       "['[proxychains] DLL init: proxychains-ng 4.10',\n",
       " '[proxychains] DLL init: proxychains-ng 4.10',\n",
       " 'MID1.xls',\n",
       " 'MID2.xls',\n",
       " 'MID3.xls',\n",
       " 'MID4.xls',\n",
       " 'MID5.xls',\n",
       " 'MID6.xls',\n",
       " 'MID7.xls',\n",
       " 'MID8.xls',\n",
       " 'MID9.xls',\n",
       " 'metadata.xls']"
      ]
     },
     "execution_count": 14,
     "metadata": {},
     "output_type": "execute_result"
    }
   ],
   "source": [
    "data_files"
   ]
  },
  {
   "cell_type": "markdown",
   "metadata": {},
   "source": [
    "## Qt Console\n",
    "\n",
    "If you type at the system prompt:\n",
    "\n",
    "    $ ipython qtconsole\n",
    "\n",
    "instead of opening in a terminal, IPython will start a graphical console that at first sight appears just like a terminal, but which is in fact much more capable than a text-only terminal.  This is a specialized terminal designed for interactive scientific work, and it supports full multi-line editing with color highlighting and graphical calltips for functions, it can keep multiple IPython sessions open simultaneously in tabs, and when scripts run it can display the figures inline directly in the work area.\n",
    "\n",
    "![qtconsole](files/images/qtconsole.png)"
   ]
  },
  {
   "cell_type": "markdown",
   "metadata": {},
   "source": [
    "# Jupyter Notebook\n",
    "\n",
    "Over time, the IPython project grew to include several components, including:\n",
    "\n",
    "* an interactive shell\n",
    "* a REPL protocol\n",
    "* a notebook document fromat\n",
    "* a notebook document conversion tool\n",
    "* a web-based notebook authoring tool\n",
    "* tools for building interactive UI (widgets)\n",
    "* interactive parallel Python\n",
    "\n",
    "As each component has evolved, several had grown to the point that they warrented projects of their own. For example, pieces like the notebook and protocol are not even specific to Python. As the result, the IPython team created Project Jupyter, which is the new home of language-agnostic projects that began as part of IPython, such as the notebook in which you are reading this text.\n",
    "\n",
    "The HTML notebook that is part of the Jupyter project supports **interactive data visualization** and easy high-performance **parallel computing**.\n"
   ]
  },
  {
   "cell_type": "code",
   "execution_count": 15,
   "metadata": {},
   "outputs": [
    {
     "data": {
      "text/plain": [
       "[<matplotlib.lines.Line2D at 0x10dfd5a90>]"
      ]
     },
     "execution_count": 15,
     "metadata": {},
     "output_type": "execute_result"
    },
    {
     "data": {
      "image/png": "[encoded data removed]",
      "text/plain": [
       "<matplotlib.figure.Figure at 0x10ac742e8>"
      ]
     },
     "metadata": {},
     "output_type": "display_data"
    }
   ],
   "source": [
    "import matplotlib.pyplot as plt\n",
    "plt.style.use('fivethirtyeight')\n",
    "\n",
    "def f(x):\n",
    "    return (x-3)*(x-5)*(x-7)+85\n",
    "\n",
    "import numpy as np\n",
    "x = np.linspace(0, 10, 200)\n",
    "y = f(x)\n",
    "plt.plot(x,y)"
   ]
  },
  {
   "cell_type": "markdown",
   "metadata": {},
   "source": [
    "The notebook lets you document your workflow using either HTML or Markdown.\n",
    "\n",
    "The Jupyter Notebook consists of two related components:\n",
    "\n",
    "* A JSON based Notebook document format for recording and distributing Python code and rich text.\n",
    "* A web-based user interface for authoring and running notebook documents.\n",
    "\n",
    "The Notebook can be used by starting the Notebook server with the command:\n",
    "\n",
    "    $ ipython notebook\n",
    "    \n",
    "This initiates an **iPython engine**, which is a Python instance that takes Python commands over a network connection.\n",
    "\n",
    "The **IPython controller** provides an interface for working with a set of engines, to which one or more **iPython clients** can connect.\n",
    "\n",
    "The Notebook gives you everything that a browser gives you. For example, you can embed images, videos, or entire websites."
   ]
  },
  {
   "cell_type": "code",
   "execution_count": 16,
   "metadata": {},
   "outputs": [
    {
     "data": {
      "text/html": [
       "<iframe src=http://fonnesbeck.github.io/Bios8366 width=700 height=350></iframe>"
      ],
      "text/plain": [
       "<IPython.core.display.HTML object>"
      ]
     },
     "execution_count": 16,
     "metadata": {},
     "output_type": "execute_result"
    }
   ],
   "source": [
    "from IPython.display import HTML\n",
    "HTML(\"<iframe src=http://fonnesbeck.github.io/Bios8366 width=700 height=350></iframe>\")"
   ]
  },
  {
   "cell_type": "code",
   "execution_count": 17,
   "metadata": {
    "slideshow": {
     "slide_type": "slide"
    }
   },
   "outputs": [
    {
     "data": {
      "image/jpeg": "[encoded data removed]",
      "text/html": [
       "\n",
       "        <iframe\n",
       "            width=\"400\"\n",
       "            height=\"300\"\n",
       "            src=\"https://www.youtube.com/embed/rl5DaFbLc60\"\n",
       "            frameborder=\"0\"\n",
       "            allowfullscreen\n",
       "        ></iframe>\n",
       "        "
      ],
      "text/plain": [
       "<IPython.lib.display.YouTubeVideo at 0x10ac5ed68>"
      ]
     },
     "execution_count": 17,
     "metadata": {},
     "output_type": "execute_result"
    }
   ],
   "source": [
    "from IPython.display import YouTubeVideo\n",
    "YouTubeVideo(\"rl5DaFbLc60\")"
   ]
  },
  {
   "cell_type": "markdown",
   "metadata": {},
   "source": [
    "### Remote Code\n",
    "\n",
    "Use `%load` to add remote code"
   ]
  },
  {
   "cell_type": "code",
   "execution_count": null,
   "metadata": {},
   "outputs": [],
   "source": [
    "# %load http://matplotlib.org/mpl_examples/shapes_and_collections/scatter_demo.py\n",
    "\"\"\"\n",
    "Simple demo of a scatter plot.\n",
    "\"\"\"\n",
    "import numpy as np\n",
    "import matplotlib.pyplot as plt\n",
    "\n",
    "\n",
    "N = 50\n",
    "x = np.random.rand(N)\n",
    "y = np.random.rand(N)\n",
    "colors = np.random.rand(N)\n",
    "area = np.pi * (15 * np.random.rand(N))**2  # 0 to 15 point radii\n",
    "\n",
    "plt.scatter(x, y, s=area, c=colors, alpha=0.5)\n",
    "plt.show()\n"
   ]
  },
  {
   "cell_type": "markdown",
   "metadata": {},
   "source": [
    "### Mathjax Support\n",
    "\n",
    "Mathjax ia a javascript implementation $\\alpha$ of LaTeX that allows equations to be embedded into HTML. For example, this markup:\n",
    "\n",
    "    \"\"\"$$ \\int_{a}^{b} f(x)\\, dx \\approx \\frac{1}{2} \\sum_{k=1}^{N} \\left( x_{k} - x_{k-1} \\right) \\left( f(x_{k}) + f(x_{k-1}) \\right). $$\"\"\"\n",
    "    \n",
    "becomes this:\n",
    "\n",
    "$$\n",
    "\\int_{a}^{b} f(x)\\, dx \\approx \\frac{1}{2} \\sum_{k=1}^{N} \\left( x_{k} - x_{k-1} \\right) \\left( f(x_{k}) + f(x_{k-1}) \\right).\n",
    "$$"
   ]
  },
  {
   "cell_type": "markdown",
   "metadata": {},
   "source": [
    "## SymPy Support\n",
    "\n",
    "SymPy is a Python library for symbolic mathematics. It supports:\n",
    "\n",
    "* polynomials\n",
    "* calculus\n",
    "* solving equations\n",
    "* discrete math\n",
    "* matrices"
   ]
  },
  {
   "cell_type": "code",
   "execution_count": 20,
   "metadata": {},
   "outputs": [],
   "source": [
    "from sympy import *\n",
    "init_printing()\n",
    "x, y = symbols(\"x y\")"
   ]
  },
  {
   "cell_type": "code",
   "execution_count": 21,
   "metadata": {},
   "outputs": [
    {
     "data": {
      "image/png": "[encoded data removed]",
      "text/latex": [
       "$$\\left(x + 1\\right) \\left(x + y\\right)^{2}$$"
      ],
      "text/plain": [
       "               2\n",
       "(x + 1)⋅(x + y) "
      ]
     },
     "execution_count": 21,
     "metadata": {},
     "output_type": "execute_result"
    }
   ],
   "source": [
    "eq = ((x+y)**2 * (x+1))\n",
    "eq"
   ]
  },
  {
   "cell_type": "code",
   "execution_count": 22,
   "metadata": {},
   "outputs": [
    {
     "data": {
      "image/png": "[encoded data removed]",
      "text/latex": [
       "$$x^{3} + 2 x^{2} y + x^{2} + x y^{2} + 2 x y + y^{2}$$"
      ],
      "text/plain": [
       " 3      2      2      2            2\n",
       "x  + 2⋅x ⋅y + x  + x⋅y  + 2⋅x⋅y + y "
      ]
     },
     "execution_count": 22,
     "metadata": {},
     "output_type": "execute_result"
    }
   ],
   "source": [
    "expand(eq)"
   ]
  },
  {
   "cell_type": "code",
   "execution_count": 23,
   "metadata": {},
   "outputs": [
    {
     "data": {
      "image/png": "[encoded data removed]",
      "text/latex": [
       "$$1 + \\frac{x^{2}}{2} + \\frac{5 x^{4}}{24} + \\mathcal{O}\\left(x^{6}\\right)$$"
      ],
      "text/plain": [
       "     2      4        \n",
       "    x    5⋅x     ⎛ 6⎞\n",
       "1 + ── + ──── + O⎝x ⎠\n",
       "    2     24         "
      ]
     },
     "execution_count": 23,
     "metadata": {},
     "output_type": "execute_result"
    }
   ],
   "source": [
    "(1/cos(x)).series(x, 0, 6)"
   ]
  },
  {
   "cell_type": "code",
   "execution_count": 24,
   "metadata": {},
   "outputs": [
    {
     "data": {
      "image/png": "[encoded data removed]",
      "text/latex": [
       "$$- \\frac{1}{6}$$"
      ],
      "text/plain": [
       "-1/6"
      ]
     },
     "execution_count": 24,
     "metadata": {},
     "output_type": "execute_result"
    }
   ],
   "source": [
    "limit((sin(x)-x)/x**3, x, 0)"
   ]
  },
  {
   "cell_type": "code",
   "execution_count": 25,
   "metadata": {},
   "outputs": [
    {
     "data": {
      "image/png": "[encoded data removed]",
      "text/latex": [
       "$$- \\frac{4 x \\cos{\\left (x^{2} \\right )}}{x + 1} \\sin{\\left (x^{2} \\right )} - \\frac{\\cos^{2}{\\left (x^{2} \\right )}}{\\left(x + 1\\right)^{2}}$$"
      ],
      "text/plain": [
       "         ⎛ 2⎞    ⎛ 2⎞      2⎛ 2⎞\n",
       "  4⋅x⋅sin⎝x ⎠⋅cos⎝x ⎠   cos ⎝x ⎠\n",
       "- ─────────────────── - ────────\n",
       "         x + 1                 2\n",
       "                        (x + 1) "
      ]
     },
     "execution_count": 25,
     "metadata": {},
     "output_type": "execute_result"
    }
   ],
   "source": [
    "diff(cos(x**2)**2 / (1+x), x)"
   ]
  },
  {
   "cell_type": "markdown",
   "metadata": {},
   "source": [
    "### Magic functions\n",
    "\n",
    "IPython has a set of predefined ‘magic functions’ that you can call with a command line style syntax. These include:\n",
    "\n",
    "* `%run`\n",
    "* `%edit`\n",
    "* `%debug`\n",
    "* `%timeit`\n",
    "* `%paste`\n",
    "* `%load_ext`\n",
    "\n"
   ]
  },
  {
   "cell_type": "code",
   "execution_count": 26,
   "metadata": {},
   "outputs": [
    {
     "data": {
      "application/json": {
       "cell": {
        "!": "OSMagics",
        "HTML": "Other",
        "SVG": "Other",
        "bash": "Other",
        "capture": "ExecutionMagics",
        "debug": "ExecutionMagics",
        "file": "Other",
        "html": "DisplayMagics",
        "javascript": "DisplayMagics",
        "js": "DisplayMagics",
        "latex": "DisplayMagics",
        "perl": "Other",
        "prun": "ExecutionMagics",
        "pypy": "Other",
        "python": "Other",
        "python2": "Other",
        "python3": "Other",
        "ruby": "Other",
        "script": "ScriptMagics",
        "sh": "Other",
        "svg": "DisplayMagics",
        "sx": "OSMagics",
        "system": "OSMagics",
        "time": "ExecutionMagics",
        "timeit": "ExecutionMagics",
        "writefile": "OSMagics"
       },
       "line": {
        "alias": "OSMagics",
        "alias_magic": "BasicMagics",
        "autocall": "AutoMagics",
        "automagic": "AutoMagics",
        "autosave": "KernelMagics",
        "bookmark": "OSMagics",
        "cat": "Other",
        "cd": "OSMagics",
        "clear": "KernelMagics",
        "colors": "BasicMagics",
        "config": "ConfigMagics",
        "connect_info": "KernelMagics",
        "cp": "Other",
        "debug": "ExecutionMagics",
        "dhist": "OSMagics",
        "dirs": "OSMagics",
        "doctest_mode": "BasicMagics",
        "ed": "Other",
        "edit": "KernelMagics",
        "env": "OSMagics",
        "gui": "BasicMagics",
        "hist": "Other",
        "history": "HistoryMagics",
        "killbgscripts": "ScriptMagics",
        "ldir": "Other",
        "less": "KernelMagics",
        "lf": "Other",
        "lk": "Other",
        "ll": "Other",
        "load": "CodeMagics",
        "load_ext": "ExtensionMagics",
        "loadpy": "CodeMagics",
        "logoff": "LoggingMagics",
        "logon": "LoggingMagics",
        "logstart": "LoggingMagics",
        "logstate": "LoggingMagics",
        "logstop": "LoggingMagics",
        "ls": "Other",
        "lsmagic": "BasicMagics",
        "lx": "Other",
        "macro": "ExecutionMagics",
        "magic": "BasicMagics",
        "man": "KernelMagics",
        "matplotlib": "PylabMagics",
        "mkdir": "Other",
        "more": "KernelMagics",
        "mv": "Other",
        "notebook": "BasicMagics",
        "page": "BasicMagics",
        "pastebin": "CodeMagics",
        "pdb": "ExecutionMagics",
        "pdef": "NamespaceMagics",
        "pdoc": "NamespaceMagics",
        "pfile": "NamespaceMagics",
        "pinfo": "NamespaceMagics",
        "pinfo2": "NamespaceMagics",
        "popd": "OSMagics",
        "pprint": "BasicMagics",
        "precision": "BasicMagics",
        "profile": "BasicMagics",
        "prun": "ExecutionMagics",
        "psearch": "NamespaceMagics",
        "psource": "NamespaceMagics",
        "pushd": "OSMagics",
        "pwd": "OSMagics",
        "pycat": "OSMagics",
        "pylab": "PylabMagics",
        "qtconsole": "KernelMagics",
        "quickref": "BasicMagics",
        "recall": "HistoryMagics",
        "rehashx": "OSMagics",
        "reload_ext": "ExtensionMagics",
        "rep": "Other",
        "rerun": "HistoryMagics",
        "reset": "NamespaceMagics",
        "reset_selective": "NamespaceMagics",
        "rm": "Other",
        "rmdir": "Other",
        "run": "ExecutionMagics",
        "save": "CodeMagics",
        "sc": "OSMagics",
        "set_env": "OSMagics",
        "store": "StoreMagics",
        "sx": "OSMagics",
        "system": "OSMagics",
        "tb": "ExecutionMagics",
        "time": "ExecutionMagics",
        "timeit": "ExecutionMagics",
        "unalias": "OSMagics",
        "unload_ext": "ExtensionMagics",
        "who": "NamespaceMagics",
        "who_ls": "NamespaceMagics",
        "whos": "NamespaceMagics",
        "xdel": "NamespaceMagics",
        "xmode": "BasicMagics"
       }
      },
      "text/plain": [
       "Available line magics:\n",
       "%alias  %alias_magic  %autocall  %automagic  %autosave  %bookmark  %cat  %cd  %clear  %colors  %config  %connect_info  %cp  %debug  %dhist  %dirs  %doctest_mode  %ed  %edit  %env  %gui  %hist  %history  %killbgscripts  %ldir  %less  %lf  %lk  %ll  %load  %load_ext  %loadpy  %logoff  %logon  %logstart  %logstate  %logstop  %ls  %lsmagic  %lx  %macro  %magic  %man  %matplotlib  %mkdir  %more  %mv  %notebook  %page  %pastebin  %pdb  %pdef  %pdoc  %pfile  %pinfo  %pinfo2  %popd  %pprint  %precision  %profile  %prun  %psearch  %psource  %pushd  %pwd  %pycat  %pylab  %qtconsole  %quickref  %recall  %rehashx  %reload_ext  %rep  %rerun  %reset  %reset_selective  %rm  %rmdir  %run  %save  %sc  %set_env  %store  %sx  %system  %tb  %time  %timeit  %unalias  %unload_ext  %who  %who_ls  %whos  %xdel  %xmode\n",
       "\n",
       "Available cell magics:\n",
       "%%!  %%HTML  %%SVG  %%bash  %%capture  %%debug  %%file  %%html  %%javascript  %%js  %%latex  %%perl  %%prun  %%pypy  %%python  %%python2  %%python3  %%ruby  %%script  %%sh  %%svg  %%sx  %%system  %%time  %%timeit  %%writefile\n",
       "\n",
       "Automagic is ON, % prefix IS NOT needed for line magics."
      ]
     },
     "execution_count": 26,
     "metadata": {},
     "output_type": "execute_result"
    }
   ],
   "source": [
    "%lsmagic"
   ]
  },
  {
   "cell_type": "markdown",
   "metadata": {},
   "source": [
    "Timing the execution of code; the `timeit` magic exists both in line and cell form:"
   ]
  },
  {
   "cell_type": "code",
   "execution_count": 27,
   "metadata": {},
   "outputs": [
    {
     "name": "stdout",
     "output_type": "stream",
     "text": [
      "100 loops, best of 3: 5.55 ms per loop\n"
     ]
    }
   ],
   "source": [
    "%timeit np.linalg.eigvals(np.random.rand(100,100))"
   ]
  },
  {
   "cell_type": "code",
   "execution_count": 28,
   "metadata": {},
   "outputs": [
    {
     "name": "stdout",
     "output_type": "stream",
     "text": [
      "100 loops, best of 3: 5.55 ms per loop\n"
     ]
    }
   ],
   "source": [
    "%%timeit a = np.random.rand(100, 100)\n",
    "np.linalg.eigvals(a)"
   ]
  },
  {
   "cell_type": "markdown",
   "metadata": {},
   "source": [
    "IPython also creates aliases for a few common interpreters, such as bash, ruby, perl, etc.\n",
    "\n",
    "These are all equivalent to `%%script <name>`"
   ]
  },
  {
   "cell_type": "code",
   "execution_count": 29,
   "metadata": {},
   "outputs": [
    {
     "name": "stdout",
     "output_type": "stream",
     "text": [
      "Hello from Ruby 2.4.1\n"
     ]
    },
    {
     "name": "stderr",
     "output_type": "stream",
     "text": [
      "[proxychains] DLL init: proxychains-ng 4.10\n"
     ]
    }
   ],
   "source": [
    "%%ruby\n",
    "puts \"Hello from Ruby #{RUBY_VERSION}\""
   ]
  },
  {
   "cell_type": "code",
   "execution_count": 30,
   "metadata": {},
   "outputs": [
    {
     "name": "stdout",
     "output_type": "stream",
     "text": [
      "hello from /bin/bash\n"
     ]
    },
    {
     "name": "stderr",
     "output_type": "stream",
     "text": [
      "[proxychains] DLL init: proxychains-ng 4.10\n"
     ]
    }
   ],
   "source": [
    "%%bash\n",
    "echo \"hello from $BASH\""
   ]
  },
  {
   "cell_type": "markdown",
   "metadata": {},
   "source": [
    "IPython has an `rmagic` extension that contains a some magic functions for working with R via rpy2. This extension can be loaded using the `%load_ext` magic as follows:"
   ]
  },
  {
   "cell_type": "code",
   "execution_count": 33,
   "metadata": {
    "scrolled": true
   },
   "outputs": [],
   "source": [
    "%load_ext rpy2.ipython"
   ]
  },
  {
   "cell_type": "markdown",
   "metadata": {},
   "source": [
    "If the above generates an error, it is likely that you do not have the `rpy2` module installed. You can install this now via:"
   ]
  },
  {
   "cell_type": "code",
   "execution_count": 32,
   "metadata": {
    "scrolled": true
   },
   "outputs": [
    {
     "name": "stdout",
     "output_type": "stream",
     "text": [
      "[proxychains] DLL init: proxychains-ng 4.10\n",
      "[proxychains] DLL init: proxychains-ng 4.10\n",
      "[proxychains] DLL init: proxychains-ng 4.10\n",
      "Collecting rpy2\n",
      "[proxychains] Strict chain  ...  127.0.0.1:1080  ...  pypi.python.org:443  ...  OK\n",
      "  Downloading rpy2-2.8.5.tar.gz (184kB)\n",
      "\u001b[K    100% |████████████████████████████████| 184kB 882kB/s ta 0:00:01\n",
      "\u001b[?25hRequirement already satisfied: six in /Users/qianweishuo/anaconda3/lib/python3.5/site-packages (from rpy2)\n",
      "Building wheels for collected packages: rpy2\n",
      "  Running setup.py bdist_wheel for rpy2 ... \u001b[?25ldone\n",
      "\u001b[?25h  Stored in directory: /Users/qianweishuo/Library/Caches/pip/wheels/23/9e/ee/0e5f6a00aafef9935d40ebf7657278220139f0101321e30d07\n",
      "Successfully built rpy2\n",
      "Installing collected packages: rpy2\n",
      "Successfully installed rpy2-2.8.5\n",
      "[proxychains] Strict chain  ...  127.0.0.1:1080  ...  pypi.python.org:443  ...  OK\n"
     ]
    }
   ],
   "source": [
    "!pip install rpy2"
   ]
  },
  {
   "cell_type": "code",
   "execution_count": 34,
   "metadata": {},
   "outputs": [
    {
     "data": {
      "text/plain": [
       "\n",
       "Call:\n",
       "lm(formula = rnorm(10) ~ rnorm(10))\n",
       "\n",
       "Coefficients:\n",
       "(Intercept)  \n",
       "     0.4332  \n",
       "\n"
      ]
     },
     "metadata": {},
     "output_type": "display_data"
    }
   ],
   "source": [
    "x,y = np.arange(10), np.random.normal(size=10)\n",
    "%R print(lm(rnorm(10)~rnorm(10)))"
   ]
  },
  {
   "cell_type": "code",
   "execution_count": 35,
   "metadata": {},
   "outputs": [
    {
     "data": {
      "text/plain": [
       "\n",
       "Call:\n",
       "lm(formula = y ~ x)\n",
       "\n",
       "Residuals:\n",
       "    Min      1Q  Median      3Q     Max \n",
       "-1.4375 -0.6299 -0.2155  0.2086  2.4353 \n",
       "\n",
       "Coefficients:\n",
       "            Estimate Std. Error t value Pr(>|t|)\n",
       "(Intercept)   0.5850     0.7227   0.809    0.442\n",
       "x            -0.1174     0.1354  -0.867    0.411\n",
       "\n",
       "Residual standard error: 1.23 on 8 degrees of freedom\n",
       "Multiple R-squared:  0.08597,\tAdjusted R-squared:  -0.02828 \n",
       "F-statistic: 0.7525 on 1 and 8 DF,  p-value: 0.411\n",
       "\n"
      ]
     },
     "metadata": {},
     "output_type": "display_data"
    },
    {
     "data": {
      "image/png": "[encoded data removed]"
     },
     "metadata": {},
     "output_type": "display_data"
    }
   ],
   "source": [
    "%%R -i x,y -o XYcoef\n",
    "lm.fit <- lm(y~x)\n",
    "par(mfrow=c(2,2))\n",
    "print(summary(lm.fit))\n",
    "plot(lm.fit)\n",
    "XYcoef <- coef(lm.fit)"
   ]
  },
  {
   "cell_type": "code",
   "execution_count": 36,
   "metadata": {},
   "outputs": [
    {
     "data": {
      "text/plain": [
       "array([ 0.58497955, -0.11743605])"
      ]
     },
     "execution_count": 36,
     "metadata": {},
     "output_type": "execute_result"
    }
   ],
   "source": [
    "XYcoef"
   ]
  },
  {
   "cell_type": "markdown",
   "metadata": {},
   "source": [
    "### LaTeX\n",
    "\n",
    "In addition to MathJax support, you may declare a LaTeX cell using the `%latex` magic:"
   ]
  },
  {
   "cell_type": "code",
   "execution_count": 37,
   "metadata": {},
   "outputs": [
    {
     "data": {
      "text/latex": [
       "\\begin{align}\n",
       "\\nabla \\times \\vec{\\mathbf{B}} -\\, \\frac1c\\, \\frac{\\partial\\vec{\\mathbf{E}}}{\\partial t} & = \\frac{4\\pi}{c}\\vec{\\mathbf{j}} \\\\\n",
       "\\nabla \\cdot \\vec{\\mathbf{E}} & = 4 \\pi \\rho \\\\\n",
       "\\nabla \\times \\vec{\\mathbf{E}}\\, +\\, \\frac1c\\, \\frac{\\partial\\vec{\\mathbf{B}}}{\\partial t} & = \\vec{\\mathbf{0}} \\\\\n",
       "\\nabla \\cdot \\vec{\\mathbf{B}} & = 0\n",
       "\\end{align}"
      ],
      "text/plain": [
       "<IPython.core.display.Latex object>"
      ]
     },
     "metadata": {},
     "output_type": "display_data"
    }
   ],
   "source": [
    "%%latex\n",
    "\\begin{align}\n",
    "\\nabla \\times \\vec{\\mathbf{B}} -\\, \\frac1c\\, \\frac{\\partial\\vec{\\mathbf{E}}}{\\partial t} & = \\frac{4\\pi}{c}\\vec{\\mathbf{j}} \\\\\n",
    "\\nabla \\cdot \\vec{\\mathbf{E}} & = 4 \\pi \\rho \\\\\n",
    "\\nabla \\times \\vec{\\mathbf{E}}\\, +\\, \\frac1c\\, \\frac{\\partial\\vec{\\mathbf{B}}}{\\partial t} & = \\vec{\\mathbf{0}} \\\\\n",
    "\\nabla \\cdot \\vec{\\mathbf{B}} & = 0\n",
    "\\end{align}"
   ]
  },
  {
   "cell_type": "markdown",
   "metadata": {},
   "source": [
    "## Javscript\n",
    "\n",
    "Jupyter also enables objects to declare a JavaScript representation. At first, this may seem odd as output is inherently visual and JavaScript is a programming language. However, this opens the door for rich output that leverages the full power of JavaScript and associated libraries such as D3 for output."
   ]
  },
  {
   "cell_type": "code",
   "execution_count": 38,
   "metadata": {},
   "outputs": [
    {
     "data": {
      "application/javascript": [
       "\n",
       "alert(\"Hello world!\");"
      ],
      "text/plain": [
       "<IPython.core.display.Javascript object>"
      ]
     },
     "metadata": {},
     "output_type": "display_data"
    }
   ],
   "source": [
    "%%javascript\n",
    "\n",
    "alert(\"Hello world!\");"
   ]
  },
  {
   "cell_type": "markdown",
   "metadata": {},
   "source": [
    "## Exporting and Converting Notebooks\n",
    "\n",
    "In Jupyter, one can convert an `.ipynb` notebook document file into various static formats via the `nbconvert` tool. Currently, nbconvert is a command line tool, run as a script using Jupyter."
   ]
  },
  {
   "cell_type": "code",
   "execution_count": 39,
   "metadata": {},
   "outputs": [
    {
     "name": "stdout",
     "output_type": "stream",
     "text": [
      "[proxychains] DLL init: proxychains-ng 4.10\n",
      "[proxychains] DLL init: proxychains-ng 4.10\n",
      "[proxychains] DLL init: proxychains-ng 4.10\n",
      "[proxychains] DLL init: proxychains-ng 4.10\n",
      "[NbConvertApp] Converting notebook Section0-IPython_and_Jupyter.ipynb to html\n",
      "[NbConvertApp] Writing 521395 bytes to Section0-IPython_and_Jupyter.html\n"
     ]
    }
   ],
   "source": [
    "!jupyter nbconvert --to html Section0-IPython_and_Jupyter.ipynb"
   ]
  },
  {
   "cell_type": "markdown",
   "metadata": {},
   "source": [
    "Currently, `nbconvert` supports HTML (default), LaTeX, Markdown, reStructuredText, Python and HTML5 slides for presentations. Some types can be post-processed, such as LaTeX to PDF (this requires [Pandoc](http://johnmacfarlane.net/pandoc/) to be installed, however)."
   ]
  },
  {
   "cell_type": "code",
   "execution_count": 40,
   "metadata": {},
   "outputs": [
    {
     "name": "stdout",
     "output_type": "stream",
     "text": [
      "[proxychains] DLL init: proxychains-ng 4.10\n",
      "[proxychains] DLL init: proxychains-ng 4.10\n",
      "[proxychains] DLL init: proxychains-ng 4.10\n",
      "[proxychains] DLL init: proxychains-ng 4.10\n",
      "[NbConvertApp] Converting notebook Section2_1-Introduction-to-Pandas.ipynb to pdf\n",
      "[proxychains] DLL init: proxychains-ng 4.10\n",
      "[proxychains] DLL init: proxychains-ng 4.10\n",
      "[proxychains] DLL init: proxychains-ng 4.10\n",
      "[proxychains] DLL init: proxychains-ng 4.10\n",
      "[proxychains] DLL init: proxychains-ng 4.10\n",
      "[proxychains] DLL init: proxychains-ng 4.10\n",
      "[proxychains] DLL init: proxychains-ng 4.10\n",
      "[proxychains] DLL init: proxychains-ng 4.10\n",
      "[proxychains] DLL init: proxychains-ng 4.10\n",
      "[proxychains] DLL init: proxychains-ng 4.10\n",
      "[proxychains] DLL init: proxychains-ng 4.10\n",
      "[proxychains] DLL init: proxychains-ng 4.10\n",
      "[proxychains] DLL init: proxychains-ng 4.10\n",
      "[proxychains] DLL init: proxychains-ng 4.10\n",
      "[proxychains] DLL init: proxychains-ng 4.10\n",
      "[proxychains] DLL init: proxychains-ng 4.10\n",
      "[proxychains] DLL init: proxychains-ng 4.10\n",
      "[proxychains] DLL init: proxychains-ng 4.10\n",
      "[proxychains] DLL init: proxychains-ng 4.10\n",
      "[proxychains] DLL init: proxychains-ng 4.10\n",
      "[proxychains] DLL init: proxychains-ng 4.10\n",
      "[proxychains] DLL init: proxychains-ng 4.10\n",
      "[proxychains] DLL init: proxychains-ng 4.10\n",
      "[proxychains] DLL init: proxychains-ng 4.10\n",
      "[proxychains] DLL init: proxychains-ng 4.10\n",
      "[proxychains] DLL init: proxychains-ng 4.10\n",
      "[proxychains] DLL init: proxychains-ng 4.10\n",
      "[proxychains] DLL init: proxychains-ng 4.10\n",
      "[proxychains] DLL init: proxychains-ng 4.10\n",
      "[proxychains] DLL init: proxychains-ng 4.10\n",
      "[proxychains] DLL init: proxychains-ng 4.10\n",
      "[proxychains] DLL init: proxychains-ng 4.10\n",
      "[proxychains] DLL init: proxychains-ng 4.10\n",
      "[proxychains] DLL init: proxychains-ng 4.10\n",
      "[proxychains] DLL init: proxychains-ng 4.10\n",
      "[proxychains] DLL init: proxychains-ng 4.10\n",
      "[proxychains] DLL init: proxychains-ng 4.10\n",
      "[proxychains] DLL init: proxychains-ng 4.10\n",
      "[proxychains] DLL init: proxychains-ng 4.10\n",
      "[proxychains] DLL init: proxychains-ng 4.10\n",
      "[proxychains] DLL init: proxychains-ng 4.10\n",
      "[proxychains] DLL init: proxychains-ng 4.10\n",
      "[proxychains] DLL init: proxychains-ng 4.10\n",
      "[proxychains] DLL init: proxychains-ng 4.10\n",
      "[proxychains] DLL init: proxychains-ng 4.10\n",
      "[proxychains] DLL init: proxychains-ng 4.10\n",
      "[proxychains] DLL init: proxychains-ng 4.10\n",
      "[proxychains] DLL init: proxychains-ng 4.10\n",
      "[proxychains] DLL init: proxychains-ng 4.10\n",
      "[proxychains] DLL init: proxychains-ng 4.10\n",
      "[proxychains] DLL init: proxychains-ng 4.10\n",
      "[proxychains] DLL init: proxychains-ng 4.10\n",
      "[proxychains] DLL init: proxychains-ng 4.10\n",
      "[proxychains] DLL init: proxychains-ng 4.10\n",
      "[proxychains] DLL init: proxychains-ng 4.10\n",
      "[proxychains] DLL init: proxychains-ng 4.10\n",
      "[proxychains] DLL init: proxychains-ng 4.10\n",
      "[proxychains] DLL init: proxychains-ng 4.10\n",
      "[proxychains] DLL init: proxychains-ng 4.10\n",
      "[proxychains] DLL init: proxychains-ng 4.10\n",
      "[proxychains] DLL init: proxychains-ng 4.10\n",
      "[proxychains] DLL init: proxychains-ng 4.10\n",
      "[proxychains] DLL init: proxychains-ng 4.10\n",
      "[proxychains] DLL init: proxychains-ng 4.10\n",
      "[proxychains] DLL init: proxychains-ng 4.10\n",
      "[proxychains] DLL init: proxychains-ng 4.10\n",
      "[proxychains] DLL init: proxychains-ng 4.10\n",
      "[proxychains] DLL init: proxychains-ng 4.10\n",
      "[proxychains] DLL init: proxychains-ng 4.10\n",
      "[proxychains] DLL init: proxychains-ng 4.10\n",
      "[proxychains] DLL init: proxychains-ng 4.10\n",
      "[proxychains] DLL init: proxychains-ng 4.10\n",
      "[proxychains] DLL init: proxychains-ng 4.10\n",
      "[proxychains] DLL init: proxychains-ng 4.10\n",
      "[proxychains] DLL init: proxychains-ng 4.10\n",
      "[proxychains] DLL init: proxychains-ng 4.10\n",
      "[proxychains] DLL init: proxychains-ng 4.10\n",
      "[proxychains] DLL init: proxychains-ng 4.10\n",
      "[proxychains] DLL init: proxychains-ng 4.10\n",
      "[proxychains] DLL init: proxychains-ng 4.10\n",
      "[proxychains] DLL init: proxychains-ng 4.10\n",
      "[proxychains] DLL init: proxychains-ng 4.10\n",
      "[proxychains] DLL init: proxychains-ng 4.10\n",
      "[proxychains] DLL init: proxychains-ng 4.10\n",
      "[proxychains] DLL init: proxychains-ng 4.10\n",
      "[proxychains] DLL init: proxychains-ng 4.10\n",
      "[proxychains] DLL init: proxychains-ng 4.10\n",
      "[proxychains] DLL init: proxychains-ng 4.10\n",
      "[proxychains] DLL init: proxychains-ng 4.10\n",
      "[proxychains] DLL init: proxychains-ng 4.10\n",
      "[proxychains] DLL init: proxychains-ng 4.10\n",
      "[proxychains] DLL init: proxychains-ng 4.10\n",
      "[proxychains] DLL init: proxychains-ng 4.10\n",
      "[proxychains] DLL init: proxychains-ng 4.10\n",
      "[proxychains] DLL init: proxychains-ng 4.10\n",
      "[proxychains] DLL init: proxychains-ng 4.10\n",
      "[proxychains] DLL init: proxychains-ng 4.10\n",
      "[proxychains] DLL init: proxychains-ng 4.10\n",
      "[proxychains] DLL init: proxychains-ng 4.10\n",
      "[proxychains] DLL init: proxychains-ng 4.10\n",
      "[proxychains] DLL init: proxychains-ng 4.10\n",
      "[proxychains] DLL init: proxychains-ng 4.10\n",
      "[proxychains] DLL init: proxychains-ng 4.10\n",
      "[proxychains] DLL init: proxychains-ng 4.10\n",
      "[proxychains] DLL init: proxychains-ng 4.10\n",
      "[proxychains] DLL init: proxychains-ng 4.10\n",
      "[proxychains] DLL init: proxychains-ng 4.10\n",
      "[proxychains] DLL init: proxychains-ng 4.10\n",
      "[proxychains] DLL init: proxychains-ng 4.10\n",
      "[proxychains] DLL init: proxychains-ng 4.10\n",
      "[proxychains] DLL init: proxychains-ng 4.10\n",
      "[proxychains] DLL init: proxychains-ng 4.10\n",
      "[proxychains] DLL init: proxychains-ng 4.10\n",
      "[proxychains] DLL init: proxychains-ng 4.10\n",
      "[proxychains] DLL init: proxychains-ng 4.10\n",
      "[proxychains] DLL init: proxychains-ng 4.10\n",
      "[proxychains] DLL init: proxychains-ng 4.10\n",
      "[proxychains] DLL init: proxychains-ng 4.10\n",
      "[proxychains] DLL init: proxychains-ng 4.10\n",
      "[proxychains] DLL init: proxychains-ng 4.10\n",
      "[proxychains] DLL init: proxychains-ng 4.10\n",
      "[proxychains] DLL init: proxychains-ng 4.10\n",
      "[proxychains] DLL init: proxychains-ng 4.10\n",
      "[proxychains] DLL init: proxychains-ng 4.10\n",
      "[proxychains] DLL init: proxychains-ng 4.10\n",
      "[proxychains] DLL init: proxychains-ng 4.10\n",
      "[proxychains] DLL init: proxychains-ng 4.10\n",
      "[proxychains] DLL init: proxychains-ng 4.10\n",
      "[proxychains] DLL init: proxychains-ng 4.10\n",
      "[proxychains] DLL init: proxychains-ng 4.10\n",
      "[proxychains] DLL init: proxychains-ng 4.10\n",
      "[proxychains] DLL init: proxychains-ng 4.10\n",
      "[proxychains] DLL init: proxychains-ng 4.10\n",
      "[NbConvertApp] Writing 89369 bytes to notebook.tex\n",
      "[NbConvertApp] Building PDF\n",
      "[NbConvertApp] Running pdflatex 3 times: ['pdflatex', 'notebook.tex']\n",
      "[NbConvertApp] Running bibtex 1 time: ['bibtex', 'notebook']\n",
      "[NbConvertApp] WARNING | bibtex had problems, most likely because there were no citations\n",
      "[NbConvertApp] PDF successfully created\n",
      "[NbConvertApp] Writing 177906 bytes to Section2_1-Introduction-to-Pandas.pdf\n"
     ]
    }
   ],
   "source": [
    "!jupyter nbconvert --to pdf Section2_1-Introduction-to-Pandas.ipynb"
   ]
  },
  {
   "cell_type": "markdown",
   "metadata": {},
   "source": [
    "A very useful online service is the [IPython Notebook Viewer](http://nbviewer.ipython.org) which allows you to display your notebook as a static HTML page, which is useful for sharing with others:"
   ]
  },
  {
   "cell_type": "code",
   "execution_count": 41,
   "metadata": {},
   "outputs": [
    {
     "data": {
      "text/html": [
       "<iframe src=http://nbviewer.ipython.org/2352771 width=700 height=300></iframe>"
      ],
      "text/plain": [
       "<IPython.core.display.HTML object>"
      ]
     },
     "metadata": {},
     "output_type": "display_data"
    }
   ],
   "source": [
    "%%html\n",
    "<iframe src=http://nbviewer.ipython.org/2352771 width=700 height=300></iframe>"
   ]
  },
  {
   "cell_type": "markdown",
   "metadata": {},
   "source": [
    "Also, GitHub supports the [rendering of Jupyter Notebooks](https://github.com/fonnesbeck/Bios8366/blob/master/notebooks/Section1_2-Programming-with-Python.ipynb) stored on its repositories."
   ]
  },
  {
   "cell_type": "markdown",
   "metadata": {},
   "source": [
    "## Reproducible Research\n",
    "\n",
    "> reproducing conclusions from a single experiment based on the measurements from that experiment\n",
    "\n",
    "The most basic form of reproducibility is a complete description of the data and associated analyses (including code!) so the results can be *exactly* reproduced by others.\n",
    "\n",
    "Reproducing calculations can be onerous, even with one's own work!\n",
    "\n",
    "Scientific data are becoming larger and more complex, making simple descriptions inadequate for reproducibility. As a result, most modern research is irreproducible without tremendous effort.\n",
    "\n",
    "*** Reproducible research is not yet part of the culture of science in general, or scientific computing in particular. ***"
   ]
  },
  {
   "cell_type": "markdown",
   "metadata": {},
   "source": [
    "## Scientific Computing Workflow\n",
    "\n",
    "There are a number of steps to scientific endeavors that involve computing:\n",
    "\n",
    "![workflow](http://f.cl.ly/items/3B0l063n2T0H1p041U3L/workflow.png)\n",
    "\n",
    "\n",
    "Many of the standard tools impose barriers between one or more of these steps. This can make it difficult to iterate, reproduce work.\n",
    "\n",
    "The Jupyter notebook eliminates or reduces these barriers to reproducibility."
   ]
  },
  {
   "cell_type": "markdown",
   "metadata": {},
   "source": [
    "## Parallel iPython\n",
    "\n",
    "At a high level, there are three basic components to parallel IPython:\n",
    "\n",
    "* Engine(s) - the remote or distributed processes where your code runs.\n",
    "* Client - your interface to running code on Engines.\n",
    "* Controller - the collection of processes that coordinate Engines and Clients.\n",
    "\n",
    "These components live in the `IPython.parallel` package, which has been rolled out into its own model that requires installation.\n",
    "\n",
    "To install ipyparallel:\n",
    "\n",
    "```bash\n",
    "pip install ipyparallel\n",
    "```\n",
    "\n",
    "or via `conda`:\n",
    "\n",
    "```bash\n",
    "conda install ipyparallel\n",
    "```\n",
    "\n",
    "To install the IPython Clusters tab in Jupyter Notebook, add this to your `jupyter_notebook_config.py`:\n",
    "\n",
    "```python\n",
    "c.NotebookApp.server_extensions.append('ipyparallel.nbextension')\n",
    "```\n",
    "\n",
    "This file resides in your `~/.jupyter` subdirectory of your home directory, and should be created if it does not already exist."
   ]
  },
  {
   "cell_type": "markdown",
   "metadata": {},
   "source": [
    "Before running the next cell, make sure you have first started your cluster, you can use the [clusters tab in the dashboard](/#tab2) to do so.  "
   ]
  },
  {
   "cell_type": "code",
   "execution_count": null,
   "metadata": {},
   "outputs": [],
   "source": [
    "from ipyparallel import Client\n",
    "client = Client()\n",
    "dv = client.direct_view()"
   ]
  },
  {
   "cell_type": "code",
   "execution_count": null,
   "metadata": {},
   "outputs": [],
   "source": [
    "len(dv)"
   ]
  },
  {
   "cell_type": "code",
   "execution_count": null,
   "metadata": {},
   "outputs": [],
   "source": [
    "def where_am_i():\n",
    "    import os\n",
    "    import socket\n",
    "    \n",
    "    return \"In process with pid {0} on host: '{1}'\".format(\n",
    "        os.getpid(), socket.gethostname())"
   ]
  },
  {
   "cell_type": "code",
   "execution_count": null,
   "metadata": {},
   "outputs": [],
   "source": [
    "where_am_i_direct_results = dv.apply(where_am_i)\n",
    "where_am_i_direct_results.get()"
   ]
  },
  {
   "cell_type": "markdown",
   "metadata": {},
   "source": [
    "## Links and References"
   ]
  },
  {
   "cell_type": "markdown",
   "metadata": {},
   "source": [
    "[IPython Notebook Viewer](http://nbviewer.ipython.org) Displays static HTML versions of notebooks, and includes a gallery of notebook examples."
   ]
  },
  {
   "cell_type": "markdown",
   "metadata": {},
   "source": [
    "[NotebookCloud](https://notebookcloud.appspot.com) A service that allows you to launch and control IPython Notebook servers on Amazon EC2 from your browser."
   ]
  },
  {
   "cell_type": "markdown",
   "metadata": {},
   "source": [
    "[A Reference-Free Algorithm for Computational Normalization of Shotgun Sequencing Data](http://ged.msu.edu/papers/2012-diginorm/) A landmark example of reproducible research in genomics: Git repo, iPython notebook, data and scripts.\n",
    "\n",
    "Jacques Ravel and K Eric Wommack. 2014. [All Hail Reproducibility in Microbiome Research](http://www.microbiomejournal.com/content/pdf/2049-2618-2-8.pdf). Microbiome, 2:8.\n",
    "\n",
    "Benjamin Ragan-Kelley et al.. 2013. [Collaborative cloud-enabled tools allow rapid, reproducible biological insights](http://www.nature.com/ismej/journal/v7/n3/full/ismej2012123a.html). The ISME Journal, 7, 461–464; doi:10.1038/ismej.2012.123;"
   ]
  }
 ],
 "metadata": {
  "anaconda-cloud": {},
  "kernelspec": {
   "display_name": "Python [default]",
   "language": "python",
   "name": "python3"
  },
  "language_info": {
   "codemirror_mode": {
    "name": "ipython",
    "version": 3
   },
   "file_extension": ".py",
   "mimetype": "text/x-python",
   "name": "python",
   "nbconvert_exporter": "python",
   "pygments_lexer": "ipython3",
   "version": "3.5.2"
  },
  "nav_menu": {},
  "toc": {
   "navigate_menu": true,
   "number_sections": false,
   "sideBar": true,
   "threshold": 6,
   "toc_cell": false,
   "toc_section_display": "block",
   "toc_window_display": false
  }
 },
 "nbformat": 4,
 "nbformat_minor": 1
}
